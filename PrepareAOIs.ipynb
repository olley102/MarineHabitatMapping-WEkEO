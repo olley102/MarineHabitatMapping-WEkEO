{
 "cells": [
  {
   "cell_type": "markdown",
   "id": "f23e4d17-4f6e-469f-afa8-3d7472df0891",
   "metadata": {},
   "source": [
    "# Areas of Interest\n",
    "\n",
    "ArcGIS Pro has been used to create rectangular polygon features around areas of interest, which will be used to reduce the computation of satellite data and other sources.\n",
    "\n",
    "This notebook simply converts these features from vertices in a CSV file to a dictionary of values that can be used for the `geoRegion` parameter of the Subset node of a SNAP graph. Edges are corrected to be exactly vertical or exactly horizontal to improve efficiency."
   ]
  },
  {
   "cell_type": "code",
   "execution_count": 2,
   "id": "e9e99d27-423c-44a7-be44-e9c4975df81e",
   "metadata": {},
   "outputs": [],
   "source": [
    "import pandas as pd"
   ]
  },
  {
   "cell_type": "code",
   "execution_count": 3,
   "id": "8827e1a4-54e8-47f8-b420-46c336233b75",
   "metadata": {},
   "outputs": [],
   "source": [
    "df = pd.read_csv('AOIs.csv', header=None)"
   ]
  },
  {
   "cell_type": "code",
   "execution_count": 4,
   "id": "c11087da-a381-4574-ba1a-8f9392ac71f9",
   "metadata": {},
   "outputs": [
    {
     "data": {
      "text/html": [
       "<div>\n",
       "<style scoped>\n",
       "    .dataframe tbody tr th:only-of-type {\n",
       "        vertical-align: middle;\n",
       "    }\n",
       "\n",
       "    .dataframe tbody tr th {\n",
       "        vertical-align: top;\n",
       "    }\n",
       "\n",
       "    .dataframe thead th {\n",
       "        text-align: right;\n",
       "    }\n",
       "</style>\n",
       "<table border=\"1\" class=\"dataframe\">\n",
       "  <thead>\n",
       "    <tr style=\"text-align: right;\">\n",
       "      <th></th>\n",
       "      <th>0</th>\n",
       "      <th>1</th>\n",
       "      <th>2</th>\n",
       "      <th>3</th>\n",
       "    </tr>\n",
       "  </thead>\n",
       "  <tbody>\n",
       "    <tr>\n",
       "      <th>0</th>\n",
       "      <td>-5.221344</td>\n",
       "      <td>49.990184</td>\n",
       "      <td>30UUA</td>\n",
       "      <td>2</td>\n",
       "    </tr>\n",
       "    <tr>\n",
       "      <th>1</th>\n",
       "      <td>-5.224443</td>\n",
       "      <td>50.286487</td>\n",
       "      <td>30UUA</td>\n",
       "      <td>2</td>\n",
       "    </tr>\n",
       "    <tr>\n",
       "      <th>2</th>\n",
       "      <td>-4.885354</td>\n",
       "      <td>50.290033</td>\n",
       "      <td>30UUA</td>\n",
       "      <td>2</td>\n",
       "    </tr>\n",
       "    <tr>\n",
       "      <th>3</th>\n",
       "      <td>-4.882255</td>\n",
       "      <td>49.993731</td>\n",
       "      <td>30UUA</td>\n",
       "      <td>2</td>\n",
       "    </tr>\n",
       "    <tr>\n",
       "      <th>4</th>\n",
       "      <td>-5.221344</td>\n",
       "      <td>49.990184</td>\n",
       "      <td>30UUA</td>\n",
       "      <td>2</td>\n",
       "    </tr>\n",
       "  </tbody>\n",
       "</table>\n",
       "</div>"
      ],
      "text/plain": [
       "          0          1      2  3\n",
       "0 -5.221344  49.990184  30UUA  2\n",
       "1 -5.224443  50.286487  30UUA  2\n",
       "2 -4.885354  50.290033  30UUA  2\n",
       "3 -4.882255  49.993731  30UUA  2\n",
       "4 -5.221344  49.990184  30UUA  2"
      ]
     },
     "execution_count": 4,
     "metadata": {},
     "output_type": "execute_result"
    }
   ],
   "source": [
    "df.head()"
   ]
  },
  {
   "cell_type": "markdown",
   "id": "3bbb8e55-474c-49b5-a6c4-32a49a6f8f4e",
   "metadata": {},
   "source": [
    "Each polygon has a unique value in column 3."
   ]
  },
  {
   "cell_type": "code",
   "execution_count": 5,
   "id": "3e031307-51ce-4d6e-ae9c-3ebd43748eef",
   "metadata": {},
   "outputs": [
    {
     "data": {
      "text/plain": [
       "array([ 2,  3,  4,  6,  9, 11, 12, 13, 14, 15, 16, 17, 18, 19, 20, 21, 22,\n",
       "       23, 24, 25, 26, 27, 28])"
      ]
     },
     "execution_count": 5,
     "metadata": {},
     "output_type": "execute_result"
    }
   ],
   "source": [
    "df[3].unique()"
   ]
  },
  {
   "cell_type": "code",
   "execution_count": 6,
   "id": "00bd6c7c-b5c9-46cb-8ae6-c5d1538df01e",
   "metadata": {},
   "outputs": [
    {
     "data": {
      "text/html": [
       "<div>\n",
       "<style scoped>\n",
       "    .dataframe tbody tr th:only-of-type {\n",
       "        vertical-align: middle;\n",
       "    }\n",
       "\n",
       "    .dataframe tbody tr th {\n",
       "        vertical-align: top;\n",
       "    }\n",
       "\n",
       "    .dataframe thead th {\n",
       "        text-align: right;\n",
       "    }\n",
       "</style>\n",
       "<table border=\"1\" class=\"dataframe\">\n",
       "  <thead>\n",
       "    <tr style=\"text-align: right;\">\n",
       "      <th></th>\n",
       "      <th>0</th>\n",
       "      <th>1</th>\n",
       "      <th>2</th>\n",
       "      <th>3</th>\n",
       "    </tr>\n",
       "  </thead>\n",
       "  <tbody>\n",
       "    <tr>\n",
       "      <th>0</th>\n",
       "      <td>-5.221344</td>\n",
       "      <td>49.990184</td>\n",
       "      <td>30UUA</td>\n",
       "      <td>2</td>\n",
       "    </tr>\n",
       "    <tr>\n",
       "      <th>1</th>\n",
       "      <td>-5.224443</td>\n",
       "      <td>50.286487</td>\n",
       "      <td>30UUA</td>\n",
       "      <td>2</td>\n",
       "    </tr>\n",
       "    <tr>\n",
       "      <th>2</th>\n",
       "      <td>-4.885354</td>\n",
       "      <td>50.290033</td>\n",
       "      <td>30UUA</td>\n",
       "      <td>2</td>\n",
       "    </tr>\n",
       "    <tr>\n",
       "      <th>3</th>\n",
       "      <td>-4.882255</td>\n",
       "      <td>49.993731</td>\n",
       "      <td>30UUA</td>\n",
       "      <td>2</td>\n",
       "    </tr>\n",
       "    <tr>\n",
       "      <th>4</th>\n",
       "      <td>-5.221344</td>\n",
       "      <td>49.990184</td>\n",
       "      <td>30UUA</td>\n",
       "      <td>2</td>\n",
       "    </tr>\n",
       "  </tbody>\n",
       "</table>\n",
       "</div>"
      ],
      "text/plain": [
       "          0          1      2  3\n",
       "0 -5.221344  49.990184  30UUA  2\n",
       "1 -5.224443  50.286487  30UUA  2\n",
       "2 -4.885354  50.290033  30UUA  2\n",
       "3 -4.882255  49.993731  30UUA  2\n",
       "4 -5.221344  49.990184  30UUA  2"
      ]
     },
     "execution_count": 6,
     "metadata": {},
     "output_type": "execute_result"
    }
   ],
   "source": [
    "df[df[3]==2]"
   ]
  },
  {
   "cell_type": "markdown",
   "id": "3d9627fd-7f45-48f5-9524-f79cade6d75d",
   "metadata": {},
   "source": [
    "We need the extremes of longitude and latitude for each polygon."
   ]
  },
  {
   "cell_type": "code",
   "execution_count": 7,
   "id": "104d738e-9ba3-46c2-a86e-a35a4bdcb9dc",
   "metadata": {},
   "outputs": [
    {
     "data": {
      "text/plain": [
       "[-5.22444257, 49.9901843, -4.88225479, 50.29003327]"
      ]
     },
     "execution_count": 7,
     "metadata": {},
     "output_type": "execute_result"
    }
   ],
   "source": [
    "[\n",
    "    df[df[3]==2][0].min(),\n",
    "    df[df[3]==2][1].min(),\n",
    "    df[df[3]==2][0].max(),\n",
    "    df[df[3]==2][1].max()\n",
    "]"
   ]
  },
  {
   "cell_type": "code",
   "execution_count": 8,
   "id": "add9c5f4-ac4e-4803-af16-20b3bc6b292a",
   "metadata": {},
   "outputs": [],
   "source": [
    "bbox = [\n",
    "    df[df[3]==2][0].min(),\n",
    "    df[df[3]==2][1].min(),\n",
    "    df[df[3]==2][0].max(),\n",
    "    df[df[3]==2][1].max()\n",
    "]"
   ]
  },
  {
   "cell_type": "markdown",
   "id": "a331f8d7-9f24-419d-b60f-04ce438ff7bb",
   "metadata": {},
   "source": [
    "Then we get the vertices of our `geoRegion`."
   ]
  },
  {
   "cell_type": "code",
   "execution_count": 14,
   "id": "0673b45b-7e85-4422-81cc-3733171cd391",
   "metadata": {},
   "outputs": [
    {
     "data": {
      "text/plain": [
       "'POLYGON ((-5.22444257 49.9901843, -4.88225479 49.9901843, -4.88225479 50.29003327, -5.22444257 50.29003327, -5.22444257 49.9901843))'"
      ]
     },
     "execution_count": 14,
     "metadata": {},
     "output_type": "execute_result"
    }
   ],
   "source": [
    "f\"POLYGON (({bbox[0]} {bbox[1]}, {bbox[2]} {bbox[1]}, {bbox[2]} {bbox[3]}, {bbox[0]} {bbox[3]}, {bbox[0]} {bbox[1]}))\""
   ]
  },
  {
   "cell_type": "code",
   "execution_count": 15,
   "id": "0333126e-c82d-4aff-bec9-3378e5619a0d",
   "metadata": {},
   "outputs": [],
   "source": [
    "def poly_to_geoRegion(p):\n",
    "    bbox = [\n",
    "        df[df[3]==p][0].min(),\n",
    "        df[df[3]==p][1].min(),\n",
    "        df[df[3]==p][0].max(),\n",
    "        df[df[3]==p][1].max()\n",
    "    ]\n",
    "    return f\"POLYGON (({bbox[0]} {bbox[1]}, {bbox[2]} {bbox[1]}, {bbox[2]} {bbox[3]}, {bbox[0]} {bbox[3]}, {bbox[0]} {bbox[1]}))\""
   ]
  },
  {
   "cell_type": "markdown",
   "id": "91789cda-420c-4880-a79a-d334d10fb27e",
   "metadata": {},
   "source": [
    "We also need the tile_Id from column 2."
   ]
  },
  {
   "cell_type": "code",
   "execution_count": 16,
   "id": "b4eb9851-ac30-42f5-9378-54bf7798e113",
   "metadata": {},
   "outputs": [
    {
     "data": {
      "text/plain": [
       "'30UUA'"
      ]
     },
     "execution_count": 16,
     "metadata": {},
     "output_type": "execute_result"
    }
   ],
   "source": [
    "df[df[3]==2][2][0]"
   ]
  },
  {
   "cell_type": "code",
   "execution_count": 21,
   "id": "f0df7002-e941-4a74-a41c-dcac6c6f1aac",
   "metadata": {},
   "outputs": [],
   "source": [
    "poly_dict = {str(p): {'geoRegion': poly_to_geoRegion(p), 'tile_Id': df[df[3]==p][2].iloc[0]} for p in df[3].unique()}"
   ]
  },
  {
   "cell_type": "code",
   "execution_count": 22,
   "id": "ddb8e96e-4b0d-4b11-8501-8ef432e17d47",
   "metadata": {},
   "outputs": [
    {
     "data": {
      "text/plain": [
       "{'2': {'geoRegion': 'POLYGON ((-5.22444257 49.9901843, -4.88225479 49.9901843, -4.88225479 50.29003327, -5.22444257 50.29003327, -5.22444257 49.9901843))',\n",
       "  'tile_Id': '30UUA'},\n",
       " '3': {'geoRegion': 'POLYGON ((-4.81917128 50.19269224, -4.59558622 50.19269224, -4.59558622 50.40467681, -4.81917128 50.40467681, -4.81917128 50.19269224))',\n",
       "  'tile_Id': '30UUA'},\n",
       " '4': {'geoRegion': 'POLYGON ((-4.32949749 50.26538565, -4.02885352 50.26538565, -4.02885352 50.5075424, -4.32949749 50.5075424, -4.32949749 50.26538565))',\n",
       "  'tile_Id': '30UVA'},\n",
       " '6': {'geoRegion': 'POLYGON ((-4.02836874 50.14143345, -3.59050258 50.14143345, -3.59050258 50.34954708, -4.02836874 50.34954708, -4.02836874 50.14143345))',\n",
       "  'tile_Id': '30UVA'},\n",
       " '9': {'geoRegion': 'POLYGON ((-3.70217003 50.32171356, -3.4070158 50.32171356, -3.4070158 50.54736093, -3.70217003 50.54736093, -3.70217003 50.32171356))',\n",
       "  'tile_Id': '30UVA'},\n",
       " '11': {'geoRegion': 'POLYGON ((-4.42178593 50.96017888, -3.80799343 50.96017888, -3.80799343 51.4427289, -4.42178593 51.4427289, -4.42178593 50.96017888))',\n",
       "  'tile_Id': '30UVB'},\n",
       " '12': {'geoRegion': 'POLYGON ((-3.50331426 50.55463065, -3.27987264 50.55463065, -3.27987264 50.71209921, -3.50331426 50.71209921, -3.50331426 50.55463065))',\n",
       "  'tile_Id': '30UVB'},\n",
       " '13': {'geoRegion': 'POLYGON ((-2.09595764 50.55849793, -1.71524861 50.55849793, -1.71524861 50.75094301, -2.09595764 50.75094301, -2.09595764 50.55849793))',\n",
       "  'tile_Id': '30UWB'},\n",
       " '14': {'geoRegion': 'POLYGON ((-1.58556407 50.54458557, -0.64846788 50.54458557, -0.64846788 50.95668855, -1.58556407 50.95668855, -1.58556407 50.54458557))',\n",
       "  'tile_Id': '30UXB'},\n",
       " '15': {'geoRegion': 'POLYGON ((-2.99680783 51.4583999, -2.60709778 51.4583999, -2.60709778 51.69910317, -2.99680783 51.69910317, -2.99680783 51.4583999))',\n",
       "  'tile_Id': '30UWC'},\n",
       " '16': {'geoRegion': 'POLYGON ((-2.60528065 50.55348792, -2.12042715 50.55348792, -2.12042715 50.6553193, -2.60528065 50.6553193, -2.60528065 50.55348792))',\n",
       "  'tile_Id': '30UWB'},\n",
       " '17': {'geoRegion': 'POLYGON ((-6.48086707 49.81301712, -6.21948222 49.81301712, -6.21948222 50.02839047, -6.48086707 50.02839047, -6.48086707 49.81301712))',\n",
       "  'tile_Id': '29UPR'},\n",
       " '18': {'geoRegion': 'POLYGON ((-5.80439836 51.49305133, -4.45149348 51.49305133, -4.45149348 52.32141647, -5.80439836 52.32141647, -5.80439836 51.49305133))',\n",
       "  'tile_Id': '30UUC'},\n",
       " '19': {'geoRegion': 'POLYGON ((-4.44365223 51.49681989, -3.86086484 51.49681989, -3.86086484 51.82236179, -4.44365223 51.82236179, -4.44365223 51.49681989))',\n",
       "  'tile_Id': '30UVC'},\n",
       " '20': {'geoRegion': 'POLYGON ((-5.7897289 49.9734232, -5.3357743 49.9734232, -5.3357743 50.27582106, -5.7897289 50.27582106, -5.7897289 49.9734232))',\n",
       "  'tile_Id': '30UUA'},\n",
       " '21': {'geoRegion': 'POLYGON ((1.10125436 50.94732407, 1.55028195 50.94732407, 1.55028195 51.43096547, 1.10125436 51.43096547, 1.10125436 50.94732407))',\n",
       "  'tile_Id': '31UCS'},\n",
       " '22': {'geoRegion': 'POLYGON ((0.43671218 51.28184468, 1.02698637 51.28184468, 1.02698637 51.43623009, 0.43671218 51.43623009, 0.43671218 51.28184468))',\n",
       "  'tile_Id': '31UCS'},\n",
       " '23': {'geoRegion': 'POLYGON ((0.52676637 51.46052368, 0.99557138 51.46052368, 0.99557138 51.79250276, 0.52676637 51.79250276, 0.52676637 51.46052368))',\n",
       "  'tile_Id': '31UCT'},\n",
       " '24': {'geoRegion': 'POLYGON ((0.84043954 51.69085094, 1.54449944 51.69085094, 1.54449944 52.18611236, 0.84043954 52.18611236, 0.84043954 51.69085094))',\n",
       "  'tile_Id': '31UCT'},\n",
       " '25': {'geoRegion': 'POLYGON ((0.02418999 52.76712205, 0.61684464 52.76712205, 0.61684464 53.22302955, 0.02418999 53.22302955, 0.02418999 52.76712205))',\n",
       "  'tile_Id': '31UCU'},\n",
       " '26': {'geoRegion': 'POLYGON ((-0.89918315 53.47242848, -0.00824939 53.47242848, -0.00824939 53.83742637, -0.89918315 53.83742637, -0.89918315 53.47242848))',\n",
       "  'tile_Id': '30UXE'},\n",
       " '27': {'geoRegion': 'POLYGON ((-4.47852073 52.34372453, -3.87976363 52.34372453, -3.87976363 53.04664288, -4.47852073 53.04664288, -4.47852073 52.34372453))',\n",
       "  'tile_Id': '30UVD'},\n",
       " '28': {'geoRegion': 'POLYGON ((-4.85333229 52.67694745, -4.48515088 52.67694745, -4.48515088 53.09334198, -4.85333229 53.09334198, -4.85333229 52.67694745))',\n",
       "  'tile_Id': '30UUD'}}"
      ]
     },
     "execution_count": 22,
     "metadata": {},
     "output_type": "execute_result"
    }
   ],
   "source": [
    "poly_dict"
   ]
  },
  {
   "cell_type": "markdown",
   "id": "3a552990-55c6-4e7d-9a90-d67c7109795c",
   "metadata": {},
   "source": [
    "Save as JSON"
   ]
  },
  {
   "cell_type": "code",
   "execution_count": 23,
   "id": "41cf5f90-63cb-4353-b93c-5a7e427febec",
   "metadata": {},
   "outputs": [],
   "source": [
    "import json"
   ]
  },
  {
   "cell_type": "code",
   "execution_count": 24,
   "id": "15f9ba5a-fa5c-48ad-8bcb-8774ab054169",
   "metadata": {},
   "outputs": [],
   "source": [
    "with open('AOIs.txt', 'w') as fp:\n",
    "    json.dump(poly_dict, fp)"
   ]
  },
  {
   "cell_type": "code",
   "execution_count": null,
   "id": "c71da2f5-7bc1-459f-8e80-88b10d94c508",
   "metadata": {},
   "outputs": [],
   "source": []
  }
 ],
 "metadata": {
  "kernelspec": {
   "display_name": "wekeolab",
   "language": "python",
   "name": "wekeolab"
  },
  "language_info": {
   "codemirror_mode": {
    "name": "ipython",
    "version": 3
   },
   "file_extension": ".py",
   "mimetype": "text/x-python",
   "name": "python",
   "nbconvert_exporter": "python",
   "pygments_lexer": "ipython3",
   "version": "3.11.6"
  }
 },
 "nbformat": 4,
 "nbformat_minor": 5
}
