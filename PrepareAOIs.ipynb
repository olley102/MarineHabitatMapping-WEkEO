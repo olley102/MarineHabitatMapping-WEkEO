{
 "cells": [
  {
   "cell_type": "markdown",
   "id": "f23e4d17-4f6e-469f-afa8-3d7472df0891",
   "metadata": {},
   "source": [
    "# Areas of Interest\n",
    "\n",
    "ArcGIS Pro has been used to create rectangular polygon features around areas of interest, which will be used to reduce the computation of satellite data and other sources.\n",
    "\n",
    "This notebook simply converts these features from vertices in a CSV file to a dictionary of values that can be used for the `bbox` parameter of `hda` when querying EO data."
   ]
  },
  {
   "cell_type": "code",
   "execution_count": 1,
   "id": "e9e99d27-423c-44a7-be44-e9c4975df81e",
   "metadata": {},
   "outputs": [],
   "source": [
    "import pandas as pd"
   ]
  },
  {
   "cell_type": "code",
   "execution_count": 4,
   "id": "8827e1a4-54e8-47f8-b420-46c336233b75",
   "metadata": {},
   "outputs": [],
   "source": [
    "df = pd.read_csv('AOIs.csv', header=None)"
   ]
  },
  {
   "cell_type": "code",
   "execution_count": 34,
   "id": "c11087da-a381-4574-ba1a-8f9392ac71f9",
   "metadata": {},
   "outputs": [
    {
     "data": {
      "text/html": [
       "<div>\n",
       "<style scoped>\n",
       "    .dataframe tbody tr th:only-of-type {\n",
       "        vertical-align: middle;\n",
       "    }\n",
       "\n",
       "    .dataframe tbody tr th {\n",
       "        vertical-align: top;\n",
       "    }\n",
       "\n",
       "    .dataframe thead th {\n",
       "        text-align: right;\n",
       "    }\n",
       "</style>\n",
       "<table border=\"1\" class=\"dataframe\">\n",
       "  <thead>\n",
       "    <tr style=\"text-align: right;\">\n",
       "      <th></th>\n",
       "      <th>0</th>\n",
       "      <th>1</th>\n",
       "      <th>2</th>\n",
       "      <th>3</th>\n",
       "    </tr>\n",
       "  </thead>\n",
       "  <tbody>\n",
       "    <tr>\n",
       "      <th>0</th>\n",
       "      <td>-5.221344</td>\n",
       "      <td>49.990184</td>\n",
       "      <td>30UUA</td>\n",
       "      <td>2</td>\n",
       "    </tr>\n",
       "    <tr>\n",
       "      <th>1</th>\n",
       "      <td>-5.224443</td>\n",
       "      <td>50.286487</td>\n",
       "      <td>30UUA</td>\n",
       "      <td>2</td>\n",
       "    </tr>\n",
       "    <tr>\n",
       "      <th>2</th>\n",
       "      <td>-4.885354</td>\n",
       "      <td>50.290033</td>\n",
       "      <td>30UUA</td>\n",
       "      <td>2</td>\n",
       "    </tr>\n",
       "    <tr>\n",
       "      <th>3</th>\n",
       "      <td>-4.882255</td>\n",
       "      <td>49.993731</td>\n",
       "      <td>30UUA</td>\n",
       "      <td>2</td>\n",
       "    </tr>\n",
       "    <tr>\n",
       "      <th>4</th>\n",
       "      <td>-5.221344</td>\n",
       "      <td>49.990184</td>\n",
       "      <td>30UUA</td>\n",
       "      <td>2</td>\n",
       "    </tr>\n",
       "  </tbody>\n",
       "</table>\n",
       "</div>"
      ],
      "text/plain": [
       "          0          1      2  3\n",
       "0 -5.221344  49.990184  30UUA  2\n",
       "1 -5.224443  50.286487  30UUA  2\n",
       "2 -4.885354  50.290033  30UUA  2\n",
       "3 -4.882255  49.993731  30UUA  2\n",
       "4 -5.221344  49.990184  30UUA  2"
      ]
     },
     "execution_count": 34,
     "metadata": {},
     "output_type": "execute_result"
    }
   ],
   "source": [
    "df.head()"
   ]
  },
  {
   "cell_type": "markdown",
   "id": "3bbb8e55-474c-49b5-a6c4-32a49a6f8f4e",
   "metadata": {},
   "source": [
    "Each polygon has a unique value in column 3."
   ]
  },
  {
   "cell_type": "code",
   "execution_count": 16,
   "id": "3e031307-51ce-4d6e-ae9c-3ebd43748eef",
   "metadata": {},
   "outputs": [
    {
     "data": {
      "text/plain": [
       "array([ 2,  3,  4,  6,  9, 11, 12, 13, 14, 15, 16, 17, 18, 19, 20, 21, 22,\n",
       "       23, 24, 25, 26, 27, 28])"
      ]
     },
     "execution_count": 16,
     "metadata": {},
     "output_type": "execute_result"
    }
   ],
   "source": [
    "df[3].unique()"
   ]
  },
  {
   "cell_type": "code",
   "execution_count": 42,
   "id": "00bd6c7c-b5c9-46cb-8ae6-c5d1538df01e",
   "metadata": {},
   "outputs": [
    {
     "data": {
      "text/html": [
       "<div>\n",
       "<style scoped>\n",
       "    .dataframe tbody tr th:only-of-type {\n",
       "        vertical-align: middle;\n",
       "    }\n",
       "\n",
       "    .dataframe tbody tr th {\n",
       "        vertical-align: top;\n",
       "    }\n",
       "\n",
       "    .dataframe thead th {\n",
       "        text-align: right;\n",
       "    }\n",
       "</style>\n",
       "<table border=\"1\" class=\"dataframe\">\n",
       "  <thead>\n",
       "    <tr style=\"text-align: right;\">\n",
       "      <th></th>\n",
       "      <th>0</th>\n",
       "      <th>1</th>\n",
       "      <th>2</th>\n",
       "      <th>3</th>\n",
       "    </tr>\n",
       "  </thead>\n",
       "  <tbody>\n",
       "    <tr>\n",
       "      <th>0</th>\n",
       "      <td>-5.221344</td>\n",
       "      <td>49.990184</td>\n",
       "      <td>30UUA</td>\n",
       "      <td>2</td>\n",
       "    </tr>\n",
       "    <tr>\n",
       "      <th>1</th>\n",
       "      <td>-5.224443</td>\n",
       "      <td>50.286487</td>\n",
       "      <td>30UUA</td>\n",
       "      <td>2</td>\n",
       "    </tr>\n",
       "    <tr>\n",
       "      <th>2</th>\n",
       "      <td>-4.885354</td>\n",
       "      <td>50.290033</td>\n",
       "      <td>30UUA</td>\n",
       "      <td>2</td>\n",
       "    </tr>\n",
       "    <tr>\n",
       "      <th>3</th>\n",
       "      <td>-4.882255</td>\n",
       "      <td>49.993731</td>\n",
       "      <td>30UUA</td>\n",
       "      <td>2</td>\n",
       "    </tr>\n",
       "    <tr>\n",
       "      <th>4</th>\n",
       "      <td>-5.221344</td>\n",
       "      <td>49.990184</td>\n",
       "      <td>30UUA</td>\n",
       "      <td>2</td>\n",
       "    </tr>\n",
       "  </tbody>\n",
       "</table>\n",
       "</div>"
      ],
      "text/plain": [
       "          0          1      2  3\n",
       "0 -5.221344  49.990184  30UUA  2\n",
       "1 -5.224443  50.286487  30UUA  2\n",
       "2 -4.885354  50.290033  30UUA  2\n",
       "3 -4.882255  49.993731  30UUA  2\n",
       "4 -5.221344  49.990184  30UUA  2"
      ]
     },
     "execution_count": 42,
     "metadata": {},
     "output_type": "execute_result"
    }
   ],
   "source": [
    "df[df[3]==2]"
   ]
  },
  {
   "cell_type": "markdown",
   "id": "3d9627fd-7f45-48f5-9524-f79cade6d75d",
   "metadata": {},
   "source": [
    "We need the extremes of latitude and longitude for each polygon. The result can then be used for the `bbox` parameter."
   ]
  },
  {
   "cell_type": "code",
   "execution_count": 18,
   "id": "104d738e-9ba3-46c2-a86e-a35a4bdcb9dc",
   "metadata": {},
   "outputs": [
    {
     "data": {
      "text/plain": [
       "[-5.22444257, 49.9901843, -4.88225479, 50.29003327]"
      ]
     },
     "execution_count": 18,
     "metadata": {},
     "output_type": "execute_result"
    }
   ],
   "source": [
    "[\n",
    "    df[df[3]==2][0].min(),\n",
    "    df[df[3]==2][1].min(),\n",
    "    df[df[3]==2][0].max(),\n",
    "    df[df[3]==2][1].max()\n",
    "]"
   ]
  },
  {
   "cell_type": "code",
   "execution_count": 19,
   "id": "0333126e-c82d-4aff-bec9-3378e5619a0d",
   "metadata": {},
   "outputs": [],
   "source": [
    "def poly_to_bbox(p):\n",
    "    return [\n",
    "        df[df[3]==p][0].min(),\n",
    "        df[df[3]==p][1].min(),\n",
    "        df[df[3]==p][0].max(),\n",
    "        df[df[3]==p][1].max()\n",
    "    ]"
   ]
  },
  {
   "cell_type": "markdown",
   "id": "91789cda-420c-4880-a79a-d334d10fb27e",
   "metadata": {},
   "source": [
    "We also need the tile_Id from column 2."
   ]
  },
  {
   "cell_type": "code",
   "execution_count": 26,
   "id": "b4eb9851-ac30-42f5-9378-54bf7798e113",
   "metadata": {},
   "outputs": [
    {
     "data": {
      "text/plain": [
       "'30UUA'"
      ]
     },
     "execution_count": 26,
     "metadata": {},
     "output_type": "execute_result"
    }
   ],
   "source": [
    "df[df[3]==2][2][0]"
   ]
  },
  {
   "cell_type": "code",
   "execution_count": 47,
   "id": "f0df7002-e941-4a74-a41c-dcac6c6f1aac",
   "metadata": {},
   "outputs": [],
   "source": [
    "poly_dict = {str(p): {'bbox': poly_to_bbox(p), 'tile_Id': df[df[3]==p][2].iloc[0]} for p in df[3].unique()}"
   ]
  },
  {
   "cell_type": "markdown",
   "id": "3a552990-55c6-4e7d-9a90-d67c7109795c",
   "metadata": {},
   "source": [
    "Save as JSON"
   ]
  },
  {
   "cell_type": "code",
   "execution_count": 48,
   "id": "41cf5f90-63cb-4353-b93c-5a7e427febec",
   "metadata": {},
   "outputs": [],
   "source": [
    "import json"
   ]
  },
  {
   "cell_type": "code",
   "execution_count": 49,
   "id": "15f9ba5a-fa5c-48ad-8bcb-8774ab054169",
   "metadata": {},
   "outputs": [],
   "source": [
    "with open('AOIs.txt', 'w') as fp:\n",
    "    json.dump(poly_dict, fp)"
   ]
  },
  {
   "cell_type": "code",
   "execution_count": null,
   "id": "c8ed4d75-9de4-44d9-b142-74b6908a5003",
   "metadata": {},
   "outputs": [],
   "source": []
  }
 ],
 "metadata": {
  "kernelspec": {
   "display_name": "wekeolab",
   "language": "python",
   "name": "wekeolab"
  },
  "language_info": {
   "codemirror_mode": {
    "name": "ipython",
    "version": 3
   },
   "file_extension": ".py",
   "mimetype": "text/x-python",
   "name": "python",
   "nbconvert_exporter": "python",
   "pygments_lexer": "ipython3",
   "version": "3.11.6"
  }
 },
 "nbformat": 4,
 "nbformat_minor": 5
}
