{
 "cells": [
  {
   "cell_type": "markdown",
   "id": "613a3874-c12d-4029-b6a0-5e1813903a22",
   "metadata": {},
   "source": [
    "# Explore Sentinel-2"
   ]
  },
  {
   "cell_type": "markdown",
   "id": "517a4e09-3bab-4122-987a-2833c08358f7",
   "metadata": {},
   "source": [
    "Import necessary packages."
   ]
  },
  {
   "cell_type": "code",
   "execution_count": 2,
   "id": "484d5d3b-ae41-4d41-885f-8101df18d54e",
   "metadata": {},
   "outputs": [],
   "source": [
    "import os\n",
    "import xml.etree.ElementTree as ET\n",
    "from datetime import datetime, timedelta\n",
    "from PIL import Image\n",
    "import matplotlib.pyplot as plt\n",
    "from shapely.geometry import shape, Polygon, mapping\n",
    "from shapely.ops import unary_union\n",
    "import geopandas as gpd\n",
    "import numpy as np\n",
    "from pyproj import CRS, Transformer"
   ]
  },
  {
   "cell_type": "markdown",
   "id": "963d6c21-ec3b-45cd-aa18-6c3c767d9ec8",
   "metadata": {},
   "source": [
    "## Setup: get tile footprint from images"
   ]
  },
  {
   "cell_type": "markdown",
   "id": "fd8481dd-a156-4b77-bac4-7a1e98c38026",
   "metadata": {},
   "source": [
    "Get Sentinel-2 tiling grid"
   ]
  },
  {
   "cell_type": "code",
   "execution_count": 3,
   "id": "cf45f227-a393-46de-8574-d84fd95eeca4",
   "metadata": {},
   "outputs": [
    {
     "name": "stdout",
     "output_type": "stream",
     "text": [
      "fatal: destination path 'Sentinel-2-Shapefile-Index' already exists and is not an empty directory.\n"
     ]
    }
   ],
   "source": [
    "!git clone https://github.com/justinelliotmeyers/Sentinel-2-Shapefile-Index.git"
   ]
  },
  {
   "cell_type": "code",
   "execution_count": 29,
   "id": "55d846ba-9cd3-4cd3-88b9-26221008b480",
   "metadata": {},
   "outputs": [],
   "source": [
    "tile_grid_shapefile = \"./Sentinel-2-Shapefile-Index/sentinel_2_index_shapefile.shp\"\n",
    "tile_grid = gpd.read_file(tile_grid_shapefile)"
   ]
  },
  {
   "cell_type": "code",
   "execution_count": 30,
   "id": "360d38a6-86ce-47f6-ba85-552daf83c76a",
   "metadata": {
    "scrolled": true
   },
   "outputs": [
    {
     "name": "stdout",
     "output_type": "stream",
     "text": [
      "        Name                                           geometry\n",
      "0      01CCV  POLYGON Z ((180.000 -73.060 0.000, 176.865 -72...\n",
      "1      01CCV  POLYGON Z ((-180.000 -72.073 0.000, -179.627 -...\n",
      "2      01CDH  POLYGON Z ((180.000 -83.809 0.000, 174.713 -83...\n",
      "3      01CDH  POLYGON Z ((-180.000 -82.826 0.000, -176.297 -...\n",
      "4      01CDJ  POLYGON Z ((180.000 -82.913 0.000, 175.748 -82...\n",
      "...      ...                                                ...\n",
      "56979  60XWP  POLYGON Z ((-180.000 80.140 0.000, -177.262 80...\n",
      "56980  60XWQ  POLYGON Z ((180.000 80.052 0.000, 176.999 80.0...\n",
      "56981  60XWQ  POLYGON Z ((-180.000 81.035 0.000, -176.697 81...\n",
      "56982  60XWR  POLYGON Z ((180.000 80.948 0.000, 176.999 80.9...\n",
      "56983  60XWR  POLYGON Z ((-180.000 81.931 0.000, -176.007 81...\n",
      "\n",
      "[56984 rows x 2 columns]\n"
     ]
    }
   ],
   "source": [
    "print(tile_grid)"
   ]
  },
  {
   "cell_type": "code",
   "execution_count": 31,
   "id": "2d74144a-ffbb-4f6d-a276-e795c19994ba",
   "metadata": {},
   "outputs": [],
   "source": [
    "# Define the tiles covering the South West UK\n",
    "south_west_tiles = {\"30UUA\", \"30UUB\", \"30UVB\", \"30UVA\", \"30UWB\", \"30UWA\", \"30UXB\", \"30UXA\", \"30UVC\", \"30UWC\"}"
   ]
  },
  {
   "cell_type": "code",
   "execution_count": 32,
   "id": "e443740f-a5b9-4073-8772-a407a0e30011",
   "metadata": {
    "scrolled": true
   },
   "outputs": [],
   "source": [
    "tile_polygons = {tile: None for tile in south_west_tiles}\n",
    "\n",
    "for tile_code in south_west_tiles:\n",
    "    selected_tile = tile_grid[tile_grid['Name'] == tile_code]\n",
    "    polygon = selected_tile.geometry.iloc[0]\n",
    "    tile_polygons[tile_code] = polygon"
   ]
  },
  {
   "cell_type": "markdown",
   "id": "2cfdd0ff-52b5-41c3-bc1f-4d8872834b2b",
   "metadata": {},
   "source": [
    "Functions to get footprint"
   ]
  },
  {
   "cell_type": "code",
   "execution_count": 33,
   "id": "55e8868d-3b74-494c-a376-4b65e726c554",
   "metadata": {},
   "outputs": [],
   "source": [
    "def get_footprint_from_safe(safe_path, processing_level=\"L1C\"):\n",
    "    \"\"\"Extract footprint geometry from Sentinel-2 SAFE metadata\"\"\"\n",
    "    mtd_file = os.path.join(safe_path, f\"MTD_MSI{processing_level}.xml\")\n",
    "    tree = ET.parse(mtd_file)\n",
    "    root = tree.getroot()\n",
    "\n",
    "    # Extract the footprint polygon (WKT format) from the metadata\n",
    "    for elem in root.iter():\n",
    "        if \"EXT_POS_LIST\" in elem.tag:\n",
    "            pos_list = elem.text.strip().split()\n",
    "            coords = [(float(pos_list[i]), float(pos_list[i+1])) for i in range(0, len(pos_list), 2)]\n",
    "            return Polygon(coords)\n",
    "    return None\n",
    "\n",
    "def calculate_coverage(image_footprint, tile_polygon):\n",
    "    \"\"\"Calculate coverage percentage of the tile.\"\"\"\n",
    "    if image_footprint is not None:\n",
    "        # intersection = image_footprint.intersection(tile_polygon)\n",
    "        # print(tile_polygon.area)\n",
    "        coverage_percentage = (image_footprint.area / tile_polygon.area) * 100\n",
    "        return coverage_percentage\n",
    "    return None\n",
    "\n",
    "def reproject_geometry(geometry, from_crs, to_crs):\n",
    "    \"\"\"Reproject a Shapely geometry from one CRS to another.\"\"\"\n",
    "    transformer = Transformer.from_crs(from_crs, to_crs, always_xy=True)\n",
    "    return shape(transformer.transform(*geometry.exterior.xy))\n",
    "\n",
    "# def plot_geometries(footprint, tile_polygon):\n",
    "#     fig, ax = plt.subplots()\n",
    "#     footprint_coords = np.array(mapping(footprint)[\"coordinates\"][0])\n",
    "#     footprint_patch = plt.Polygon(footprint_coords, edgecolor='blue', fill=False, label=\"Footprint\")\n",
    "#     tile_coords = np.array(mapping(tile_polygon)[\"coordinates\"][0])[:,:2]\n",
    "#     tile_patch = plt.Polygon(tile_coords, edgecolor='red', fill=False, label=\"Tile\")\n",
    "#     ax.add_patch(footprint_patch)\n",
    "#     ax.add_patch(tile_patch)\n",
    "#     plt.legend()\n",
    "#     plt.show()"
   ]
  },
  {
   "cell_type": "code",
   "execution_count": 34,
   "id": "0c62253a-edb7-4eb0-baa3-0aafac0deb03",
   "metadata": {},
   "outputs": [],
   "source": [
    "# Tile coverage threshold (e.g. min 90%)\n",
    "min_tile_coverage = 99.0"
   ]
  },
  {
   "cell_type": "markdown",
   "id": "e43e0c9f-a0ea-4a64-959c-f48547a1af94",
   "metadata": {},
   "source": [
    "## Setup: get cloud coverage from images"
   ]
  },
  {
   "cell_type": "code",
   "execution_count": 35,
   "id": "983aab3a-d304-49b3-a02c-ef836fea9358",
   "metadata": {},
   "outputs": [],
   "source": [
    "# Cloud coverage threshold (e.g., max 10%)\n",
    "max_cloud_coverage = 10.0"
   ]
  },
  {
   "cell_type": "code",
   "execution_count": 36,
   "id": "7ecc0615-b3e6-486d-8b1b-ca405e611592",
   "metadata": {},
   "outputs": [],
   "source": [
    "def get_cloud_coverage(safe_path, processing_level=\"L1C\"):\n",
    "    \"\"\"Extract cloud coverage assessment from Sentinel-2 SAFE metadata\"\"\"\n",
    "    mtd_file = os.path.join(safe_path, f\"MTD_MSI{processing_level}.xml\")\n",
    "    tree = ET.parse(mtd_file)\n",
    "    root = tree.getroot()\n",
    "    cloud_coverage = root.find(\".//Cloud_Coverage_Assessment\")\n",
    "    if cloud_coverage is not None:\n",
    "        cloud_coverage_value = float(cloud_coverage.text)\n",
    "        return cloud_coverage_value\n",
    "    return None"
   ]
  },
  {
   "cell_type": "markdown",
   "id": "812229ee-c809-448e-9f00-305f34f40acb",
   "metadata": {},
   "source": [
    "## Extract and filter Sentinel-2 data"
   ]
  },
  {
   "cell_type": "code",
   "execution_count": 37,
   "id": "6138a53e-47b5-46be-b333-30f57028cd26",
   "metadata": {},
   "outputs": [],
   "source": [
    "# Define the base path to Sentinel-2 data on WEkEO\n",
    "base_path = \"/home/jovyan/eodata/Sentinel-2/MSI\"\n",
    "base_path_l1c = os.path.join(base_path, \"L1C\")\n",
    "base_path_l2a = os.path.join(base_path, \"L2A\")\n",
    "\n",
    "# Define date range\n",
    "start_date = datetime(2020, 6, 1)  # Starting date (YYYY, MM, DD)\n",
    "end_date = datetime(2020, 6, 30)   # Ending date (YYYY, MM, DD)\n",
    "\n",
    "# Define a dictionary to store paths of matched images\n",
    "tile_safes = {tile: [] for tile in south_west_tiles}"
   ]
  },
  {
   "cell_type": "code",
   "execution_count": 38,
   "id": "badfd3fa-55cc-4b1b-af28-a7bf4305d0e1",
   "metadata": {
    "scrolled": true
   },
   "outputs": [
    {
     "name": "stdout",
     "output_type": "stream",
     "text": [
      "Tile coverage for S2A_MSIL1C_20200601T113331_N0209_R080_T30UUA_20200601T115844.SAFE: 90.16761306300623\n",
      "Tile coverage for S2A_MSIL1C_20200601T113331_N0209_R080_T30UUB_20200601T115844.SAFE: 99.99972625007813\n",
      "Cloud coverage for S2A_MSIL1C_20200601T113331_N0209_R080_T30UUB_20200601T115844.SAFE: 0.0\n",
      "Found data for tile 30UUB on date 2020-06-01\n",
      "Tile coverage for S2A_MSIL1C_20200601T113331_N0209_R080_T30UVA_20200601T115844.SAFE: 4.214274276145964\n",
      "Tile coverage for S2A_MSIL1C_20200601T113331_N0209_R080_T30UVB_20200601T115844.SAFE: 30.435935452167218\n",
      "Tile coverage for S2A_MSIL1C_20200601T113331_N0209_R080_T30UVC_20200601T115844.SAFE: 60.840424115575786\n",
      "Tile coverage for S2A_MSIL1C_20200602T105631_N0209_R094_T30UXA_20200602T130515.SAFE: 69.42810175676533\n",
      "Tile coverage for S2A_MSIL1C_20200602T105631_N0209_R094_T30UXB_20200602T130515.SAFE: 48.829659186737985\n",
      "Tile coverage for S2B_MSIL1C_20200603T112119_N0209_R037_T30UUA_20200603T141210.SAFE: 99.99955629566803\n",
      "Cloud coverage for S2B_MSIL1C_20200603T112119_N0209_R037_T30UUA_20200603T141210.SAFE: 95.6508\n",
      "Tile coverage for S2B_MSIL1C_20200603T112119_N0209_R037_T30UUB_20200603T133047.SAFE: 1.2760314632284335\n",
      "Tile coverage for S2B_MSIL1C_20200603T112119_N0209_R037_T30UUB_20200603T141210.SAFE: 94.92459203432774\n",
      "Tile coverage for S2B_MSIL1C_20200603T112119_N0209_R037_T30UVA_20200603T141210.SAFE: 100.0003383900798\n",
      "Cloud coverage for S2B_MSIL1C_20200603T112119_N0209_R037_T30UVA_20200603T141210.SAFE: 98.6794\n",
      "Tile coverage for S2B_MSIL1C_20200603T112119_N0209_R037_T30UVB_20200603T133047.SAFE: 20.195609442733094\n",
      "Tile coverage for S2B_MSIL1C_20200603T112119_N0209_R037_T30UVB_20200603T141210.SAFE: 95.36327282097979\n",
      "Tile coverage for S2B_MSIL1C_20200603T112119_N0209_R037_T30UVC_20200603T133047.SAFE: 99.8348271877604\n",
      "Cloud coverage for S2B_MSIL1C_20200603T112119_N0209_R037_T30UVC_20200603T133047.SAFE: 99.8821\n",
      "Tile coverage for S2B_MSIL1C_20200603T112119_N0209_R037_T30UVC_20200603T141210.SAFE: 7.9902936844064545\n",
      "Tile coverage for S2B_MSIL1C_20200603T112119_N0209_R037_T30UWA_20200603T141210.SAFE: 73.9827680844076\n",
      "Tile coverage for S2B_MSIL1C_20200603T112119_N0209_R037_T30UWB_20200603T133047.SAFE: 48.561854855525254\n",
      "Tile coverage for S2B_MSIL1C_20200603T112119_N0209_R037_T30UWB_20200603T141210.SAFE: 66.5289468740689\n",
      "Tile coverage for S2B_MSIL1C_20200603T112119_N0209_R037_T30UWC_20200603T133047.SAFE: 99.9997704500383\n",
      "Cloud coverage for S2B_MSIL1C_20200603T112119_N0209_R037_T30UWC_20200603T133047.SAFE: 99.5428\n",
      "Tile coverage for S2B_MSIL1C_20200603T112119_N0209_R037_T30UXB_20200603T133047.SAFE: 9.81995276304343\n",
      "Tile coverage for S2B_MSIL1C_20200603T112119_N0209_R037_T30UXB_20200603T141210.SAFE: 2.111091708699321\n",
      "Tile coverage for S2A_MSIL1C_20200605T110631_N0209_R137_T30UVA_20200605T113454.SAFE: 51.0310864559491\n",
      "Tile coverage for S2A_MSIL1C_20200605T110631_N0209_R137_T30UVB_20200605T113454.SAFE: 27.167779994141245\n",
      "Tile coverage for S2A_MSIL1C_20200605T110631_N0209_R137_T30UVC_20200605T113454.SAFE: 5.171013950248017\n",
      "Tile coverage for S2A_MSIL1C_20200605T110631_N0209_R137_T30UWA_20200605T113454.SAFE: 99.99897246254451\n",
      "Cloud coverage for S2A_MSIL1C_20200605T110631_N0209_R137_T30UWA_20200605T113454.SAFE: 47.2636\n",
      "Tile coverage for S2A_MSIL1C_20200605T110631_N0209_R137_T30UWB_20200605T113454.SAFE: 99.9992231054865\n",
      "Cloud coverage for S2A_MSIL1C_20200605T110631_N0209_R137_T30UWB_20200605T113454.SAFE: 53.0497\n",
      "Tile coverage for S2A_MSIL1C_20200605T110631_N0209_R137_T30UWC_20200605T113454.SAFE: 93.45068707444744\n",
      "Tile coverage for S2A_MSIL1C_20200605T110631_N0209_R137_T30UXA_20200605T113454.SAFE: 99.99951823227205\n",
      "Cloud coverage for S2A_MSIL1C_20200605T110631_N0209_R137_T30UXA_20200605T113454.SAFE: 40.1035\n",
      "Tile coverage for S2A_MSIL1C_20200605T110631_N0209_R137_T30UXB_20200605T113454.SAFE: 99.99950335912052\n",
      "Cloud coverage for S2A_MSIL1C_20200605T110631_N0209_R137_T30UXB_20200605T113454.SAFE: 55.0592\n",
      "Tile coverage for S2B_MSIL1C_20200606T113319_N0209_R080_T30UUA_20200606T124035.SAFE: 90.76999163499326\n",
      "Tile coverage for S2B_MSIL1C_20200606T113319_N0209_R080_T30UUB_20200606T124035.SAFE: 99.99972625007813\n",
      "Cloud coverage for S2B_MSIL1C_20200606T113319_N0209_R080_T30UUB_20200606T124035.SAFE: 99.4928\n",
      "Tile coverage for S2B_MSIL1C_20200606T113319_N0209_R080_T30UVA_20200606T124035.SAFE: 4.631776056405215\n",
      "Tile coverage for S2B_MSIL1C_20200606T113319_N0209_R080_T30UVB_20200606T124035.SAFE: 31.29620240361184\n",
      "Tile coverage for S2B_MSIL1C_20200606T113319_N0209_R080_T30UVC_20200606T124035.SAFE: 61.67003684255148\n",
      "Tile coverage for S2B_MSIL1C_20200607T105619_N0209_R094_T30UXA_20200607T121741.SAFE: 68.84246153922551\n",
      "Tile coverage for S2B_MSIL1C_20200607T105619_N0209_R094_T30UXB_20200607T121741.SAFE: 48.26068916344693\n",
      "Tile coverage for S2A_MSIL1C_20200608T112121_N0209_R037_T30UUA_20200608T115350.SAFE: 99.99955629566803\n",
      "Cloud coverage for S2A_MSIL1C_20200608T112121_N0209_R037_T30UUA_20200608T115350.SAFE: 47.3264\n",
      "Tile coverage for S2A_MSIL1C_20200608T112121_N0209_R037_T30UUB_20200608T115350.SAFE: 95.29270273356056\n",
      "Tile coverage for S2A_MSIL1C_20200608T112121_N0209_R037_T30UVA_20200608T115350.SAFE: 100.0003383900798\n",
      "Cloud coverage for S2A_MSIL1C_20200608T112121_N0209_R037_T30UVA_20200608T115350.SAFE: 15.875700000000002\n",
      "Tile coverage for S2A_MSIL1C_20200608T112121_N0209_R037_T30UVB_20200608T115350.SAFE: 100.00024703178252\n",
      "Cloud coverage for S2A_MSIL1C_20200608T112121_N0209_R037_T30UVB_20200608T115350.SAFE: 55.7664\n",
      "Tile coverage for S2A_MSIL1C_20200608T112121_N0209_R037_T30UVC_20200608T115350.SAFE: 100.00044433433541\n",
      "Cloud coverage for S2A_MSIL1C_20200608T112121_N0209_R037_T30UVC_20200608T115350.SAFE: 58.0807\n",
      "Tile coverage for S2A_MSIL1C_20200608T112121_N0209_R037_T30UWA_20200608T115350.SAFE: 73.13012672780805\n",
      "Tile coverage for S2A_MSIL1C_20200608T112121_N0209_R037_T30UWB_20200608T115350.SAFE: 96.436251775516\n",
      "Tile coverage for S2A_MSIL1C_20200608T112121_N0209_R037_T30UWC_20200608T115350.SAFE: 99.9997704500383\n",
      "Cloud coverage for S2A_MSIL1C_20200608T112121_N0209_R037_T30UWC_20200608T115350.SAFE: 64.7471\n",
      "Tile coverage for S2A_MSIL1C_20200608T112121_N0209_R037_T30UXB_20200608T115350.SAFE: 9.742039244025403\n",
      "Tile coverage for S2B_MSIL1C_20200610T110619_N0209_R137_T30UVA_20200610T130833.SAFE: 50.5043961409466\n",
      "Tile coverage for S2B_MSIL1C_20200610T110619_N0209_R137_T30UVB_20200610T130833.SAFE: 26.620765440487293\n",
      "Tile coverage for S2B_MSIL1C_20200610T110619_N0209_R137_T30UVC_20200610T130833.SAFE: 4.869487219910025\n",
      "Tile coverage for S2B_MSIL1C_20200610T110619_N0209_R137_T30UWA_20200610T130833.SAFE: 99.99897246254451\n",
      "Cloud coverage for S2B_MSIL1C_20200610T110619_N0209_R137_T30UWA_20200610T130833.SAFE: 78.24\n",
      "Tile coverage for S2B_MSIL1C_20200610T110619_N0209_R137_T30UWB_20200610T130833.SAFE: 99.9992231054865\n",
      "Cloud coverage for S2B_MSIL1C_20200610T110619_N0209_R137_T30UWB_20200610T130833.SAFE: 96.73880000000001\n",
      "Tile coverage for S2B_MSIL1C_20200610T110619_N0209_R137_T30UWC_20200610T130833.SAFE: 93.09023792211816\n",
      "Tile coverage for S2B_MSIL1C_20200610T110619_N0209_R137_T30UXA_20200610T130833.SAFE: 99.99951823227205\n",
      "Cloud coverage for S2B_MSIL1C_20200610T110619_N0209_R137_T30UXA_20200610T130833.SAFE: 99.9606\n",
      "Tile coverage for S2B_MSIL1C_20200610T110619_N0209_R137_T30UXB_20200610T130833.SAFE: 99.99950335912052\n",
      "Cloud coverage for S2B_MSIL1C_20200610T110619_N0209_R137_T30UXB_20200610T130833.SAFE: 99.9946\n",
      "Tile coverage for S2A_MSIL1C_20200611T113331_N0209_R080_T30UUA_20200611T120054.SAFE: 90.20116756600625\n",
      "Tile coverage for S2A_MSIL1C_20200611T113331_N0209_R080_T30UUB_20200611T120054.SAFE: 99.99972625007813\n",
      "Cloud coverage for S2A_MSIL1C_20200611T113331_N0209_R080_T30UUB_20200611T120054.SAFE: 87.20840000000001\n",
      "Tile coverage for S2A_MSIL1C_20200611T113331_N0209_R080_T30UVA_20200611T120054.SAFE: 4.240548055875298\n",
      "Tile coverage for S2A_MSIL1C_20200611T113331_N0209_R080_T30UVB_20200611T120054.SAFE: 30.54584628248588\n",
      "Tile coverage for S2A_MSIL1C_20200611T113331_N0209_R080_T30UVC_20200611T120054.SAFE: 60.88847444224294\n",
      "Tile coverage for S2A_MSIL1C_20200612T105631_N0209_R094_T30UXA_20200612T132916.SAFE: 69.35863305199601\n",
      "Tile coverage for S2A_MSIL1C_20200612T105631_N0209_R094_T30UXB_20200612T132916.SAFE: 48.78546185266831\n"
     ]
    },
    {
     "ename": "KeyboardInterrupt",
     "evalue": "",
     "output_type": "error",
     "traceback": [
      "\u001b[0;31m---------------------------------------------------------------------------\u001b[0m",
      "\u001b[0;31mKeyboardInterrupt\u001b[0m                         Traceback (most recent call last)",
      "\u001b[0;32m<ipython-input-38-40a262642863>\u001b[0m in \u001b[0;36m<module>\u001b[0;34m\u001b[0m\n\u001b[1;32m     13\u001b[0m     \u001b[0;32mif\u001b[0m \u001b[0mos\u001b[0m\u001b[0;34m.\u001b[0m\u001b[0mpath\u001b[0m\u001b[0;34m.\u001b[0m\u001b[0misdir\u001b[0m\u001b[0;34m(\u001b[0m\u001b[0mfolder_path\u001b[0m\u001b[0;34m)\u001b[0m\u001b[0;34m:\u001b[0m\u001b[0;34m\u001b[0m\u001b[0;34m\u001b[0m\u001b[0m\n\u001b[1;32m     14\u001b[0m         \u001b[0;31m# Loop through each folder in the day directory\u001b[0m\u001b[0;34m\u001b[0m\u001b[0;34m\u001b[0m\u001b[0;34m\u001b[0m\u001b[0m\n\u001b[0;32m---> 15\u001b[0;31m         \u001b[0;32mfor\u001b[0m \u001b[0mfolder_name\u001b[0m \u001b[0;32min\u001b[0m \u001b[0mos\u001b[0m\u001b[0;34m.\u001b[0m\u001b[0mlistdir\u001b[0m\u001b[0;34m(\u001b[0m\u001b[0mfolder_path\u001b[0m\u001b[0;34m)\u001b[0m\u001b[0;34m:\u001b[0m\u001b[0;34m\u001b[0m\u001b[0;34m\u001b[0m\u001b[0m\n\u001b[0m\u001b[1;32m     16\u001b[0m             \u001b[0;31m# Check if the folder name contains a matching tile code\u001b[0m\u001b[0;34m\u001b[0m\u001b[0;34m\u001b[0m\u001b[0;34m\u001b[0m\u001b[0m\n\u001b[1;32m     17\u001b[0m             \u001b[0;32mfor\u001b[0m \u001b[0mtile\u001b[0m \u001b[0;32min\u001b[0m \u001b[0msouth_west_tiles\u001b[0m\u001b[0;34m:\u001b[0m\u001b[0;34m\u001b[0m\u001b[0;34m\u001b[0m\u001b[0m\n",
      "\u001b[0;31mKeyboardInterrupt\u001b[0m: "
     ]
    }
   ],
   "source": [
    "# Loop through the dates in the specified range\n",
    "current_date = start_date\n",
    "while current_date <= end_date:\n",
    "    # Format year, month, day as strings\n",
    "    year = current_date.strftime(\"%Y\")\n",
    "    month = current_date.strftime(\"%m\")\n",
    "    day = current_date.strftime(\"%d\")\n",
    "    \n",
    "    # Define the directory path\n",
    "    folder_path = os.path.join(base_path_l1c, year, month, day)\n",
    "    \n",
    "    # Check if the directory exists\n",
    "    if os.path.isdir(folder_path):\n",
    "        # Loop through each folder in the day directory\n",
    "        for folder_name in os.listdir(folder_path):\n",
    "            # Check if the folder name contains a matching tile code\n",
    "            for tile in south_west_tiles:\n",
    "                if tile in folder_name:\n",
    "                    # Form the path to the .SAFE folder\n",
    "                    safe_path = os.path.join(folder_path, folder_name)\n",
    "\n",
    "                    # Get tile coverage\n",
    "                    image_footprint = get_footprint_from_safe(safe_path)\n",
    "                    tile_coverage = calculate_coverage(image_footprint, tile_polygons[tile])\n",
    "                    print(f\"Tile coverage for {folder_name}: {tile_coverage}\")\n",
    "\n",
    "                    if tile_coverage is None or tile_coverage < min_tile_coverage:\n",
    "                        break\n",
    "\n",
    "                    # Get cloud coverage\n",
    "                    cloud_coverage = get_cloud_coverage(safe_path)\n",
    "                    print(f\"Cloud coverage for {folder_name}: {cloud_coverage}\")\n",
    "\n",
    "                    if cloud_coverage is not None and cloud_coverage <= max_cloud_coverage:\n",
    "                        print(f\"Found data for tile {tile} on date {year}-{month}-{day}\")\n",
    "                        tile_safes[tile].append(safe_path)\n",
    "\n",
    "                    # Found matching tile, move on to next SAFE folder\n",
    "                    break\n",
    "    \n",
    "    # Move to the next day\n",
    "    current_date += timedelta(days=1)"
   ]
  },
  {
   "cell_type": "markdown",
   "id": "4b170df0-97c3-4cc6-a3fd-783e9777c2ef",
   "metadata": {},
   "source": [
    "Look at the last image"
   ]
  },
  {
   "cell_type": "code",
   "execution_count": null,
   "id": "587bcc29-16cf-4d39-a000-038303f8e6e2",
   "metadata": {},
   "outputs": [],
   "source": [
    "safe_path"
   ]
  },
  {
   "cell_type": "code",
   "execution_count": null,
   "id": "acc303cc-0091-4207-a4d0-cc9744cc3aaf",
   "metadata": {},
   "outputs": [],
   "source": [
    "safe_name = os.path.basename(safe_path)\n",
    "safe_name"
   ]
  },
  {
   "cell_type": "code",
   "execution_count": null,
   "id": "de4f345d-cadd-4573-ba04-a049aba5f1bb",
   "metadata": {},
   "outputs": [],
   "source": [
    "img_file_name = f\"{safe_name[:-5]}-ql.jpg\"\n",
    "img_path = os.path.join(safe_path, img_file_name)\n",
    "print(f\"Displaying image: {img_path}\")\n",
    "with Image.open(img_path) as img:\n",
    "    plt.imshow(img)\n",
    "    plt.axis('off')\n",
    "    plt.show()"
   ]
  },
  {
   "cell_type": "markdown",
   "id": "53f9b24e-8bd8-4618-8206-8200b61ade61",
   "metadata": {},
   "source": [
    "Count how many images extracted for each tile"
   ]
  },
  {
   "cell_type": "code",
   "execution_count": null,
   "id": "90fe2ec9-555c-4b0d-9650-8c398e30e1de",
   "metadata": {},
   "outputs": [],
   "source": [
    "for key in tile_safes:\n",
    "    print(f\"{key}: {len(tile_safes[key])}\")"
   ]
  },
  {
   "cell_type": "markdown",
   "id": "1c34aa2a-33fa-4cb9-bd5b-cc2862919c10",
   "metadata": {},
   "source": [
    "Display all images found"
   ]
  },
  {
   "cell_type": "code",
   "execution_count": null,
   "id": "ef4b0b00-f8bb-46b1-b870-275297f1af89",
   "metadata": {},
   "outputs": [],
   "source": [
    "for tile in tile_safes:\n",
    "    for safe_path in tile_safes[tile]:\n",
    "        safe_name = os.path.basename(safe_path)\n",
    "        img_file_name = f\"{safe_name[:-5]}-ql.jpg\"\n",
    "        img_path = os.path.join(safe_path, img_file_name)\n",
    "        print(f\"Displaying image: {img_path}\")\n",
    "        with Image.open(img_path) as img:\n",
    "            plt.imshow(img)\n",
    "            plt.axis('off')\n",
    "            plt.show()"
   ]
  },
  {
   "cell_type": "code",
   "execution_count": null,
   "id": "81134678-fcfc-4858-a556-cdbf60d7462c",
   "metadata": {},
   "outputs": [],
   "source": []
  }
 ],
 "metadata": {
  "kernelspec": {
   "display_name": "Python (pyenv)",
   "language": "python",
   "name": "pyenv"
  },
  "language_info": {
   "codemirror_mode": {
    "name": "ipython",
    "version": 3
   },
   "file_extension": ".py",
   "mimetype": "text/x-python",
   "name": "python",
   "nbconvert_exporter": "python",
   "pygments_lexer": "ipython3",
   "version": "3.6.15"
  }
 },
 "nbformat": 4,
 "nbformat_minor": 5
}
