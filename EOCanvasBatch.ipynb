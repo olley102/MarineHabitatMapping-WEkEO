{
 "cells": [
  {
   "cell_type": "markdown",
   "id": "1d96be68-4acf-445f-a08b-9cb5f3900c3a",
   "metadata": {},
   "source": [
    "# EOCanvas Batch Processing with C2RCC on SNAP"
   ]
  },
  {
   "cell_type": "markdown",
   "id": "94720b21-982b-4769-9a78-8e65facdba9e",
   "metadata": {},
   "source": [
    "## Setup"
   ]
  },
  {
   "cell_type": "code",
   "execution_count": 1,
   "id": "455f708d-2325-4c77-ab64-164164d628e9",
   "metadata": {},
   "outputs": [],
   "source": [
    "from eocanvas import API, Credentials\n",
    "from eocanvas.api import Input, Config, ConfigOption\n",
    "from eocanvas.processes import SnapProcess\n",
    "from eocanvas.snap.graph import Graph"
   ]
  },
  {
   "cell_type": "code",
   "execution_count": 2,
   "id": "35ad1015-3f59-4f4e-87ff-8306dfbdd03e",
   "metadata": {},
   "outputs": [],
   "source": [
    "c = Credentials.load()"
   ]
  },
  {
   "cell_type": "code",
   "execution_count": 3,
   "id": "095eaa82-5ebb-4ce1-8d2f-5e9c61bdda44",
   "metadata": {},
   "outputs": [],
   "source": [
    "from hda import Client"
   ]
  },
  {
   "cell_type": "code",
   "execution_count": 4,
   "id": "dd233547-5d80-45fc-8774-b5b60e70638c",
   "metadata": {},
   "outputs": [],
   "source": [
    "c = Client()"
   ]
  },
  {
   "cell_type": "code",
   "execution_count": 5,
   "id": "afffd8eb-ffc0-4fbe-bd07-df01a8279d1b",
   "metadata": {
    "scrolled": true
   },
   "outputs": [
    {
     "data": {
      "text/plain": [
       "{'type': 'object',\n",
       " 'title': 'Querable',\n",
       " 'properties': {'dataset_id': {'title': 'dataset_id',\n",
       "   'type': 'string',\n",
       "   'oneOf': [{'const': 'EO:ESA:DAT:SENTINEL-2',\n",
       "     'title': 'EO:ESA:DAT:SENTINEL-2',\n",
       "     'group': None}]},\n",
       "  'bbox': {'title': 'Bbox',\n",
       "   'type': 'array',\n",
       "   'minItems': 4,\n",
       "   'maxItems': 4,\n",
       "   'items': [{'type': 'number', 'maximum': 180, 'minimum': -180},\n",
       "    {'type': 'number', 'maximum': 90, 'minimum': -90},\n",
       "    {'type': 'number', 'maximum': 180, 'minimum': -180},\n",
       "    {'type': 'number', 'maximum': 90, 'minimum': -90}]},\n",
       "  'productIdentifier': {'title': 'Product Identifier',\n",
       "   'type': 'string',\n",
       "   'pattern': '^[a-zA-Z0-9]+$'},\n",
       "  'productType': {'title': 'Product Type',\n",
       "   'type': 'string',\n",
       "   'oneOf': [{'const': 'S2MSI1C', 'title': 'S2MSI1C', 'group': None},\n",
       "    {'const': 'S2MSI2A', 'title': 'S2MSI2A', 'group': None},\n",
       "    {'const': 'AUX_GNSSRD', 'title': 'AUX_GNSSRD', 'group': None},\n",
       "    {'const': 'AUX_PROQUA', 'title': 'AUX_PROQUA', 'group': None},\n",
       "    {'const': 'AUX_POEORB', 'title': 'AUX_POEORB', 'group': None},\n",
       "    {'const': 'AUX_UT1UTC', 'title': 'AUX_UT1UTC', 'group': None},\n",
       "    {'const': 'GIP_ATMIMA', 'title': 'GIP_ATMIMA', 'group': None},\n",
       "    {'const': 'GIP_ATMSAD', 'title': 'GIP_ATMSAD', 'group': None},\n",
       "    {'const': 'GIP_DATATI', 'title': 'GIP_DATATI', 'group': None},\n",
       "    {'const': 'GIP_LREXTR', 'title': 'GIP_LREXTR', 'group': None},\n",
       "    {'const': 'GIP_INVLOC', 'title': 'GIP_INVLOC', 'group': None},\n",
       "    {'const': 'GIP_SPAMOD', 'title': 'GIP_SPAMOD', 'group': None},\n",
       "    {'const': 'GIP_BLINDP', 'title': 'GIP_BLINDP', 'group': None},\n",
       "    {'const': 'GIP_CLOINV', 'title': 'GIP_CLOINV', 'group': None},\n",
       "    {'const': 'GIP_CLOPAR', 'title': 'GIP_CLOPAR', 'group': None},\n",
       "    {'const': 'GIP_PRDLOC', 'title': 'GIP_PRDLOC', 'group': None},\n",
       "    {'const': 'GIP_R2PARA', 'title': 'GIP_R2PARA', 'group': None},\n",
       "    {'const': 'GIP_R2SWIR', 'title': 'GIP_R2SWIR', 'group': None},\n",
       "    {'const': 'GIP_R2DEPI', 'title': 'GIP_R2DEPI', 'group': None},\n",
       "    {'const': 'GIP_R2NOMO', 'title': 'GIP_R2NOMO', 'group': None},\n",
       "    {'const': 'GIP_R2ABCA', 'title': 'GIP_R2ABCA', 'group': None},\n",
       "    {'const': 'GIP_R2BINN', 'title': 'GIP_R2BINN', 'group': None},\n",
       "    {'const': 'GIP_R2CRCO', 'title': 'GIP_R2CRCO', 'group': None},\n",
       "    {'const': 'GIP_G2PARA', 'title': 'GIP_G2PARA', 'group': None},\n",
       "    {'const': 'GIP_G2PARE', 'title': 'GIP_G2PARE', 'group': None},\n",
       "    {'const': 'GIP_EARMOD', 'title': 'GIP_EARMOD', 'group': None},\n",
       "    {'const': 'GIP_GEOPAR', 'title': 'GIP_GEOPAR', 'group': None},\n",
       "    {'const': 'GIP_INTDET', 'title': 'GIP_INTDET', 'group': None},\n",
       "    {'const': 'GIP_TILPAR', 'title': 'GIP_TILPAR', 'group': None},\n",
       "    {'const': 'GIP_RESPAR', 'title': 'GIP_RESPAR', 'group': None},\n",
       "    {'const': 'GIP_MASPAR', 'title': 'GIP_MASPAR', 'group': None},\n",
       "    {'const': 'GIP_JP2KPA', 'title': 'GIP_JP2KPA', 'group': None},\n",
       "    {'const': 'GIP_ECMWFP', 'title': 'GIP_ECMWFP', 'group': None},\n",
       "    {'const': 'GIP_DECOMP', 'title': 'GIP_DECOMP', 'group': None},\n",
       "    {'const': 'GIP_OLQCPA', 'title': 'GIP_OLQCPA', 'group': None},\n",
       "    {'const': 'GIP_CONVER', 'title': 'GIP_CONVER', 'group': None},\n",
       "    {'const': 'GIP_L2ACAC', 'title': 'GIP_L2ACAC', 'group': None},\n",
       "    {'const': 'GIP_L2ACSC', 'title': 'GIP_L2ACSC', 'group': None},\n",
       "    {'const': 'GIP_PROBA2', 'title': 'GIP_PROBA2', 'group': None},\n",
       "    {'const': 'GIP_HRTPAR', 'title': 'GIP_HRTPAR', 'group': None},\n",
       "    {'const': 'GIP_VIEDIR_B01', 'title': 'GIP_VIEDIR_B01', 'group': None},\n",
       "    {'const': 'GIP_VIEDIR_B02', 'title': 'GIP_VIEDIR_B02', 'group': None},\n",
       "    {'const': 'GIP_VIEDIR_B03', 'title': 'GIP_VIEDIR_B03', 'group': None},\n",
       "    {'const': 'GIP_VIEDIR_B04', 'title': 'GIP_VIEDIR_B04', 'group': None},\n",
       "    {'const': 'GIP_VIEDIR_B05', 'title': 'GIP_VIEDIR_B05', 'group': None},\n",
       "    {'const': 'GIP_VIEDIR_B06', 'title': 'GIP_VIEDIR_B06', 'group': None},\n",
       "    {'const': 'GIP_VIEDIR_B07', 'title': 'GIP_VIEDIR_B07', 'group': None},\n",
       "    {'const': 'GIP_VIEDIR_B08', 'title': 'GIP_VIEDIR_B08', 'group': None},\n",
       "    {'const': 'GIP_VIEDIR_B09', 'title': 'GIP_VIEDIR_B09', 'group': None},\n",
       "    {'const': 'GIP_VIEDIR_B10', 'title': 'GIP_VIEDIR_B10', 'group': None},\n",
       "    {'const': 'GIP_VIEDIR_B11', 'title': 'GIP_VIEDIR_B11', 'group': None},\n",
       "    {'const': 'GIP_VIEDIR_B12', 'title': 'GIP_VIEDIR_B12', 'group': None},\n",
       "    {'const': 'GIP_VIEDIR_B8A', 'title': 'GIP_VIEDIR_B8A', 'group': None},\n",
       "    {'const': 'GIP_R2EQOG_B01', 'title': 'GIP_R2EQOG_B01', 'group': None},\n",
       "    {'const': 'GIP_R2EQOG_B02', 'title': 'GIP_R2EQOG_B02', 'group': None},\n",
       "    {'const': 'GIP_R2EQOG_B03', 'title': 'GIP_R2EQOG_B03', 'group': None},\n",
       "    {'const': 'GIP_R2EQOG_B04', 'title': 'GIP_R2EQOG_B04', 'group': None},\n",
       "    {'const': 'GIP_R2EQOG_B05', 'title': 'GIP_R2EQOG_B05', 'group': None},\n",
       "    {'const': 'GIP_R2EQOG_B06', 'title': 'GIP_R2EQOG_B06', 'group': None},\n",
       "    {'const': 'GIP_R2EQOG_B07', 'title': 'GIP_R2EQOG_B07', 'group': None},\n",
       "    {'const': 'GIP_R2EQOG_B08', 'title': 'GIP_R2EQOG_B08', 'group': None},\n",
       "    {'const': 'GIP_R2EQOG_B09', 'title': 'GIP_R2EQOG_B09', 'group': None},\n",
       "    {'const': 'GIP_R2EQOG_B10', 'title': 'GIP_R2EQOG_B10', 'group': None},\n",
       "    {'const': 'GIP_R2EQOG_B11', 'title': 'GIP_R2EQOG_B11', 'group': None},\n",
       "    {'const': 'GIP_R2EQOG_B12', 'title': 'GIP_R2EQOG_B12', 'group': None},\n",
       "    {'const': 'GIP_R2EQOG_B8A', 'title': 'GIP_R2EQOG_B8A', 'group': None},\n",
       "    {'const': 'GIP_R2DEFI_B01', 'title': 'GIP_R2DEFI_B01', 'group': None},\n",
       "    {'const': 'GIP_R2DEFI_B02', 'title': 'GIP_R2DEFI_B02', 'group': None},\n",
       "    {'const': 'GIP_R2DEFI_B03', 'title': 'GIP_R2DEFI_B03', 'group': None},\n",
       "    {'const': 'GIP_R2DEFI_B04', 'title': 'GIP_R2DEFI_B04', 'group': None},\n",
       "    {'const': 'GIP_R2DEFI_B05', 'title': 'GIP_R2DEFI_B05', 'group': None},\n",
       "    {'const': 'GIP_R2DEFI_B06', 'title': 'GIP_R2DEFI_B06', 'group': None},\n",
       "    {'const': 'GIP_R2DEFI_B07', 'title': 'GIP_R2DEFI_B07', 'group': None},\n",
       "    {'const': 'GIP_R2DEFI_B08', 'title': 'GIP_R2DEFI_B08', 'group': None},\n",
       "    {'const': 'GIP_R2DEFI_B09', 'title': 'GIP_R2DEFI_B09', 'group': None},\n",
       "    {'const': 'GIP_R2DEFI_B10', 'title': 'GIP_R2DEFI_B10', 'group': None},\n",
       "    {'const': 'GIP_R2DEFI_B11', 'title': 'GIP_R2DEFI_B11', 'group': None},\n",
       "    {'const': 'GIP_R2DEFI_B12', 'title': 'GIP_R2DEFI_B12', 'group': None},\n",
       "    {'const': 'GIP_R2DEFI_B8A', 'title': 'GIP_R2DEFI_B8A', 'group': None},\n",
       "    {'const': 'GIP_R2WAFI_B01', 'title': 'GIP_R2WAFI_B01', 'group': None},\n",
       "    {'const': 'GIP_R2WAFI_B02', 'title': 'GIP_R2WAFI_B02', 'group': None},\n",
       "    {'const': 'GIP_R2WAFI_B03', 'title': 'GIP_R2WAFI_B03', 'group': None},\n",
       "    {'const': 'GIP_R2WAFI_B04', 'title': 'GIP_R2WAFI_B04', 'group': None},\n",
       "    {'const': 'GIP_R2WAFI_B05', 'title': 'GIP_R2WAFI_B05', 'group': None},\n",
       "    {'const': 'GIP_R2WAFI_B06', 'title': 'GIP_R2WAFI_B06', 'group': None},\n",
       "    {'const': 'GIP_R2WAFI_B07', 'title': 'GIP_R2WAFI_B07', 'group': None},\n",
       "    {'const': 'GIP_R2WAFI_B08', 'title': 'GIP_R2WAFI_B08', 'group': None},\n",
       "    {'const': 'GIP_R2WAFI_B09', 'title': 'GIP_R2WAFI_B09', 'group': None},\n",
       "    {'const': 'GIP_R2WAFI_B10', 'title': 'GIP_R2WAFI_B10', 'group': None},\n",
       "    {'const': 'GIP_R2WAFI_B11', 'title': 'GIP_R2WAFI_B11', 'group': None},\n",
       "    {'const': 'GIP_R2WAFI_B12', 'title': 'GIP_R2WAFI_B12', 'group': None},\n",
       "    {'const': 'GIP_R2WAFI_B8A', 'title': 'GIP_R2WAFI_B8A', 'group': None},\n",
       "    {'const': 'GIP_R2L2NC_B01', 'title': 'GIP_R2L2NC_B01', 'group': None},\n",
       "    {'const': 'GIP_R2L2NC_B02', 'title': 'GIP_R2L2NC_B02', 'group': None},\n",
       "    {'const': 'GIP_R2L2NC_B03', 'title': 'GIP_R2L2NC_B03', 'group': None},\n",
       "    {'const': 'GIP_R2L2NC_B04', 'title': 'GIP_R2L2NC_B04', 'group': None},\n",
       "    {'const': 'GIP_R2L2NC_B05', 'title': 'GIP_R2L2NC_B05', 'group': None},\n",
       "    {'const': 'GIP_R2L2NC_B06', 'title': 'GIP_R2L2NC_B06', 'group': None},\n",
       "    {'const': 'GIP_R2L2NC_B07', 'title': 'GIP_R2L2NC_B07', 'group': None},\n",
       "    {'const': 'GIP_R2L2NC_B08', 'title': 'GIP_R2L2NC_B08', 'group': None},\n",
       "    {'const': 'GIP_R2L2NC_B09', 'title': 'GIP_R2L2NC_B09', 'group': None},\n",
       "    {'const': 'GIP_R2L2NC_B10', 'title': 'GIP_R2L2NC_B10', 'group': None},\n",
       "    {'const': 'GIP_R2L2NC_B11', 'title': 'GIP_R2L2NC_B11', 'group': None},\n",
       "    {'const': 'GIP_R2L2NC_B12', 'title': 'GIP_R2L2NC_B12', 'group': None},\n",
       "    {'const': 'GIP_R2L2NC_B8A', 'title': 'GIP_R2L2NC_B8A', 'group': None},\n",
       "    {'const': 'GIP_R2DENT_B01', 'title': 'GIP_R2DENT_B01', 'group': None},\n",
       "    {'const': 'GIP_R2DENT_B02', 'title': 'GIP_R2DENT_B02', 'group': None},\n",
       "    {'const': 'GIP_R2DENT_B03', 'title': 'GIP_R2DENT_B03', 'group': None},\n",
       "    {'const': 'GIP_R2DENT_B04', 'title': 'GIP_R2DENT_B04', 'group': None},\n",
       "    {'const': 'GIP_R2DENT_B05', 'title': 'GIP_R2DENT_B05', 'group': None},\n",
       "    {'const': 'GIP_R2DENT_B06', 'title': 'GIP_R2DENT_B06', 'group': None},\n",
       "    {'const': 'GIP_R2DENT_B07', 'title': 'GIP_R2DENT_B07', 'group': None},\n",
       "    {'const': 'GIP_R2DENT_B08', 'title': 'GIP_R2DENT_B08', 'group': None},\n",
       "    {'const': 'GIP_R2DENT_B09', 'title': 'GIP_R2DENT_B09', 'group': None},\n",
       "    {'const': 'GIP_R2DENT_B10', 'title': 'GIP_R2DENT_B10', 'group': None},\n",
       "    {'const': 'GIP_R2DENT_B11', 'title': 'GIP_R2DENT_B11', 'group': None},\n",
       "    {'const': 'GIP_R2DENT_B12', 'title': 'GIP_R2DENT_B12', 'group': None},\n",
       "    {'const': 'GIP_R2DENT_B8A', 'title': 'GIP_R2DENT_B8A', 'group': None},\n",
       "    {'const': 'GIP_R2DECT_B01', 'title': 'GIP_R2DECT_B01', 'group': None},\n",
       "    {'const': 'GIP_R2DECT_B02', 'title': 'GIP_R2DECT_B02', 'group': None},\n",
       "    {'const': 'GIP_R2DECT_B03', 'title': 'GIP_R2DECT_B03', 'group': None},\n",
       "    {'const': 'GIP_R2DECT_B04', 'title': 'GIP_R2DECT_B04', 'group': None},\n",
       "    {'const': 'GIP_R2DECT_B05', 'title': 'GIP_R2DECT_B05', 'group': None},\n",
       "    {'const': 'GIP_R2DECT_B06', 'title': 'GIP_R2DECT_B06', 'group': None},\n",
       "    {'const': 'GIP_R2DECT_B07', 'title': 'GIP_R2DECT_B07', 'group': None},\n",
       "    {'const': 'GIP_R2DECT_B08', 'title': 'GIP_R2DECT_B08', 'group': None},\n",
       "    {'const': 'GIP_R2DECT_B09', 'title': 'GIP_R2DECT_B09', 'group': None},\n",
       "    {'const': 'GIP_R2DECT_B10', 'title': 'GIP_R2DECT_B10', 'group': None},\n",
       "    {'const': 'GIP_R2DECT_B11', 'title': 'GIP_R2DECT_B11', 'group': None},\n",
       "    {'const': 'GIP_R2DECT_B12', 'title': 'GIP_R2DECT_B12', 'group': None},\n",
       "    {'const': 'GIP_R2DECT_B8A', 'title': 'GIP_R2DECT_B8A', 'group': None},\n",
       "    {'const': 'GIP_R2EOB2_B01', 'title': 'GIP_R2EOB2_B01', 'group': None},\n",
       "    {'const': 'GIP_R2EOB2_B02', 'title': 'GIP_R2EOB2_B02', 'group': None},\n",
       "    {'const': 'GIP_R2EOB2_B03', 'title': 'GIP_R2EOB2_B03', 'group': None},\n",
       "    {'const': 'GIP_R2EOB2_B04', 'title': 'GIP_R2EOB2_B04', 'group': None},\n",
       "    {'const': 'GIP_R2EOB2_B05', 'title': 'GIP_R2EOB2_B05', 'group': None},\n",
       "    {'const': 'GIP_R2EOB2_B06', 'title': 'GIP_R2EOB2_B06', 'group': None},\n",
       "    {'const': 'GIP_R2EOB2_B07', 'title': 'GIP_R2EOB2_B07', 'group': None},\n",
       "    {'const': 'GIP_R2EOB2_B08', 'title': 'GIP_R2EOB2_B08', 'group': None},\n",
       "    {'const': 'GIP_R2EOB2_B09', 'title': 'GIP_R2EOB2_B09', 'group': None},\n",
       "    {'const': 'GIP_R2EOB2_B10', 'title': 'GIP_R2EOB2_B10', 'group': None},\n",
       "    {'const': 'GIP_R2EOB2_B11', 'title': 'GIP_R2EOB2_B11', 'group': None},\n",
       "    {'const': 'GIP_R2EOB2_B12', 'title': 'GIP_R2EOB2_B12', 'group': None},\n",
       "    {'const': 'GIP_R2EOB2_B8A', 'title': 'GIP_R2EOB2_B8A', 'group': None}]},\n",
       "  'tileId': {'title': 'Tile Id',\n",
       "   'type': 'string',\n",
       "   'pattern': '^(0[1-9]|[1-5][0-9]|60)[A-Z]{3}$'},\n",
       "  'processingLevel': {'title': 'Processing Level',\n",
       "   'type': 'string',\n",
       "   'oneOf': [{'const': 'S2MSI1C', 'title': 'S2MSI1C', 'group': None},\n",
       "    {'const': 'S2MSI2A', 'title': 'S2MSI2A', 'group': None}]},\n",
       "  'platform': {'title': 'Platform',\n",
       "   'type': 'string',\n",
       "   'oneOf': [{'const': 'S2A', 'title': 'S2A', 'group': None},\n",
       "    {'const': 'S2B', 'title': 'S2B', 'group': None},\n",
       "    {'const': 'S2C', 'title': 'S2C', 'group': None}]},\n",
       "  'instrument': {'title': 'Instrument',\n",
       "   'type': 'string',\n",
       "   'oneOf': [{'const': 'MSI', 'title': 'MSI', 'group': None},\n",
       "    {'const': 'AUX', 'title': 'AUX', 'group': None}]},\n",
       "  'sensorMode': {'title': 'Sensor Mode',\n",
       "   'type': 'string',\n",
       "   'oneOf': [{'const': 'INS-NOBS', 'title': 'INS-NOBS', 'group': None},\n",
       "    {'const': 'INS-RAW', 'title': 'INS-RAW', 'group': None},\n",
       "    {'const': 'INS-VIC', 'title': 'INS-VIC', 'group': None}]},\n",
       "  'status': {'title': 'Status',\n",
       "   'type': 'string',\n",
       "   'oneOf': [{'const': 'ONLINE', 'title': 'ONLINE', 'group': None},\n",
       "    {'const': 'OFFLINE', 'title': 'OFFLINE', 'group': None},\n",
       "    {'const': 'ALL', 'title': 'ALL', 'group': None}]},\n",
       "  'missionTakeId': {'title': 'Mission TakeId',\n",
       "   'type': 'string',\n",
       "   'pattern': '^[a-zA-Z0-9]+$'},\n",
       "  'startIndex': {'title': 'Start Index',\n",
       "   'type': 'string',\n",
       "   'pattern': '^[0-9]*$'},\n",
       "  'itemsPerPage': {'title': 'Items PerPage',\n",
       "   'type': 'string',\n",
       "   'pattern': '^[0-9]*$'},\n",
       "  'startdate': {'title': 'Start Date',\n",
       "   'type': 'string',\n",
       "   'format': 'date-time',\n",
       "   'minimum': '',\n",
       "   'maximum': '',\n",
       "   'default': ''},\n",
       "  'enddate': {'title': 'End Date',\n",
       "   'type': 'string',\n",
       "   'format': 'date-time',\n",
       "   'minimum': '',\n",
       "   'maximum': '',\n",
       "   'default': ''}},\n",
       " 'required': ['dataset_id']}"
      ]
     },
     "execution_count": 5,
     "metadata": {},
     "output_type": "execute_result"
    }
   ],
   "source": [
    "c.metadata(\"EO:ESA:DAT:SENTINEL-2\")"
   ]
  },
  {
   "cell_type": "code",
   "execution_count": 12,
   "id": "2371ed29-5735-4fdc-b88a-7ffa10c111d4",
   "metadata": {},
   "outputs": [],
   "source": [
    "q = {\n",
    "    \"dataset_id\": \"EO:ESA:DAT:SENTINEL-2\",\n",
    "    \"startdate\": \"\",\n",
    "    \"enddate\": \"\",\n",
    "    \"processingLevel\": \"S2MSI1C\",\n",
    "    \"tileId\": \"\"\n",
    "}"
   ]
  },
  {
   "cell_type": "code",
   "execution_count": 6,
   "id": "d93f4bd3-b32f-4659-a744-f25353bfebc2",
   "metadata": {},
   "outputs": [],
   "source": [
    "import json"
   ]
  },
  {
   "cell_type": "code",
   "execution_count": 7,
   "id": "f7daffa0-5e2c-4635-a5db-ffd3ec9e4abe",
   "metadata": {},
   "outputs": [],
   "source": [
    "with open('AOIs.txt', 'r') as fp:\n",
    "    poly_dict = json.load(fp)"
   ]
  },
  {
   "cell_type": "code",
   "execution_count": 8,
   "id": "3b142c1f-64e1-41cc-bcf7-06e601d2346d",
   "metadata": {
    "scrolled": true
   },
   "outputs": [
    {
     "data": {
      "text/plain": [
       "{'2': {'geoRegion': 'POLYGON ((-5.22444257 49.9901843, -4.88225479 49.9901843, -4.88225479 50.29003327, -5.22444257 50.29003327, -5.22444257 49.9901843))',\n",
       "  'tile_Id': '30UUA'},\n",
       " '3': {'geoRegion': 'POLYGON ((-4.81917128 50.19269224, -4.59558622 50.19269224, -4.59558622 50.40467681, -4.81917128 50.40467681, -4.81917128 50.19269224))',\n",
       "  'tile_Id': '30UUA'},\n",
       " '4': {'geoRegion': 'POLYGON ((-4.32949749 50.26538565, -4.02885352 50.26538565, -4.02885352 50.5075424, -4.32949749 50.5075424, -4.32949749 50.26538565))',\n",
       "  'tile_Id': '30UVA'},\n",
       " '6': {'geoRegion': 'POLYGON ((-4.02836874 50.14143345, -3.59050258 50.14143345, -3.59050258 50.34954708, -4.02836874 50.34954708, -4.02836874 50.14143345))',\n",
       "  'tile_Id': '30UVA'},\n",
       " '9': {'geoRegion': 'POLYGON ((-3.70217003 50.32171356, -3.4070158 50.32171356, -3.4070158 50.54736093, -3.70217003 50.54736093, -3.70217003 50.32171356))',\n",
       "  'tile_Id': '30UVA'},\n",
       " '11': {'geoRegion': 'POLYGON ((-4.42178593 50.96017888, -3.80799343 50.96017888, -3.80799343 51.4427289, -4.42178593 51.4427289, -4.42178593 50.96017888))',\n",
       "  'tile_Id': '30UVB'},\n",
       " '12': {'geoRegion': 'POLYGON ((-3.50331426 50.55463065, -3.27987264 50.55463065, -3.27987264 50.71209921, -3.50331426 50.71209921, -3.50331426 50.55463065))',\n",
       "  'tile_Id': '30UVB'},\n",
       " '13': {'geoRegion': 'POLYGON ((-2.09595764 50.55849793, -1.71524861 50.55849793, -1.71524861 50.75094301, -2.09595764 50.75094301, -2.09595764 50.55849793))',\n",
       "  'tile_Id': '30UWB'},\n",
       " '14': {'geoRegion': 'POLYGON ((-1.58556407 50.54458557, -0.64846788 50.54458557, -0.64846788 50.95668855, -1.58556407 50.95668855, -1.58556407 50.54458557))',\n",
       "  'tile_Id': '30UXB'},\n",
       " '15': {'geoRegion': 'POLYGON ((-2.99680783 51.4583999, -2.60709778 51.4583999, -2.60709778 51.69910317, -2.99680783 51.69910317, -2.99680783 51.4583999))',\n",
       "  'tile_Id': '30UWC'},\n",
       " '16': {'geoRegion': 'POLYGON ((-2.60528065 50.55348792, -2.12042715 50.55348792, -2.12042715 50.6553193, -2.60528065 50.6553193, -2.60528065 50.55348792))',\n",
       "  'tile_Id': '30UWB'},\n",
       " '17': {'geoRegion': 'POLYGON ((-6.48086707 49.81301712, -6.21948222 49.81301712, -6.21948222 50.02839047, -6.48086707 50.02839047, -6.48086707 49.81301712))',\n",
       "  'tile_Id': '29UPR'},\n",
       " '18': {'geoRegion': 'POLYGON ((-5.80439836 51.49305133, -4.45149348 51.49305133, -4.45149348 52.32141647, -5.80439836 52.32141647, -5.80439836 51.49305133))',\n",
       "  'tile_Id': '30UUC'},\n",
       " '19': {'geoRegion': 'POLYGON ((-4.44365223 51.49681989, -3.86086484 51.49681989, -3.86086484 51.82236179, -4.44365223 51.82236179, -4.44365223 51.49681989))',\n",
       "  'tile_Id': '30UVC'},\n",
       " '20': {'geoRegion': 'POLYGON ((-5.7897289 49.9734232, -5.3357743 49.9734232, -5.3357743 50.27582106, -5.7897289 50.27582106, -5.7897289 49.9734232))',\n",
       "  'tile_Id': '30UUA'},\n",
       " '21': {'geoRegion': 'POLYGON ((1.10125436 50.94732407, 1.55028195 50.94732407, 1.55028195 51.43096547, 1.10125436 51.43096547, 1.10125436 50.94732407))',\n",
       "  'tile_Id': '31UCS'},\n",
       " '22': {'geoRegion': 'POLYGON ((0.43671218 51.28184468, 1.02698637 51.28184468, 1.02698637 51.43623009, 0.43671218 51.43623009, 0.43671218 51.28184468))',\n",
       "  'tile_Id': '31UCS'},\n",
       " '23': {'geoRegion': 'POLYGON ((0.52676637 51.46052368, 0.99557138 51.46052368, 0.99557138 51.79250276, 0.52676637 51.79250276, 0.52676637 51.46052368))',\n",
       "  'tile_Id': '31UCT'},\n",
       " '24': {'geoRegion': 'POLYGON ((0.84043954 51.69085094, 1.54449944 51.69085094, 1.54449944 52.18611236, 0.84043954 52.18611236, 0.84043954 51.69085094))',\n",
       "  'tile_Id': '31UCT'},\n",
       " '25': {'geoRegion': 'POLYGON ((0.02418999 52.76712205, 0.61684464 52.76712205, 0.61684464 53.22302955, 0.02418999 53.22302955, 0.02418999 52.76712205))',\n",
       "  'tile_Id': '31UCU'},\n",
       " '26': {'geoRegion': 'POLYGON ((-0.89918315 53.47242848, -0.00824939 53.47242848, -0.00824939 53.83742637, -0.89918315 53.83742637, -0.89918315 53.47242848))',\n",
       "  'tile_Id': '30UXE'},\n",
       " '27': {'geoRegion': 'POLYGON ((-4.47852073 52.34372453, -3.87976363 52.34372453, -3.87976363 53.04664288, -4.47852073 53.04664288, -4.47852073 52.34372453))',\n",
       "  'tile_Id': '30UVD'},\n",
       " '28': {'geoRegion': 'POLYGON ((-4.85333229 52.67694745, -4.48515088 52.67694745, -4.48515088 53.09334198, -4.85333229 53.09334198, -4.85333229 52.67694745))',\n",
       "  'tile_Id': '30UUD'}}"
      ]
     },
     "execution_count": 8,
     "metadata": {},
     "output_type": "execute_result"
    }
   ],
   "source": [
    "poly_dict"
   ]
  },
  {
   "cell_type": "code",
   "execution_count": 10,
   "id": "3da0d8ca-d83c-4bd1-8c7c-4b49aa38abdf",
   "metadata": {},
   "outputs": [],
   "source": [
    "tile_polys = {}\n",
    "for v in poly_dict.values():\n",
    "    tile_id = v['tile_Id']\n",
    "    geo_region = v['geoRegion']\n",
    "\n",
    "    if tile_id not in tile_polys:\n",
    "        tile_polys[tile_id] = []\n",
    "    tile_polys[tile_id].append(geo_region)"
   ]
  },
  {
   "cell_type": "code",
   "execution_count": 11,
   "id": "768b9378-be23-46af-8821-f8698522409c",
   "metadata": {
    "scrolled": true
   },
   "outputs": [
    {
     "data": {
      "text/plain": [
       "{'30UUA': ['POLYGON ((-5.22444257 49.9901843, -4.88225479 49.9901843, -4.88225479 50.29003327, -5.22444257 50.29003327, -5.22444257 49.9901843))',\n",
       "  'POLYGON ((-4.81917128 50.19269224, -4.59558622 50.19269224, -4.59558622 50.40467681, -4.81917128 50.40467681, -4.81917128 50.19269224))',\n",
       "  'POLYGON ((-5.7897289 49.9734232, -5.3357743 49.9734232, -5.3357743 50.27582106, -5.7897289 50.27582106, -5.7897289 49.9734232))'],\n",
       " '30UVA': ['POLYGON ((-4.32949749 50.26538565, -4.02885352 50.26538565, -4.02885352 50.5075424, -4.32949749 50.5075424, -4.32949749 50.26538565))',\n",
       "  'POLYGON ((-4.02836874 50.14143345, -3.59050258 50.14143345, -3.59050258 50.34954708, -4.02836874 50.34954708, -4.02836874 50.14143345))',\n",
       "  'POLYGON ((-3.70217003 50.32171356, -3.4070158 50.32171356, -3.4070158 50.54736093, -3.70217003 50.54736093, -3.70217003 50.32171356))'],\n",
       " '30UVB': ['POLYGON ((-4.42178593 50.96017888, -3.80799343 50.96017888, -3.80799343 51.4427289, -4.42178593 51.4427289, -4.42178593 50.96017888))',\n",
       "  'POLYGON ((-3.50331426 50.55463065, -3.27987264 50.55463065, -3.27987264 50.71209921, -3.50331426 50.71209921, -3.50331426 50.55463065))'],\n",
       " '30UWB': ['POLYGON ((-2.09595764 50.55849793, -1.71524861 50.55849793, -1.71524861 50.75094301, -2.09595764 50.75094301, -2.09595764 50.55849793))',\n",
       "  'POLYGON ((-2.60528065 50.55348792, -2.12042715 50.55348792, -2.12042715 50.6553193, -2.60528065 50.6553193, -2.60528065 50.55348792))'],\n",
       " '30UXB': ['POLYGON ((-1.58556407 50.54458557, -0.64846788 50.54458557, -0.64846788 50.95668855, -1.58556407 50.95668855, -1.58556407 50.54458557))'],\n",
       " '30UWC': ['POLYGON ((-2.99680783 51.4583999, -2.60709778 51.4583999, -2.60709778 51.69910317, -2.99680783 51.69910317, -2.99680783 51.4583999))'],\n",
       " '29UPR': ['POLYGON ((-6.48086707 49.81301712, -6.21948222 49.81301712, -6.21948222 50.02839047, -6.48086707 50.02839047, -6.48086707 49.81301712))'],\n",
       " '30UUC': ['POLYGON ((-5.80439836 51.49305133, -4.45149348 51.49305133, -4.45149348 52.32141647, -5.80439836 52.32141647, -5.80439836 51.49305133))'],\n",
       " '30UVC': ['POLYGON ((-4.44365223 51.49681989, -3.86086484 51.49681989, -3.86086484 51.82236179, -4.44365223 51.82236179, -4.44365223 51.49681989))'],\n",
       " '31UCS': ['POLYGON ((1.10125436 50.94732407, 1.55028195 50.94732407, 1.55028195 51.43096547, 1.10125436 51.43096547, 1.10125436 50.94732407))',\n",
       "  'POLYGON ((0.43671218 51.28184468, 1.02698637 51.28184468, 1.02698637 51.43623009, 0.43671218 51.43623009, 0.43671218 51.28184468))'],\n",
       " '31UCT': ['POLYGON ((0.52676637 51.46052368, 0.99557138 51.46052368, 0.99557138 51.79250276, 0.52676637 51.79250276, 0.52676637 51.46052368))',\n",
       "  'POLYGON ((0.84043954 51.69085094, 1.54449944 51.69085094, 1.54449944 52.18611236, 0.84043954 52.18611236, 0.84043954 51.69085094))'],\n",
       " '31UCU': ['POLYGON ((0.02418999 52.76712205, 0.61684464 52.76712205, 0.61684464 53.22302955, 0.02418999 53.22302955, 0.02418999 52.76712205))'],\n",
       " '30UXE': ['POLYGON ((-0.89918315 53.47242848, -0.00824939 53.47242848, -0.00824939 53.83742637, -0.89918315 53.83742637, -0.89918315 53.47242848))'],\n",
       " '30UVD': ['POLYGON ((-4.47852073 52.34372453, -3.87976363 52.34372453, -3.87976363 53.04664288, -4.47852073 53.04664288, -4.47852073 52.34372453))'],\n",
       " '30UUD': ['POLYGON ((-4.85333229 52.67694745, -4.48515088 52.67694745, -4.48515088 53.09334198, -4.85333229 53.09334198, -4.85333229 52.67694745))']}"
      ]
     },
     "execution_count": 11,
     "metadata": {},
     "output_type": "execute_result"
    }
   ],
   "source": [
    "tile_polys"
   ]
  },
  {
   "cell_type": "code",
   "execution_count": 12,
   "id": "f322d6ca-bd0b-46ff-82dc-edf7700f9b9e",
   "metadata": {},
   "outputs": [],
   "source": [
    "import csv"
   ]
  },
  {
   "cell_type": "code",
   "execution_count": 15,
   "id": "cc24f20b-943d-4b13-aca2-b50d93dfa3e3",
   "metadata": {},
   "outputs": [],
   "source": [
    "tile_dates = {}"
   ]
  },
  {
   "cell_type": "code",
   "execution_count": 16,
   "id": "75fd60b6-d710-47f8-a140-e1ce2c2c69d5",
   "metadata": {},
   "outputs": [],
   "source": [
    "with open(\"query_dates.csv\", \"r\") as fp:\n",
    "    reader = csv.reader(fp, delimiter=\",\")\n",
    "    next(reader)\n",
    "    for tileId, startdate, enddate in reader:\n",
    "        tile_dates[tileId] = {'startdate': startdate, 'enddate': enddate}"
   ]
  },
  {
   "cell_type": "code",
   "execution_count": 17,
   "id": "17eab36d-aef7-42d3-b822-c5c6f017f4d4",
   "metadata": {},
   "outputs": [
    {
     "data": {
      "text/plain": [
       "{'30UUA': {'startdate': '2020-06-23T00:00:00.000Z',\n",
       "  'enddate': '2020-06-24T00:00:00.000Z'},\n",
       " '30UVA': {'startdate': '2020-06-23T00:00:00.000Z',\n",
       "  'enddate': '2020-06-24T00:00:00.000Z'},\n",
       " '30UVB': {'startdate': '2020-06-23T00:00:00.000Z',\n",
       "  'enddate': '2020-06-24T00:00:00.000Z'},\n",
       " '30UWB': {'startdate': '2020-06-25T00:00:00.000Z',\n",
       "  'enddate': '2020-06-26T00:00:00.000Z'},\n",
       " '30UXB': {'startdate': '2020-07-30T00:00:00.000Z',\n",
       "  'enddate': '2020-07-31T00:00:00.000Z'},\n",
       " '30UWC': {'startdate': '2020-06-25T00:00:00.000Z',\n",
       "  'enddate': '2020-06-26T00:00:00.000Z'},\n",
       " '29UPR': {'startdate': '2020-06-01T00:00:00.000Z',\n",
       "  'enddate': '2020-06-02T00:00:00.000Z'},\n",
       " '30UUC': {'startdate': '2020-06-01T00:00:00.000Z',\n",
       "  'enddate': '2020-06-02T00:00:00.000Z'},\n",
       " '30UVC': {'startdate': '2020-06-23T00:00:00.000Z',\n",
       "  'enddate': '2020-06-24T00:00:00.000Z'},\n",
       " '31UCS': {'startdate': '2023-07-07T00:00:00.000Z',\n",
       "  'enddate': '2023-07-08T00:00:00.000Z'},\n",
       " '31UCT': {'startdate': '2023-07-07T00:00:00.000Z',\n",
       "  'enddate': '2023-07-08T00:00:00.000Z'},\n",
       " '31UCU': {'startdate': '2023-07-07T00:00:00.000Z',\n",
       "  'enddate': '2023-07-08T00:00:00.000Z'},\n",
       " '30UXE': {'startdate': '2023-06-10T00:00:00.000Z',\n",
       "  'enddate': '2023-06-11T00:00:00.000Z'},\n",
       " '30UVD': {'startdate': '2023-06-01T00:00:00.000Z',\n",
       "  'enddate': '2023-06-02T00:00:00.000Z'},\n",
       " '30UUD': {'startdate': '2023-06-01T00:00:00.000Z',\n",
       "  'enddate': '2023-06-02T00:00:00.000Z'}}"
      ]
     },
     "execution_count": 17,
     "metadata": {},
     "output_type": "execute_result"
    }
   ],
   "source": [
    "tile_dates"
   ]
  },
  {
   "cell_type": "markdown",
   "id": "ee32bc14-0dfe-41b3-aa3e-b1f40904ca46",
   "metadata": {},
   "source": [
    "## Process workflow"
   ]
  },
  {
   "cell_type": "code",
   "execution_count": null,
   "id": "696f40a6-9118-4d35-8a80-41a93292ae4c",
   "metadata": {},
   "outputs": [],
   "source": [
    "with open(\"s2_c2rcc.xml\", \"r\") as fp:\n",
    "    graph_file = fp.read()"
   ]
  },
  {
   "cell_type": "code",
   "execution_count": null,
   "id": "0049e17c-bbbd-470b-9ddf-d9a4ac4762f6",
   "metadata": {},
   "outputs": [],
   "source": [
    "config = Config(key=\"img1\", options=ConfigOption(uncompress=False, sub_path=\"\"))"
   ]
  },
  {
   "cell_type": "code",
   "execution_count": null,
   "id": "01564c78-2653-4c1c-a9a7-f224a2545e1b",
   "metadata": {},
   "outputs": [],
   "source": [
    "for k, v in tile_polys.items():"
   ]
  },
  {
   "cell_type": "code",
   "execution_count": null,
   "id": "582b74f3-616a-4fc7-8517-f3daf3c96f17",
   "metadata": {},
   "outputs": [],
   "source": [
    "q['tileId'] = k\n",
    "r = c.search(q)"
   ]
  },
  {
   "cell_type": "code",
   "execution_count": null,
   "id": "6d4db5d2-d0dd-438a-bd7d-acaddad4f91b",
   "metadata": {},
   "outputs": [],
   "source": [
    "process = SnapProcess(snap_graph=graph, eo_config=config, eo_input=inputs)"
   ]
  },
  {
   "cell_type": "code",
   "execution_count": null,
   "id": "efbf7a4b-9da5-42ce-bbc6-b40aeec7388f",
   "metadata": {},
   "outputs": [],
   "source": [
    "modified_xml = graph_file.replace(\"$polygon\", geo_region)\n",
    "graph = Graph.from_text(modified_xml)"
   ]
  },
  {
   "cell_type": "code",
   "execution_count": null,
   "id": "c130d8ea-fd29-47da-b6d0-6035617c994d",
   "metadata": {},
   "outputs": [],
   "source": []
  }
 ],
 "metadata": {
  "kernelspec": {
   "display_name": "wekeolab",
   "language": "python",
   "name": "wekeolab"
  },
  "language_info": {
   "codemirror_mode": {
    "name": "ipython",
    "version": 3
   },
   "file_extension": ".py",
   "mimetype": "text/x-python",
   "name": "python",
   "nbconvert_exporter": "python",
   "pygments_lexer": "ipython3",
   "version": "3.11.6"
  }
 },
 "nbformat": 4,
 "nbformat_minor": 5
}
