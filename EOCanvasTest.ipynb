{
 "cells": [
  {
   "cell_type": "markdown",
   "id": "4278161c-4561-44fe-8e2f-99534c59d3df",
   "metadata": {},
   "source": [
    "## Setup"
   ]
  },
  {
   "cell_type": "code",
   "execution_count": 1,
   "id": "de0d56a1-bb48-485e-b038-32ebf2c2e6ef",
   "metadata": {},
   "outputs": [],
   "source": [
    "from eocanvas import API, Credentials\n",
    "from eocanvas.api import Input, Config, ConfigOption\n",
    "from eocanvas.processes import SnapProcess\n",
    "from eocanvas.snap.graph import Graph"
   ]
  },
  {
   "cell_type": "code",
   "execution_count": 2,
   "id": "2915af82-355b-49f1-8a33-6d4ff401d613",
   "metadata": {},
   "outputs": [],
   "source": [
    "c = Credentials.load()"
   ]
  },
  {
   "cell_type": "code",
   "execution_count": 3,
   "id": "dc53dbf4-f291-4608-aafa-6f979b9ebc94",
   "metadata": {},
   "outputs": [],
   "source": [
    "from hda import Client"
   ]
  },
  {
   "cell_type": "code",
   "execution_count": 4,
   "id": "833674d6-0044-4914-a534-7c0874f8e5fb",
   "metadata": {},
   "outputs": [],
   "source": [
    "c = Client()"
   ]
  },
  {
   "cell_type": "markdown",
   "id": "bf927d5b-195f-49e3-a3b3-89a7da606d7c",
   "metadata": {},
   "source": [
    "## Data"
   ]
  },
  {
   "cell_type": "code",
   "execution_count": 5,
   "id": "303581cb-fc4a-4ce6-80b7-bdeab3e02408",
   "metadata": {
    "scrolled": true
   },
   "outputs": [
    {
     "data": {
      "text/plain": [
       "{'type': 'object',\n",
       " 'title': 'Querable',\n",
       " 'properties': {'dataset_id': {'title': 'dataset_id',\n",
       "   'type': 'string',\n",
       "   'oneOf': [{'const': 'EO:ESA:DAT:SENTINEL-2',\n",
       "     'title': 'EO:ESA:DAT:SENTINEL-2',\n",
       "     'group': None}]},\n",
       "  'bbox': {'title': 'Bbox',\n",
       "   'type': 'array',\n",
       "   'minItems': 4,\n",
       "   'maxItems': 4,\n",
       "   'items': [{'type': 'number', 'maximum': 180, 'minimum': -180},\n",
       "    {'type': 'number', 'maximum': 90, 'minimum': -90},\n",
       "    {'type': 'number', 'maximum': 180, 'minimum': -180},\n",
       "    {'type': 'number', 'maximum': 90, 'minimum': -90}]},\n",
       "  'productIdentifier': {'title': 'Product Identifier',\n",
       "   'type': 'string',\n",
       "   'pattern': '^[a-zA-Z0-9]+$'},\n",
       "  'productType': {'title': 'Product Type',\n",
       "   'type': 'string',\n",
       "   'oneOf': [{'const': 'S2MSI1C', 'title': 'S2MSI1C', 'group': None},\n",
       "    {'const': 'S2MSI2A', 'title': 'S2MSI2A', 'group': None},\n",
       "    {'const': 'AUX_GNSSRD', 'title': 'AUX_GNSSRD', 'group': None},\n",
       "    {'const': 'AUX_PROQUA', 'title': 'AUX_PROQUA', 'group': None},\n",
       "    {'const': 'AUX_POEORB', 'title': 'AUX_POEORB', 'group': None},\n",
       "    {'const': 'AUX_UT1UTC', 'title': 'AUX_UT1UTC', 'group': None},\n",
       "    {'const': 'GIP_ATMIMA', 'title': 'GIP_ATMIMA', 'group': None},\n",
       "    {'const': 'GIP_ATMSAD', 'title': 'GIP_ATMSAD', 'group': None},\n",
       "    {'const': 'GIP_DATATI', 'title': 'GIP_DATATI', 'group': None},\n",
       "    {'const': 'GIP_LREXTR', 'title': 'GIP_LREXTR', 'group': None},\n",
       "    {'const': 'GIP_INVLOC', 'title': 'GIP_INVLOC', 'group': None},\n",
       "    {'const': 'GIP_SPAMOD', 'title': 'GIP_SPAMOD', 'group': None},\n",
       "    {'const': 'GIP_BLINDP', 'title': 'GIP_BLINDP', 'group': None},\n",
       "    {'const': 'GIP_CLOINV', 'title': 'GIP_CLOINV', 'group': None},\n",
       "    {'const': 'GIP_CLOPAR', 'title': 'GIP_CLOPAR', 'group': None},\n",
       "    {'const': 'GIP_PRDLOC', 'title': 'GIP_PRDLOC', 'group': None},\n",
       "    {'const': 'GIP_R2PARA', 'title': 'GIP_R2PARA', 'group': None},\n",
       "    {'const': 'GIP_R2SWIR', 'title': 'GIP_R2SWIR', 'group': None},\n",
       "    {'const': 'GIP_R2DEPI', 'title': 'GIP_R2DEPI', 'group': None},\n",
       "    {'const': 'GIP_R2NOMO', 'title': 'GIP_R2NOMO', 'group': None},\n",
       "    {'const': 'GIP_R2ABCA', 'title': 'GIP_R2ABCA', 'group': None},\n",
       "    {'const': 'GIP_R2BINN', 'title': 'GIP_R2BINN', 'group': None},\n",
       "    {'const': 'GIP_R2CRCO', 'title': 'GIP_R2CRCO', 'group': None},\n",
       "    {'const': 'GIP_G2PARA', 'title': 'GIP_G2PARA', 'group': None},\n",
       "    {'const': 'GIP_G2PARE', 'title': 'GIP_G2PARE', 'group': None},\n",
       "    {'const': 'GIP_EARMOD', 'title': 'GIP_EARMOD', 'group': None},\n",
       "    {'const': 'GIP_GEOPAR', 'title': 'GIP_GEOPAR', 'group': None},\n",
       "    {'const': 'GIP_INTDET', 'title': 'GIP_INTDET', 'group': None},\n",
       "    {'const': 'GIP_TILPAR', 'title': 'GIP_TILPAR', 'group': None},\n",
       "    {'const': 'GIP_RESPAR', 'title': 'GIP_RESPAR', 'group': None},\n",
       "    {'const': 'GIP_MASPAR', 'title': 'GIP_MASPAR', 'group': None},\n",
       "    {'const': 'GIP_JP2KPA', 'title': 'GIP_JP2KPA', 'group': None},\n",
       "    {'const': 'GIP_ECMWFP', 'title': 'GIP_ECMWFP', 'group': None},\n",
       "    {'const': 'GIP_DECOMP', 'title': 'GIP_DECOMP', 'group': None},\n",
       "    {'const': 'GIP_OLQCPA', 'title': 'GIP_OLQCPA', 'group': None},\n",
       "    {'const': 'GIP_CONVER', 'title': 'GIP_CONVER', 'group': None},\n",
       "    {'const': 'GIP_L2ACAC', 'title': 'GIP_L2ACAC', 'group': None},\n",
       "    {'const': 'GIP_L2ACSC', 'title': 'GIP_L2ACSC', 'group': None},\n",
       "    {'const': 'GIP_PROBA2', 'title': 'GIP_PROBA2', 'group': None},\n",
       "    {'const': 'GIP_HRTPAR', 'title': 'GIP_HRTPAR', 'group': None},\n",
       "    {'const': 'GIP_VIEDIR_B01', 'title': 'GIP_VIEDIR_B01', 'group': None},\n",
       "    {'const': 'GIP_VIEDIR_B02', 'title': 'GIP_VIEDIR_B02', 'group': None},\n",
       "    {'const': 'GIP_VIEDIR_B03', 'title': 'GIP_VIEDIR_B03', 'group': None},\n",
       "    {'const': 'GIP_VIEDIR_B04', 'title': 'GIP_VIEDIR_B04', 'group': None},\n",
       "    {'const': 'GIP_VIEDIR_B05', 'title': 'GIP_VIEDIR_B05', 'group': None},\n",
       "    {'const': 'GIP_VIEDIR_B06', 'title': 'GIP_VIEDIR_B06', 'group': None},\n",
       "    {'const': 'GIP_VIEDIR_B07', 'title': 'GIP_VIEDIR_B07', 'group': None},\n",
       "    {'const': 'GIP_VIEDIR_B08', 'title': 'GIP_VIEDIR_B08', 'group': None},\n",
       "    {'const': 'GIP_VIEDIR_B09', 'title': 'GIP_VIEDIR_B09', 'group': None},\n",
       "    {'const': 'GIP_VIEDIR_B10', 'title': 'GIP_VIEDIR_B10', 'group': None},\n",
       "    {'const': 'GIP_VIEDIR_B11', 'title': 'GIP_VIEDIR_B11', 'group': None},\n",
       "    {'const': 'GIP_VIEDIR_B12', 'title': 'GIP_VIEDIR_B12', 'group': None},\n",
       "    {'const': 'GIP_VIEDIR_B8A', 'title': 'GIP_VIEDIR_B8A', 'group': None},\n",
       "    {'const': 'GIP_R2EQOG_B01', 'title': 'GIP_R2EQOG_B01', 'group': None},\n",
       "    {'const': 'GIP_R2EQOG_B02', 'title': 'GIP_R2EQOG_B02', 'group': None},\n",
       "    {'const': 'GIP_R2EQOG_B03', 'title': 'GIP_R2EQOG_B03', 'group': None},\n",
       "    {'const': 'GIP_R2EQOG_B04', 'title': 'GIP_R2EQOG_B04', 'group': None},\n",
       "    {'const': 'GIP_R2EQOG_B05', 'title': 'GIP_R2EQOG_B05', 'group': None},\n",
       "    {'const': 'GIP_R2EQOG_B06', 'title': 'GIP_R2EQOG_B06', 'group': None},\n",
       "    {'const': 'GIP_R2EQOG_B07', 'title': 'GIP_R2EQOG_B07', 'group': None},\n",
       "    {'const': 'GIP_R2EQOG_B08', 'title': 'GIP_R2EQOG_B08', 'group': None},\n",
       "    {'const': 'GIP_R2EQOG_B09', 'title': 'GIP_R2EQOG_B09', 'group': None},\n",
       "    {'const': 'GIP_R2EQOG_B10', 'title': 'GIP_R2EQOG_B10', 'group': None},\n",
       "    {'const': 'GIP_R2EQOG_B11', 'title': 'GIP_R2EQOG_B11', 'group': None},\n",
       "    {'const': 'GIP_R2EQOG_B12', 'title': 'GIP_R2EQOG_B12', 'group': None},\n",
       "    {'const': 'GIP_R2EQOG_B8A', 'title': 'GIP_R2EQOG_B8A', 'group': None},\n",
       "    {'const': 'GIP_R2DEFI_B01', 'title': 'GIP_R2DEFI_B01', 'group': None},\n",
       "    {'const': 'GIP_R2DEFI_B02', 'title': 'GIP_R2DEFI_B02', 'group': None},\n",
       "    {'const': 'GIP_R2DEFI_B03', 'title': 'GIP_R2DEFI_B03', 'group': None},\n",
       "    {'const': 'GIP_R2DEFI_B04', 'title': 'GIP_R2DEFI_B04', 'group': None},\n",
       "    {'const': 'GIP_R2DEFI_B05', 'title': 'GIP_R2DEFI_B05', 'group': None},\n",
       "    {'const': 'GIP_R2DEFI_B06', 'title': 'GIP_R2DEFI_B06', 'group': None},\n",
       "    {'const': 'GIP_R2DEFI_B07', 'title': 'GIP_R2DEFI_B07', 'group': None},\n",
       "    {'const': 'GIP_R2DEFI_B08', 'title': 'GIP_R2DEFI_B08', 'group': None},\n",
       "    {'const': 'GIP_R2DEFI_B09', 'title': 'GIP_R2DEFI_B09', 'group': None},\n",
       "    {'const': 'GIP_R2DEFI_B10', 'title': 'GIP_R2DEFI_B10', 'group': None},\n",
       "    {'const': 'GIP_R2DEFI_B11', 'title': 'GIP_R2DEFI_B11', 'group': None},\n",
       "    {'const': 'GIP_R2DEFI_B12', 'title': 'GIP_R2DEFI_B12', 'group': None},\n",
       "    {'const': 'GIP_R2DEFI_B8A', 'title': 'GIP_R2DEFI_B8A', 'group': None},\n",
       "    {'const': 'GIP_R2WAFI_B01', 'title': 'GIP_R2WAFI_B01', 'group': None},\n",
       "    {'const': 'GIP_R2WAFI_B02', 'title': 'GIP_R2WAFI_B02', 'group': None},\n",
       "    {'const': 'GIP_R2WAFI_B03', 'title': 'GIP_R2WAFI_B03', 'group': None},\n",
       "    {'const': 'GIP_R2WAFI_B04', 'title': 'GIP_R2WAFI_B04', 'group': None},\n",
       "    {'const': 'GIP_R2WAFI_B05', 'title': 'GIP_R2WAFI_B05', 'group': None},\n",
       "    {'const': 'GIP_R2WAFI_B06', 'title': 'GIP_R2WAFI_B06', 'group': None},\n",
       "    {'const': 'GIP_R2WAFI_B07', 'title': 'GIP_R2WAFI_B07', 'group': None},\n",
       "    {'const': 'GIP_R2WAFI_B08', 'title': 'GIP_R2WAFI_B08', 'group': None},\n",
       "    {'const': 'GIP_R2WAFI_B09', 'title': 'GIP_R2WAFI_B09', 'group': None},\n",
       "    {'const': 'GIP_R2WAFI_B10', 'title': 'GIP_R2WAFI_B10', 'group': None},\n",
       "    {'const': 'GIP_R2WAFI_B11', 'title': 'GIP_R2WAFI_B11', 'group': None},\n",
       "    {'const': 'GIP_R2WAFI_B12', 'title': 'GIP_R2WAFI_B12', 'group': None},\n",
       "    {'const': 'GIP_R2WAFI_B8A', 'title': 'GIP_R2WAFI_B8A', 'group': None},\n",
       "    {'const': 'GIP_R2L2NC_B01', 'title': 'GIP_R2L2NC_B01', 'group': None},\n",
       "    {'const': 'GIP_R2L2NC_B02', 'title': 'GIP_R2L2NC_B02', 'group': None},\n",
       "    {'const': 'GIP_R2L2NC_B03', 'title': 'GIP_R2L2NC_B03', 'group': None},\n",
       "    {'const': 'GIP_R2L2NC_B04', 'title': 'GIP_R2L2NC_B04', 'group': None},\n",
       "    {'const': 'GIP_R2L2NC_B05', 'title': 'GIP_R2L2NC_B05', 'group': None},\n",
       "    {'const': 'GIP_R2L2NC_B06', 'title': 'GIP_R2L2NC_B06', 'group': None},\n",
       "    {'const': 'GIP_R2L2NC_B07', 'title': 'GIP_R2L2NC_B07', 'group': None},\n",
       "    {'const': 'GIP_R2L2NC_B08', 'title': 'GIP_R2L2NC_B08', 'group': None},\n",
       "    {'const': 'GIP_R2L2NC_B09', 'title': 'GIP_R2L2NC_B09', 'group': None},\n",
       "    {'const': 'GIP_R2L2NC_B10', 'title': 'GIP_R2L2NC_B10', 'group': None},\n",
       "    {'const': 'GIP_R2L2NC_B11', 'title': 'GIP_R2L2NC_B11', 'group': None},\n",
       "    {'const': 'GIP_R2L2NC_B12', 'title': 'GIP_R2L2NC_B12', 'group': None},\n",
       "    {'const': 'GIP_R2L2NC_B8A', 'title': 'GIP_R2L2NC_B8A', 'group': None},\n",
       "    {'const': 'GIP_R2DENT_B01', 'title': 'GIP_R2DENT_B01', 'group': None},\n",
       "    {'const': 'GIP_R2DENT_B02', 'title': 'GIP_R2DENT_B02', 'group': None},\n",
       "    {'const': 'GIP_R2DENT_B03', 'title': 'GIP_R2DENT_B03', 'group': None},\n",
       "    {'const': 'GIP_R2DENT_B04', 'title': 'GIP_R2DENT_B04', 'group': None},\n",
       "    {'const': 'GIP_R2DENT_B05', 'title': 'GIP_R2DENT_B05', 'group': None},\n",
       "    {'const': 'GIP_R2DENT_B06', 'title': 'GIP_R2DENT_B06', 'group': None},\n",
       "    {'const': 'GIP_R2DENT_B07', 'title': 'GIP_R2DENT_B07', 'group': None},\n",
       "    {'const': 'GIP_R2DENT_B08', 'title': 'GIP_R2DENT_B08', 'group': None},\n",
       "    {'const': 'GIP_R2DENT_B09', 'title': 'GIP_R2DENT_B09', 'group': None},\n",
       "    {'const': 'GIP_R2DENT_B10', 'title': 'GIP_R2DENT_B10', 'group': None},\n",
       "    {'const': 'GIP_R2DENT_B11', 'title': 'GIP_R2DENT_B11', 'group': None},\n",
       "    {'const': 'GIP_R2DENT_B12', 'title': 'GIP_R2DENT_B12', 'group': None},\n",
       "    {'const': 'GIP_R2DENT_B8A', 'title': 'GIP_R2DENT_B8A', 'group': None},\n",
       "    {'const': 'GIP_R2DECT_B01', 'title': 'GIP_R2DECT_B01', 'group': None},\n",
       "    {'const': 'GIP_R2DECT_B02', 'title': 'GIP_R2DECT_B02', 'group': None},\n",
       "    {'const': 'GIP_R2DECT_B03', 'title': 'GIP_R2DECT_B03', 'group': None},\n",
       "    {'const': 'GIP_R2DECT_B04', 'title': 'GIP_R2DECT_B04', 'group': None},\n",
       "    {'const': 'GIP_R2DECT_B05', 'title': 'GIP_R2DECT_B05', 'group': None},\n",
       "    {'const': 'GIP_R2DECT_B06', 'title': 'GIP_R2DECT_B06', 'group': None},\n",
       "    {'const': 'GIP_R2DECT_B07', 'title': 'GIP_R2DECT_B07', 'group': None},\n",
       "    {'const': 'GIP_R2DECT_B08', 'title': 'GIP_R2DECT_B08', 'group': None},\n",
       "    {'const': 'GIP_R2DECT_B09', 'title': 'GIP_R2DECT_B09', 'group': None},\n",
       "    {'const': 'GIP_R2DECT_B10', 'title': 'GIP_R2DECT_B10', 'group': None},\n",
       "    {'const': 'GIP_R2DECT_B11', 'title': 'GIP_R2DECT_B11', 'group': None},\n",
       "    {'const': 'GIP_R2DECT_B12', 'title': 'GIP_R2DECT_B12', 'group': None},\n",
       "    {'const': 'GIP_R2DECT_B8A', 'title': 'GIP_R2DECT_B8A', 'group': None},\n",
       "    {'const': 'GIP_R2EOB2_B01', 'title': 'GIP_R2EOB2_B01', 'group': None},\n",
       "    {'const': 'GIP_R2EOB2_B02', 'title': 'GIP_R2EOB2_B02', 'group': None},\n",
       "    {'const': 'GIP_R2EOB2_B03', 'title': 'GIP_R2EOB2_B03', 'group': None},\n",
       "    {'const': 'GIP_R2EOB2_B04', 'title': 'GIP_R2EOB2_B04', 'group': None},\n",
       "    {'const': 'GIP_R2EOB2_B05', 'title': 'GIP_R2EOB2_B05', 'group': None},\n",
       "    {'const': 'GIP_R2EOB2_B06', 'title': 'GIP_R2EOB2_B06', 'group': None},\n",
       "    {'const': 'GIP_R2EOB2_B07', 'title': 'GIP_R2EOB2_B07', 'group': None},\n",
       "    {'const': 'GIP_R2EOB2_B08', 'title': 'GIP_R2EOB2_B08', 'group': None},\n",
       "    {'const': 'GIP_R2EOB2_B09', 'title': 'GIP_R2EOB2_B09', 'group': None},\n",
       "    {'const': 'GIP_R2EOB2_B10', 'title': 'GIP_R2EOB2_B10', 'group': None},\n",
       "    {'const': 'GIP_R2EOB2_B11', 'title': 'GIP_R2EOB2_B11', 'group': None},\n",
       "    {'const': 'GIP_R2EOB2_B12', 'title': 'GIP_R2EOB2_B12', 'group': None},\n",
       "    {'const': 'GIP_R2EOB2_B8A', 'title': 'GIP_R2EOB2_B8A', 'group': None}]},\n",
       "  'tileId': {'title': 'Tile Id',\n",
       "   'type': 'string',\n",
       "   'pattern': '^(0[1-9]|[1-5][0-9]|60)[A-Z]{3}$'},\n",
       "  'processingLevel': {'title': 'Processing Level',\n",
       "   'type': 'string',\n",
       "   'oneOf': [{'const': 'S2MSI1C', 'title': 'S2MSI1C', 'group': None},\n",
       "    {'const': 'S2MSI2A', 'title': 'S2MSI2A', 'group': None}]},\n",
       "  'platform': {'title': 'Platform',\n",
       "   'type': 'string',\n",
       "   'oneOf': [{'const': 'S2A', 'title': 'S2A', 'group': None},\n",
       "    {'const': 'S2B', 'title': 'S2B', 'group': None},\n",
       "    {'const': 'S2C', 'title': 'S2C', 'group': None}]},\n",
       "  'instrument': {'title': 'Instrument',\n",
       "   'type': 'string',\n",
       "   'oneOf': [{'const': 'MSI', 'title': 'MSI', 'group': None},\n",
       "    {'const': 'AUX', 'title': 'AUX', 'group': None}]},\n",
       "  'sensorMode': {'title': 'Sensor Mode',\n",
       "   'type': 'string',\n",
       "   'oneOf': [{'const': 'INS-NOBS', 'title': 'INS-NOBS', 'group': None},\n",
       "    {'const': 'INS-RAW', 'title': 'INS-RAW', 'group': None},\n",
       "    {'const': 'INS-VIC', 'title': 'INS-VIC', 'group': None}]},\n",
       "  'status': {'title': 'Status',\n",
       "   'type': 'string',\n",
       "   'oneOf': [{'const': 'ONLINE', 'title': 'ONLINE', 'group': None},\n",
       "    {'const': 'OFFLINE', 'title': 'OFFLINE', 'group': None},\n",
       "    {'const': 'ALL', 'title': 'ALL', 'group': None}]},\n",
       "  'missionTakeId': {'title': 'Mission TakeId',\n",
       "   'type': 'string',\n",
       "   'pattern': '^[a-zA-Z0-9]+$'},\n",
       "  'startIndex': {'title': 'Start Index',\n",
       "   'type': 'string',\n",
       "   'pattern': '^[0-9]*$'},\n",
       "  'itemsPerPage': {'title': 'Items PerPage',\n",
       "   'type': 'string',\n",
       "   'pattern': '^[0-9]*$'},\n",
       "  'startdate': {'title': 'Start Date',\n",
       "   'type': 'string',\n",
       "   'format': 'date-time',\n",
       "   'minimum': '',\n",
       "   'maximum': '',\n",
       "   'default': ''},\n",
       "  'enddate': {'title': 'End Date',\n",
       "   'type': 'string',\n",
       "   'format': 'date-time',\n",
       "   'minimum': '',\n",
       "   'maximum': '',\n",
       "   'default': ''}},\n",
       " 'required': ['dataset_id']}"
      ]
     },
     "execution_count": 5,
     "metadata": {},
     "output_type": "execute_result"
    }
   ],
   "source": [
    "c.metadata(\"EO:ESA:DAT:SENTINEL-2\")"
   ]
  },
  {
   "cell_type": "code",
   "execution_count": 6,
   "id": "9608cf51-5b44-4b20-b977-8fa6eada18f6",
   "metadata": {},
   "outputs": [],
   "source": [
    "q = {\n",
    "    \"dataset_id\": \"EO:ESA:DAT:SENTINEL-2\",\n",
    "    \"startdate\": \"2020-06-23T00:00:00.000Z\",\n",
    "    \"enddate\": \"2020-06-24T00:00:00.000Z\",\n",
    "    \"processingLevel\": \"S2MSI1C\",\n",
    "    \"tileId\": \"30UUA\"\n",
    "}"
   ]
  },
  {
   "cell_type": "code",
   "execution_count": 9,
   "id": "9a740e54-44d2-42e8-8cf4-b91af036a887",
   "metadata": {},
   "outputs": [],
   "source": [
    "r = c.search(q)"
   ]
  },
  {
   "cell_type": "code",
   "execution_count": 54,
   "id": "cc40b1cf-c661-47f8-b993-79c67c7087ce",
   "metadata": {},
   "outputs": [],
   "source": [
    "url = r.get_download_urls()[0]\n",
    "inputs = Input(key=\"inputimg\", url=url)"
   ]
  },
  {
   "cell_type": "code",
   "execution_count": 7,
   "id": "5c494b96-378e-43de-8c58-bdfa6e8dba5a",
   "metadata": {},
   "outputs": [],
   "source": [
    "import json"
   ]
  },
  {
   "cell_type": "code",
   "execution_count": 53,
   "id": "647a8079-0b4a-439d-8a50-bec6cce78682",
   "metadata": {},
   "outputs": [],
   "source": [
    "with open('AOIs.txt', 'r') as fp:\n",
    "    poly_dict = json.load(fp)"
   ]
  },
  {
   "cell_type": "code",
   "execution_count": 55,
   "id": "6fa418e5-5be9-4154-93b1-b0200db0c6d3",
   "metadata": {
    "scrolled": true
   },
   "outputs": [
    {
     "data": {
      "text/plain": [
       "{'2': {'geoRegion': 'POLYGON ((-5.22444257 49.9901843, -4.88225479 49.9901843, -4.88225479 50.29003327, -5.22444257 50.29003327, -5.22444257 49.9901843))',\n",
       "  'tile_Id': '30UUA'},\n",
       " '3': {'geoRegion': 'POLYGON ((-4.81917128 50.19269224, -4.59558622 50.19269224, -4.59558622 50.40467681, -4.81917128 50.40467681, -4.81917128 50.19269224))',\n",
       "  'tile_Id': '30UUA'},\n",
       " '4': {'geoRegion': 'POLYGON ((-4.32949749 50.26538565, -4.02885352 50.26538565, -4.02885352 50.5075424, -4.32949749 50.5075424, -4.32949749 50.26538565))',\n",
       "  'tile_Id': '30UVA'},\n",
       " '6': {'geoRegion': 'POLYGON ((-4.02836874 50.14143345, -3.59050258 50.14143345, -3.59050258 50.34954708, -4.02836874 50.34954708, -4.02836874 50.14143345))',\n",
       "  'tile_Id': '30UVA'},\n",
       " '9': {'geoRegion': 'POLYGON ((-3.70217003 50.32171356, -3.4070158 50.32171356, -3.4070158 50.54736093, -3.70217003 50.54736093, -3.70217003 50.32171356))',\n",
       "  'tile_Id': '30UVA'},\n",
       " '11': {'geoRegion': 'POLYGON ((-4.42178593 50.96017888, -3.80799343 50.96017888, -3.80799343 51.4427289, -4.42178593 51.4427289, -4.42178593 50.96017888))',\n",
       "  'tile_Id': '30UVB'},\n",
       " '12': {'geoRegion': 'POLYGON ((-3.50331426 50.55463065, -3.27987264 50.55463065, -3.27987264 50.71209921, -3.50331426 50.71209921, -3.50331426 50.55463065))',\n",
       "  'tile_Id': '30UVB'},\n",
       " '13': {'geoRegion': 'POLYGON ((-2.09595764 50.55849793, -1.71524861 50.55849793, -1.71524861 50.75094301, -2.09595764 50.75094301, -2.09595764 50.55849793))',\n",
       "  'tile_Id': '30UWB'},\n",
       " '14': {'geoRegion': 'POLYGON ((-1.58556407 50.54458557, -0.64846788 50.54458557, -0.64846788 50.95668855, -1.58556407 50.95668855, -1.58556407 50.54458557))',\n",
       "  'tile_Id': '30UXB'},\n",
       " '15': {'geoRegion': 'POLYGON ((-2.99680783 51.4583999, -2.60709778 51.4583999, -2.60709778 51.69910317, -2.99680783 51.69910317, -2.99680783 51.4583999))',\n",
       "  'tile_Id': '30UWC'},\n",
       " '16': {'geoRegion': 'POLYGON ((-2.60528065 50.55348792, -2.12042715 50.55348792, -2.12042715 50.6553193, -2.60528065 50.6553193, -2.60528065 50.55348792))',\n",
       "  'tile_Id': '30UWB'},\n",
       " '17': {'geoRegion': 'POLYGON ((-6.48086707 49.81301712, -6.21948222 49.81301712, -6.21948222 50.02839047, -6.48086707 50.02839047, -6.48086707 49.81301712))',\n",
       "  'tile_Id': '29UPR'},\n",
       " '18': {'geoRegion': 'POLYGON ((-5.80439836 51.49305133, -4.45149348 51.49305133, -4.45149348 52.32141647, -5.80439836 52.32141647, -5.80439836 51.49305133))',\n",
       "  'tile_Id': '30UUC'},\n",
       " '19': {'geoRegion': 'POLYGON ((-4.44365223 51.49681989, -3.86086484 51.49681989, -3.86086484 51.82236179, -4.44365223 51.82236179, -4.44365223 51.49681989))',\n",
       "  'tile_Id': '30UVC'},\n",
       " '20': {'geoRegion': 'POLYGON ((-5.7897289 49.9734232, -5.3357743 49.9734232, -5.3357743 50.27582106, -5.7897289 50.27582106, -5.7897289 49.9734232))',\n",
       "  'tile_Id': '30UUA'},\n",
       " '21': {'geoRegion': 'POLYGON ((1.10125436 50.94732407, 1.55028195 50.94732407, 1.55028195 51.43096547, 1.10125436 51.43096547, 1.10125436 50.94732407))',\n",
       "  'tile_Id': '31UCS'},\n",
       " '22': {'geoRegion': 'POLYGON ((0.43671218 51.28184468, 1.02698637 51.28184468, 1.02698637 51.43623009, 0.43671218 51.43623009, 0.43671218 51.28184468))',\n",
       "  'tile_Id': '31UCS'},\n",
       " '23': {'geoRegion': 'POLYGON ((0.52676637 51.46052368, 0.99557138 51.46052368, 0.99557138 51.79250276, 0.52676637 51.79250276, 0.52676637 51.46052368))',\n",
       "  'tile_Id': '31UCT'},\n",
       " '24': {'geoRegion': 'POLYGON ((0.84043954 51.69085094, 1.54449944 51.69085094, 1.54449944 52.18611236, 0.84043954 52.18611236, 0.84043954 51.69085094))',\n",
       "  'tile_Id': '31UCT'},\n",
       " '25': {'geoRegion': 'POLYGON ((0.02418999 52.76712205, 0.61684464 52.76712205, 0.61684464 53.22302955, 0.02418999 53.22302955, 0.02418999 52.76712205))',\n",
       "  'tile_Id': '31UCU'},\n",
       " '26': {'geoRegion': 'POLYGON ((-0.89918315 53.47242848, -0.00824939 53.47242848, -0.00824939 53.83742637, -0.89918315 53.83742637, -0.89918315 53.47242848))',\n",
       "  'tile_Id': '30UXE'},\n",
       " '27': {'geoRegion': 'POLYGON ((-4.47852073 52.34372453, -3.87976363 52.34372453, -3.87976363 53.04664288, -4.47852073 53.04664288, -4.47852073 52.34372453))',\n",
       "  'tile_Id': '30UVD'},\n",
       " '28': {'geoRegion': 'POLYGON ((-4.85333229 52.67694745, -4.48515088 52.67694745, -4.48515088 53.09334198, -4.85333229 53.09334198, -4.85333229 52.67694745))',\n",
       "  'tile_Id': '30UUD'}}"
      ]
     },
     "execution_count": 55,
     "metadata": {},
     "output_type": "execute_result"
    }
   ],
   "source": [
    "poly_dict"
   ]
  },
  {
   "cell_type": "code",
   "execution_count": 56,
   "id": "08c77e99-efef-4db2-a26d-4d43257f33cd",
   "metadata": {},
   "outputs": [],
   "source": [
    "polys_tile0 = {k: v for k, v in poly_dict.items() if v['tile_Id'] == '30UUA'}"
   ]
  },
  {
   "cell_type": "code",
   "execution_count": 57,
   "id": "a43d5079-eea2-4414-a19d-2115878baa04",
   "metadata": {},
   "outputs": [],
   "source": [
    "poly0 = polys_tile0['2']"
   ]
  },
  {
   "cell_type": "code",
   "execution_count": 58,
   "id": "40fac8de-aa51-4827-a01d-1b1e3b1d8a5c",
   "metadata": {},
   "outputs": [
    {
     "data": {
      "text/plain": [
       "'POLYGON ((-5.22444257 49.9901843, -4.88225479 49.9901843, -4.88225479 50.29003327, -5.22444257 50.29003327, -5.22444257 49.9901843))'"
      ]
     },
     "execution_count": 58,
     "metadata": {},
     "output_type": "execute_result"
    }
   ],
   "source": [
    "poly0['geoRegion']"
   ]
  },
  {
   "cell_type": "code",
   "execution_count": 30,
   "id": "58ceb28e-a2b2-4a7e-a70b-3ecb8661c97c",
   "metadata": {
    "scrolled": true
   },
   "outputs": [
    {
     "name": "stdout",
     "output_type": "stream",
     "text": [
      "Help on class Input in module eocanvas.api:\n",
      "\n",
      "class Input(builtins.object)\n",
      " |  Input(key: 'str', url: 'str', keystore: 'Optional[Union[str, Key]]' = None) -> None\n",
      " |  \n",
      " |  Input(key: 'str', url: 'str', keystore: 'Optional[Union[str, Key]]' = None)\n",
      " |  \n",
      " |  Methods defined here:\n",
      " |  \n",
      " |  __eq__(self, other)\n",
      " |      Return self==value.\n",
      " |  \n",
      " |  __init__(self, key: 'str', url: 'str', keystore: 'Optional[Union[str, Key]]' = None) -> None\n",
      " |      Initialize self.  See help(type(self)) for accurate signature.\n",
      " |  \n",
      " |  __repr__(self)\n",
      " |      Return repr(self).\n",
      " |  \n",
      " |  asdict(self) -> 'Dict'\n",
      " |  \n",
      " |  ----------------------------------------------------------------------\n",
      " |  Data descriptors defined here:\n",
      " |  \n",
      " |  __dict__\n",
      " |      dictionary for instance variables (if defined)\n",
      " |  \n",
      " |  __weakref__\n",
      " |      list of weak references to the object (if defined)\n",
      " |  \n",
      " |  ----------------------------------------------------------------------\n",
      " |  Data and other attributes defined here:\n",
      " |  \n",
      " |  __annotations__ = {'key': 'str', 'keystore': 'Optional[Union[str, Key]...\n",
      " |  \n",
      " |  __dataclass_fields__ = {'key': Field(name='key',type='str',default=<da...\n",
      " |  \n",
      " |  __dataclass_params__ = _DataclassParams(init=True,repr=True,eq=True,or...\n",
      " |  \n",
      " |  __hash__ = None\n",
      " |  \n",
      " |  __match_args__ = ('key', 'url', 'keystore')\n",
      " |  \n",
      " |  keystore = None\n",
      "\n"
     ]
    }
   ],
   "source": [
    "help(Input)"
   ]
  },
  {
   "cell_type": "code",
   "execution_count": 23,
   "id": "0f660d96-01c1-41d1-bfac-b4a0b13262a6",
   "metadata": {
    "scrolled": true
   },
   "outputs": [
    {
     "name": "stdout",
     "output_type": "stream",
     "text": [
      "Help on class SnapProcess in module eocanvas.processes:\n",
      "\n",
      "class SnapProcess(eocanvas.api.Process, _SnapParams)\n",
      " |  SnapProcess(snap_graph: eocanvas.snap.graph.Graph, eo_input: List[eocanvas.api.Input] = <factory>, eo_config: List[eocanvas.api.Config] = <factory>, api: 'Optional[API]' = None, process_id: 'Optional[str]' = None, version: 'Optional[str]' = None, title: 'Optional[str]' = None, description: 'Optional[str]' = None, inputs: 'Optional[Any]' = None, output: 'Optional[Union[str, Key]]' = None) -> None\n",
      " |  \n",
      " |  SnapProcess(snap_graph: eocanvas.snap.graph.Graph, eo_input: List[eocanvas.api.Input] = <factory>, eo_config: List[eocanvas.api.Config] = <factory>, api: 'Optional[API]' = None, process_id: 'Optional[str]' = None, version: 'Optional[str]' = None, title: 'Optional[str]' = None, description: 'Optional[str]' = None, inputs: 'Optional[Any]' = None, output: 'Optional[Union[str, Key]]' = None)\n",
      " |  \n",
      " |  Method resolution order:\n",
      " |      SnapProcess\n",
      " |      eocanvas.api.Process\n",
      " |      _SnapParams\n",
      " |      builtins.object\n",
      " |  \n",
      " |  Methods defined here:\n",
      " |  \n",
      " |  __eq__(self, other)\n",
      " |      Return self==value.\n",
      " |  \n",
      " |  __init__(self, snap_graph: eocanvas.snap.graph.Graph, eo_input: List[eocanvas.api.Input] = <factory>, eo_config: List[eocanvas.api.Config] = <factory>, api: 'Optional[API]' = None, process_id: 'Optional[str]' = None, version: 'Optional[str]' = None, title: 'Optional[str]' = None, description: 'Optional[str]' = None, inputs: 'Optional[Any]' = None, output: 'Optional[Union[str, Key]]' = None) -> None\n",
      " |      Initialize self.  See help(type(self)) for accurate signature.\n",
      " |  \n",
      " |  __post_init__(self)\n",
      " |  \n",
      " |  __repr__(self)\n",
      " |      Return repr(self).\n",
      " |  \n",
      " |  prepare_inputs(self) -> Dict\n",
      " |  \n",
      " |  ----------------------------------------------------------------------\n",
      " |  Data and other attributes defined here:\n",
      " |  \n",
      " |  __annotations__ = {}\n",
      " |  \n",
      " |  __dataclass_fields__ = {'api': Field(name='api',type='Optional[API]',d...\n",
      " |  \n",
      " |  __dataclass_params__ = _DataclassParams(init=True,repr=True,eq=True,or...\n",
      " |  \n",
      " |  __hash__ = None\n",
      " |  \n",
      " |  __match_args__ = ('snap_graph', 'eo_input', 'eo_config', 'api', 'proce...\n",
      " |  \n",
      " |  ----------------------------------------------------------------------\n",
      " |  Methods inherited from eocanvas.api.Process:\n",
      " |  \n",
      " |  run(self, job: 'Optional[Job]' = None, download_dir: 'Optional[str]' = None, download: 'bool' = True)\n",
      " |  \n",
      " |  submit(self) -> 'Job'\n",
      " |  \n",
      " |  ----------------------------------------------------------------------\n",
      " |  Data descriptors inherited from eocanvas.api.Process:\n",
      " |  \n",
      " |  __dict__\n",
      " |      dictionary for instance variables (if defined)\n",
      " |  \n",
      " |  __weakref__\n",
      " |      list of weak references to the object (if defined)\n",
      " |  \n",
      " |  ----------------------------------------------------------------------\n",
      " |  Data and other attributes inherited from eocanvas.api.Process:\n",
      " |  \n",
      " |  api = None\n",
      " |  \n",
      " |  description = None\n",
      " |  \n",
      " |  inputs = None\n",
      " |  \n",
      " |  output = None\n",
      " |  \n",
      " |  process_id = None\n",
      " |  \n",
      " |  title = None\n",
      " |  \n",
      " |  version = None\n",
      "\n"
     ]
    }
   ],
   "source": [
    "help(SnapProcess)"
   ]
  },
  {
   "cell_type": "markdown",
   "id": "aaa6b429-4f70-4f4f-8c6d-8f8e70bc5b74",
   "metadata": {},
   "source": [
    "## Process workflow"
   ]
  },
  {
   "cell_type": "code",
   "execution_count": 59,
   "id": "0ae4781c-9809-4d10-8a91-870ff1af78e8",
   "metadata": {},
   "outputs": [],
   "source": [
    "with open(\"s2_c2rcc.xml\", \"r\") as fp:\n",
    "    graph_file = fp.read()"
   ]
  },
  {
   "cell_type": "code",
   "execution_count": 60,
   "id": "4efd415d-575d-4084-be6c-f383463bf24c",
   "metadata": {},
   "outputs": [
    {
     "data": {
      "text/plain": [
       "'<graph id=\"Graph\">\\n  <version>1.0</version>\\n  <node id=\"Read\">\\n    <operator>Read</operator>\\n    <sources/>\\n    <parameters class=\"com.bc.ceres.binding.dom.XppDomElement\">\\n      <useAdvancedOptions>false</useAdvancedOptions>\\n      <file>$inputimg</file>\\n      <copyMetadata>true</copyMetadata>\\n      <bandNames/>\\n      <pixelRegion>0,0,10980,10980</pixelRegion>\\n      <maskNames/>\\n    </parameters>\\n  </node>\\n  <node id=\"Resample\">\\n    <operator>Resample</operator>\\n    <sources>\\n      <sourceProduct refid=\"Read\"/>\\n    </sources>\\n    <parameters class=\"com.bc.ceres.binding.dom.XppDomElement\">\\n      <referenceBand>B2</referenceBand>\\n      <targetWidth/>\\n      <targetHeight/>\\n      <targetResolution/>\\n      <upsampling>Nearest</upsampling>\\n      <downsampling>Mean</downsampling>\\n      <flagDownsampling>First</flagDownsampling>\\n      <resamplingPreset/>\\n      <bandResamplings/>\\n      <resampleOnPyramidLevels>true</resampleOnPyramidLevels>\\n    </parameters>\\n  </node>\\n  <node id=\"Subset\">\\n    <operator>Subset</operator>\\n    <sources>\\n      <sourceProduct refid=\"Resample\"/>\\n    </sources>\\n    <parameters class=\"com.bc.ceres.binding.dom.XppDomElement\">\\n      <sourceBands>B1,B2,B3,B4,B5,B6,B7,B8,B8A,B9,B10,B11,B12</sourceBands>\\n      <tiePointGrids/>\\n      <region>0,0,0,0</region>\\n      <referenceBand/>\\n      <geoRegion>$polygon</geoRegion>\\n      <subSamplingX>1</subSamplingX>\\n      <subSamplingY>1</subSamplingY>\\n      <fullSwath>false</fullSwath>\\n      <copyMetadata>true</copyMetadata>\\n    </parameters>\\n  </node>\\n  <node id=\"C2RCC\">\\n    <operator>c2rcc.msi</operator>\\n    <sources>\\n      <sourceProduct refid=\"Subset\"/>\\n    </sources>\\n    <parameters>\\n      <validPixelExpression>B8 &gt; 0 &amp;&amp; B8 &lt; 0.1</validPixelExpression>\\n      <salinity>35.0</salinity>\\n      <temperature>15.0</temperature>\\n      <ozone>330.0</ozone>\\n      <press>1000.0</press>\\n      <elevation>0.0</elevation>\\n      <TSMfac>1.06</TSMfac>\\n      <TSMexp>0.942</TSMexp>\\n      <CHLexp>1.04</CHLexp>\\n      <CHLfac>21.0</CHLfac>\\n      <thresholdRtosaOOS>0.05</thresholdRtosaOOS>\\n      <thresholdAcReflecOos>0.1</thresholdAcReflecOos>\\n      <thresholdCloudTDown865>0.955</thresholdCloudTDown865>\\n      <netSet>C2X-COMPLEX-Nets</netSet>\\n      <outputAsRrs>true</outputAsRrs>\\n      <deriveRwFromPathAndTransmittance>false</deriveRwFromPathAndTransmittance>\\n      <useEcmwfAuxData>false</useEcmwfAuxData>\\n      <outputRtoa>false</outputRtoa>\\n      <outputRtosaGc>false</outputRtosaGc>\\n      <outputRtosaGcAann>false</outputRtosaGcAann>\\n      <outputRpath>false</outputRpath>\\n      <outputTdown>false</outputTdown>\\n      <outputTup>false</outputTup>\\n      <outputAcReflectance>true</outputAcReflectance>\\n      <outputRhown>true</outputRhown>\\n      <outputOos>false</outputOos>\\n      <outputKd>true</outputKd>\\n      <outputUncertainties>true</outputUncertainties>\\n    </parameters>\\n  </node>\\n  <node id=\"Write\">\\n    <operator>Write</operator>\\n    <sources>\\n      <sourceProduct refid=\"C2RCC\"/>\\n    </sources>\\n    <parameters class=\"com.bc.ceres.binding.dom.XppDomElement\">\\n      <file>$output</file>\\n      <formatName>BEAM-DIMAP</formatName>\\n    </parameters>\\n  </node>\\n</graph>'"
      ]
     },
     "execution_count": 60,
     "metadata": {},
     "output_type": "execute_result"
    }
   ],
   "source": [
    "graph_file"
   ]
  },
  {
   "cell_type": "code",
   "execution_count": 44,
   "id": "a7d47be7-4f32-482d-8847-a392e2378737",
   "metadata": {},
   "outputs": [],
   "source": [
    "modified_xml = graph_file.replace(\"$polygon\", poly0['geoRegion'])"
   ]
  },
  {
   "cell_type": "code",
   "execution_count": 45,
   "id": "9f70eabf-64d7-4c10-aa16-b22c7998ff5e",
   "metadata": {},
   "outputs": [
    {
     "data": {
      "text/plain": [
       "'<graph id=\"Graph\">\\n  <version>1.0</version>\\n  <node id=\"Read\">\\n    <operator>Read</operator>\\n    <sources/>\\n    <parameters class=\"com.bc.ceres.binding.dom.XppDomElement\">\\n      <useAdvancedOptions>false</useAdvancedOptions>\\n      <file>$inputimg</file>\\n      <copyMetadata>true</copyMetadata>\\n      <bandNames/>\\n      <pixelRegion>0,0,10980,10980</pixelRegion>\\n      <maskNames/>\\n    </parameters>\\n  </node>\\n  <node id=\"Resample\">\\n    <operator>Resample</operator>\\n    <sources>\\n      <sourceProduct refid=\"Read\"/>\\n    </sources>\\n    <parameters class=\"com.bc.ceres.binding.dom.XppDomElement\">\\n      <referenceBand>B2</referenceBand>\\n      <targetWidth/>\\n      <targetHeight/>\\n      <targetResolution/>\\n      <upsampling>Nearest</upsampling>\\n      <downsampling>Mean</downsampling>\\n      <flagDownsampling>First</flagDownsampling>\\n      <resamplingPreset/>\\n      <bandResamplings/>\\n      <resampleOnPyramidLevels>true</resampleOnPyramidLevels>\\n    </parameters>\\n  </node>\\n  <node id=\"Subset\">\\n    <operator>Subset</operator>\\n    <sources>\\n      <sourceProduct refid=\"Resample\"/>\\n    </sources>\\n    <parameters class=\"com.bc.ceres.binding.dom.XppDomElement\">\\n      <sourceBands>B1,B2,B3,B4,B5,B6,B7,B8,B8A,B9,B10,B11,B12</sourceBands>\\n      <tiePointGrids/>\\n      <region>0,0,0,0</region>\\n      <referenceBand/>\\n      <geoRegion>POLYGON ((-3.3323159217834473 50.77412796020508, -3.180168390274048 50.77412796020508, -3.180168390274048 50.54785919189453, -3.3323159217834473 50.54785919189453, -3.3323159217834473 50.77412796020508, -3.3323159217834473 50.77412796020508))</geoRegion>\\n      <subSamplingX>1</subSamplingX>\\n      <subSamplingY>1</subSamplingY>\\n      <fullSwath>false</fullSwath>\\n      <copyMetadata>true</copyMetadata>\\n    </parameters>\\n  </node>\\n  <node id=\"C2RCC\">\\n    <operator>c2rcc.msi</operator>\\n    <sources>\\n      <sourceProduct refid=\"Subset\"/>\\n    </sources>\\n    <parameters>\\n      <validPixelExpression>B8 &gt; 0 &amp;&amp; B8 &lt; 0.1</validPixelExpression>\\n      <salinity>35.0</salinity>\\n      <temperature>15.0</temperature>\\n      <ozone>330.0</ozone>\\n      <press>1000.0</press>\\n      <elevation>0.0</elevation>\\n      <TSMfac>1.06</TSMfac>\\n      <TSMexp>0.942</TSMexp>\\n      <CHLexp>1.04</CHLexp>\\n      <CHLfac>21.0</CHLfac>\\n      <thresholdRtosaOOS>0.05</thresholdRtosaOOS>\\n      <thresholdAcReflecOos>0.1</thresholdAcReflecOos>\\n      <thresholdCloudTDown865>0.955</thresholdCloudTDown865>\\n      <netSet>C2X-COMPLEX-Nets</netSet>\\n      <outputAsRrs>true</outputAsRrs>\\n      <deriveRwFromPathAndTransmittance>false</deriveRwFromPathAndTransmittance>\\n      <useEcmwfAuxData>false</useEcmwfAuxData>\\n      <outputRtoa>false</outputRtoa>\\n      <outputRtosaGc>false</outputRtosaGc>\\n      <outputRtosaGcAann>false</outputRtosaGcAann>\\n      <outputRpath>false</outputRpath>\\n      <outputTdown>false</outputTdown>\\n      <outputTup>false</outputTup>\\n      <outputAcReflectance>true</outputAcReflectance>\\n      <outputRhown>true</outputRhown>\\n      <outputOos>false</outputOos>\\n      <outputKd>true</outputKd>\\n      <outputUncertainties>true</outputUncertainties>\\n    </parameters>\\n  </node>\\n  <node id=\"Write\">\\n    <operator>Write</operator>\\n    <sources>\\n      <sourceProduct refid=\"C2RCC\"/>\\n    </sources>\\n    <parameters class=\"com.bc.ceres.binding.dom.XppDomElement\">\\n      <file>$output</file>\\n      <formatName>BEAM-DIMAP</formatName>\\n    </parameters>\\n  </node>\\n</graph>'"
      ]
     },
     "execution_count": 45,
     "metadata": {},
     "output_type": "execute_result"
    }
   ],
   "source": [
    "modified_xml"
   ]
  },
  {
   "cell_type": "code",
   "execution_count": 40,
   "id": "046859f2-c494-4978-8fe9-35ad1b167123",
   "metadata": {},
   "outputs": [],
   "source": [
    "graph = Graph.from_text(modified_xml)"
   ]
  },
  {
   "cell_type": "code",
   "execution_count": 41,
   "id": "e518d0ad-82b0-44e2-be95-479d79639da9",
   "metadata": {},
   "outputs": [],
   "source": [
    "config = Config(key=\"inputimg\", options=ConfigOption(uncompress=True, sub_path=\"xfdumanifest.xml\"))"
   ]
  },
  {
   "cell_type": "code",
   "execution_count": 42,
   "id": "e513bd34-424a-4711-a709-a255c9fba4c4",
   "metadata": {},
   "outputs": [],
   "source": [
    "process = SnapProcess(snap_graph=graph, eo_config=config, eo_input=inputs)"
   ]
  },
  {
   "cell_type": "code",
   "execution_count": 43,
   "id": "d12563ae-f4de-4953-8d5a-73bce4d43645",
   "metadata": {},
   "outputs": [
    {
     "data": {
      "text/plain": [
       "{'snap_graph': 'PGdyYXBoIGlkPSJHcmFwaCI+CiAgPHZlcnNpb24+MS4wPC92ZXJzaW9uPgogIDxub2RlIGlkPSJSZWFkIj4KICAgIDxvcGVyYXRvcj5SZWFkPC9vcGVyYXRvcj4KICAgIDxzb3VyY2VzLz4KICAgIDxwYXJhbWV0ZXJzIGNsYXNzPSJjb20uYmMuY2VyZXMuYmluZGluZy5kb20uWHBwRG9tRWxlbWVudCI+CiAgICAgIDx1c2VBZHZhbmNlZE9wdGlvbnM+ZmFsc2U8L3VzZUFkdmFuY2VkT3B0aW9ucz4KICAgICAgPGZpbGU+JGlucHV0aW1nPC9maWxlPgogICAgICA8Y29weU1ldGFkYXRhPnRydWU8L2NvcHlNZXRhZGF0YT4KICAgICAgPGJhbmROYW1lcy8+CiAgICAgIDxwaXhlbFJlZ2lvbj4wLDAsMTA5ODAsMTA5ODA8L3BpeGVsUmVnaW9uPgogICAgICA8bWFza05hbWVzLz4KICAgIDwvcGFyYW1ldGVycz4KICA8L25vZGU+CiAgPG5vZGUgaWQ9IlJlc2FtcGxlIj4KICAgIDxvcGVyYXRvcj5SZXNhbXBsZTwvb3BlcmF0b3I+CiAgICA8c291cmNlcz4KICAgICAgPHNvdXJjZVByb2R1Y3QgcmVmaWQ9IlJlYWQiLz4KICAgIDwvc291cmNlcz4KICAgIDxwYXJhbWV0ZXJzIGNsYXNzPSJjb20uYmMuY2VyZXMuYmluZGluZy5kb20uWHBwRG9tRWxlbWVudCI+CiAgICAgIDxyZWZlcmVuY2VCYW5kPkIyPC9yZWZlcmVuY2VCYW5kPgogICAgICA8dGFyZ2V0V2lkdGgvPgogICAgICA8dGFyZ2V0SGVpZ2h0Lz4KICAgICAgPHRhcmdldFJlc29sdXRpb24vPgogICAgICA8dXBzYW1wbGluZz5OZWFyZXN0PC91cHNhbXBsaW5nPgogICAgICA8ZG93bnNhbXBsaW5nPk1lYW48L2Rvd25zYW1wbGluZz4KICAgICAgPGZsYWdEb3duc2FtcGxpbmc+Rmlyc3Q8L2ZsYWdEb3duc2FtcGxpbmc+CiAgICAgIDxyZXNhbXBsaW5nUHJlc2V0Lz4KICAgICAgPGJhbmRSZXNhbXBsaW5ncy8+CiAgICAgIDxyZXNhbXBsZU9uUHlyYW1pZExldmVscz50cnVlPC9yZXNhbXBsZU9uUHlyYW1pZExldmVscz4KICAgIDwvcGFyYW1ldGVycz4KICA8L25vZGU+CiAgPG5vZGUgaWQ9IlN1YnNldCI+CiAgICA8b3BlcmF0b3I+U3Vic2V0PC9vcGVyYXRvcj4KICAgIDxzb3VyY2VzPgogICAgICA8c291cmNlUHJvZHVjdCByZWZpZD0iUmVzYW1wbGUiLz4KICAgIDwvc291cmNlcz4KICAgIDxwYXJhbWV0ZXJzIGNsYXNzPSJjb20uYmMuY2VyZXMuYmluZGluZy5kb20uWHBwRG9tRWxlbWVudCI+CiAgICAgIDxzb3VyY2VCYW5kcz5CMSxCMixCMyxCNCxCNSxCNixCNyxCOCxCOEEsQjksQjEwLEIxMSxCMTI8L3NvdXJjZUJhbmRzPgogICAgICA8dGllUG9pbnRHcmlkcy8+CiAgICAgIDxyZWdpb24+MCwwLDAsMDwvcmVnaW9uPgogICAgICA8cmVmZXJlbmNlQmFuZC8+CiAgICAgIDxnZW9SZWdpb24+UE9MWUdPTiAoKC0zLjMzMjMxNTkyMTc4MzQ0NzMgNTAuNzc0MTI3OTYwMjA1MDgsIC0zLjE4MDE2ODM5MDI3NDA0OCA1MC43NzQxMjc5NjAyMDUwOCwgLTMuMTgwMTY4MzkwMjc0MDQ4IDUwLjU0Nzg1OTE5MTg5NDUzLCAtMy4zMzIzMTU5MjE3ODM0NDczIDUwLjU0Nzg1OTE5MTg5NDUzLCAtMy4zMzIzMTU5MjE3ODM0NDczIDUwLjc3NDEyNzk2MDIwNTA4LCAtMy4zMzIzMTU5MjE3ODM0NDczIDUwLjc3NDEyNzk2MDIwNTA4KSk8L2dlb1JlZ2lvbj4KICAgICAgPHN1YlNhbXBsaW5nWD4xPC9zdWJTYW1wbGluZ1g+CiAgICAgIDxzdWJTYW1wbGluZ1k+MTwvc3ViU2FtcGxpbmdZPgogICAgICA8ZnVsbFN3YXRoPmZhbHNlPC9mdWxsU3dhdGg+CiAgICAgIDxjb3B5TWV0YWRhdGE+dHJ1ZTwvY29weU1ldGFkYXRhPgogICAgPC9wYXJhbWV0ZXJzPgogIDwvbm9kZT4KICA8bm9kZSBpZD0iQzJSQ0MiPgogICAgPG9wZXJhdG9yPmMycmNjLm1zaTwvb3BlcmF0b3I+CiAgICA8c291cmNlcz4KICAgICAgPHNvdXJjZVByb2R1Y3QgcmVmaWQ9IlN1YnNldCIvPgogICAgPC9zb3VyY2VzPgogICAgPHBhcmFtZXRlcnM+CiAgICAgIDx2YWxpZFBpeGVsRXhwcmVzc2lvbj5COCAmZ3Q7IDAgJmFtcDsmYW1wOyBCOCAmbHQ7IDAuMTwvdmFsaWRQaXhlbEV4cHJlc3Npb24+CiAgICAgIDxzYWxpbml0eT4zNS4wPC9zYWxpbml0eT4KICAgICAgPHRlbXBlcmF0dXJlPjE1LjA8L3RlbXBlcmF0dXJlPgogICAgICA8b3pvbmU+MzMwLjA8L296b25lPgogICAgICA8cHJlc3M+MTAwMC4wPC9wcmVzcz4KICAgICAgPGVsZXZhdGlvbj4wLjA8L2VsZXZhdGlvbj4KICAgICAgPFRTTWZhYz4xLjA2PC9UU01mYWM+CiAgICAgIDxUU01leHA+MC45NDI8L1RTTWV4cD4KICAgICAgPENITGV4cD4xLjA0PC9DSExleHA+CiAgICAgIDxDSExmYWM+MjEuMDwvQ0hMZmFjPgogICAgICA8dGhyZXNob2xkUnRvc2FPT1M+MC4wNTwvdGhyZXNob2xkUnRvc2FPT1M+CiAgICAgIDx0aHJlc2hvbGRBY1JlZmxlY09vcz4wLjE8L3RocmVzaG9sZEFjUmVmbGVjT29zPgogICAgICA8dGhyZXNob2xkQ2xvdWRURG93bjg2NT4wLjk1NTwvdGhyZXNob2xkQ2xvdWRURG93bjg2NT4KICAgICAgPG5ldFNldD5DMlgtQ09NUExFWC1OZXRzPC9uZXRTZXQ+CiAgICAgIDxvdXRwdXRBc1Jycz50cnVlPC9vdXRwdXRBc1Jycz4KICAgICAgPGRlcml2ZVJ3RnJvbVBhdGhBbmRUcmFuc21pdHRhbmNlPmZhbHNlPC9kZXJpdmVSd0Zyb21QYXRoQW5kVHJhbnNtaXR0YW5jZT4KICAgICAgPHVzZUVjbXdmQXV4RGF0YT5mYWxzZTwvdXNlRWNtd2ZBdXhEYXRhPgogICAgICA8b3V0cHV0UnRvYT5mYWxzZTwvb3V0cHV0UnRvYT4KICAgICAgPG91dHB1dFJ0b3NhR2M+ZmFsc2U8L291dHB1dFJ0b3NhR2M+CiAgICAgIDxvdXRwdXRSdG9zYUdjQWFubj5mYWxzZTwvb3V0cHV0UnRvc2FHY0Fhbm4+CiAgICAgIDxvdXRwdXRScGF0aD5mYWxzZTwvb3V0cHV0UnBhdGg+CiAgICAgIDxvdXRwdXRUZG93bj5mYWxzZTwvb3V0cHV0VGRvd24+CiAgICAgIDxvdXRwdXRUdXA+ZmFsc2U8L291dHB1dFR1cD4KICAgICAgPG91dHB1dEFjUmVmbGVjdGFuY2U+dHJ1ZTwvb3V0cHV0QWNSZWZsZWN0YW5jZT4KICAgICAgPG91dHB1dFJob3duPnRydWU8L291dHB1dFJob3duPgogICAgICA8b3V0cHV0T29zPmZhbHNlPC9vdXRwdXRPb3M+CiAgICAgIDxvdXRwdXRLZD50cnVlPC9vdXRwdXRLZD4KICAgICAgPG91dHB1dFVuY2VydGFpbnRpZXM+dHJ1ZTwvb3V0cHV0VW5jZXJ0YWludGllcz4KICAgIDwvcGFyYW1ldGVycz4KICA8L25vZGU+CiAgPG5vZGUgaWQ9IldyaXRlIj4KICAgIDxvcGVyYXRvcj5Xcml0ZTwvb3BlcmF0b3I+CiAgICA8c291cmNlcz4KICAgICAgPHNvdXJjZVByb2R1Y3QgcmVmaWQ9IkMyUkNDIi8+CiAgICA8L3NvdXJjZXM+CiAgICA8cGFyYW1ldGVycyBjbGFzcz0iY29tLmJjLmNlcmVzLmJpbmRpbmcuZG9tLlhwcERvbUVsZW1lbnQiPgogICAgICA8ZmlsZT4kb3V0cHV0PC9maWxlPgogICAgICA8Zm9ybWF0TmFtZT5CRUFNLURJTUFQPC9mb3JtYXROYW1lPgogICAgPC9wYXJhbWV0ZXJzPgogIDwvbm9kZT4KPC9ncmFwaD4K',\n",
       " 'eo_input': '[{\"inputimg\": \"https://gateway.prod.wekeo2.eu/hda-broker/api/v1/dataaccess/download/67910060b0c1c76a4348de19\"}]',\n",
       " 'eo_config': '[{\"inputimg\": {\"uncompress\": true, \"subPath\": \"xfdumanifest.xml\"}}]'}"
      ]
     },
     "execution_count": 43,
     "metadata": {},
     "output_type": "execute_result"
    }
   ],
   "source": [
    "process.prepare_inputs()['inputs']"
   ]
  },
  {
   "cell_type": "code",
   "execution_count": 46,
   "id": "444f751f-997d-4e89-a2d2-34fc383632f5",
   "metadata": {},
   "outputs": [
    {
     "name": "stdout",
     "output_type": "stream",
     "text": [
      "Job: 6f8a0bd5-a7ea-56ec-9b3f-b21ce2e81168 - Status: accepted at 2025-01-22T14:41:09.469570\n",
      "Job: 6f8a0bd5-a7ea-56ec-9b3f-b21ce2e81168 - Status: running at 2025-01-22T14:41:19.525264\n",
      "Job: 6f8a0bd5-a7ea-56ec-9b3f-b21ce2e81168 - Status: running at 2025-01-22T14:41:30.575080\n",
      "Job: 6f8a0bd5-a7ea-56ec-9b3f-b21ce2e81168 - Status: running at 2025-01-22T14:41:42.746407\n",
      "Job: 6f8a0bd5-a7ea-56ec-9b3f-b21ce2e81168 - Status: running at 2025-01-22T14:41:56.112087\n",
      "Job: 6f8a0bd5-a7ea-56ec-9b3f-b21ce2e81168 - Status: running at 2025-01-22T14:42:10.816248\n",
      "Job: 6f8a0bd5-a7ea-56ec-9b3f-b21ce2e81168 - Status: running at 2025-01-22T14:42:26.968029\n",
      "Job: 6f8a0bd5-a7ea-56ec-9b3f-b21ce2e81168 - Status: failed at 2025-01-22T14:42:44.808132\n"
     ]
    },
    {
     "ename": "JobFailed",
     "evalue": "Job 6f8a0bd5-a7ea-56ec-9b3f-b21ce2e81168 failed. Try checking the logs for more info.",
     "output_type": "error",
     "traceback": [
      "\u001b[0;31m---------------------------------------------------------------------------\u001b[0m",
      "\u001b[0;31mJobFailed\u001b[0m                                 Traceback (most recent call last)",
      "Cell \u001b[0;32mIn[46], line 1\u001b[0m\n\u001b[0;32m----> 1\u001b[0m process\u001b[38;5;241m.\u001b[39mrun(download_dir\u001b[38;5;241m=\u001b[39m\u001b[38;5;124m\"\u001b[39m\u001b[38;5;124mresult\u001b[39m\u001b[38;5;124m\"\u001b[39m)\n",
      "File \u001b[0;32m/opt/conda/envs/wekeolab/lib/python3.11/site-packages/eocanvas/api.py:475\u001b[0m, in \u001b[0;36mProcess.run\u001b[0;34m(self, job, download_dir, download)\u001b[0m\n\u001b[1;32m    473\u001b[0m \u001b[38;5;28;01mif\u001b[39;00m job \u001b[38;5;129;01mis\u001b[39;00m \u001b[38;5;28;01mNone\u001b[39;00m:\n\u001b[1;32m    474\u001b[0m     job \u001b[38;5;241m=\u001b[39m \u001b[38;5;28mself\u001b[39m\u001b[38;5;241m.\u001b[39msubmit()\n\u001b[0;32m--> 475\u001b[0m \u001b[38;5;28;01mreturn\u001b[39;00m JobRunner(job, download)\u001b[38;5;241m.\u001b[39mrun(download_dir)\n",
      "File \u001b[0;32m/opt/conda/envs/wekeolab/lib/python3.11/site-packages/eocanvas/api.py:490\u001b[0m, in \u001b[0;36mJobRunner.run\u001b[0;34m(self, download_dir)\u001b[0m\n\u001b[1;32m    488\u001b[0m logger\u001b[38;5;241m.\u001b[39minfo(\u001b[38;5;124mf\u001b[39m\u001b[38;5;124m\"\u001b[39m\u001b[38;5;124mJob: \u001b[39m\u001b[38;5;132;01m{\u001b[39;00m\u001b[38;5;28mself\u001b[39m\u001b[38;5;241m.\u001b[39mjob\u001b[38;5;241m.\u001b[39mjob_id\u001b[38;5;132;01m}\u001b[39;00m\u001b[38;5;124m - Status: \u001b[39m\u001b[38;5;132;01m{\u001b[39;00mstatus\u001b[38;5;132;01m}\u001b[39;00m\u001b[38;5;124m at \u001b[39m\u001b[38;5;132;01m{\u001b[39;00mnow\u001b[38;5;132;01m}\u001b[39;00m\u001b[38;5;124m\"\u001b[39m)\n\u001b[1;32m    489\u001b[0m \u001b[38;5;28;01mif\u001b[39;00m status \u001b[38;5;241m==\u001b[39m \u001b[38;5;124m\"\u001b[39m\u001b[38;5;124mfailed\u001b[39m\u001b[38;5;124m\"\u001b[39m:\n\u001b[0;32m--> 490\u001b[0m     \u001b[38;5;28;01mraise\u001b[39;00m JobFailed(\n\u001b[1;32m    491\u001b[0m         \u001b[38;5;124mf\u001b[39m\u001b[38;5;124m\"\u001b[39m\u001b[38;5;124mJob \u001b[39m\u001b[38;5;132;01m{\u001b[39;00m\u001b[38;5;28mself\u001b[39m\u001b[38;5;241m.\u001b[39mjob\u001b[38;5;241m.\u001b[39mjob_id\u001b[38;5;132;01m}\u001b[39;00m\u001b[38;5;124m failed. Try checking the logs for more info.\u001b[39m\u001b[38;5;124m\"\u001b[39m\n\u001b[1;32m    492\u001b[0m     )\n\u001b[1;32m    493\u001b[0m \u001b[38;5;28;01massert\u001b[39;00m status \u001b[38;5;129;01min\u001b[39;00m [\u001b[38;5;124m\"\u001b[39m\u001b[38;5;124maccepted\u001b[39m\u001b[38;5;124m\"\u001b[39m, \u001b[38;5;124m\"\u001b[39m\u001b[38;5;124mrunning\u001b[39m\u001b[38;5;124m\"\u001b[39m]\n\u001b[1;32m    494\u001b[0m time\u001b[38;5;241m.\u001b[39msleep(sleep)\n",
      "\u001b[0;31mJobFailed\u001b[0m: Job 6f8a0bd5-a7ea-56ec-9b3f-b21ce2e81168 failed. Try checking the logs for more info."
     ]
    }
   ],
   "source": [
    "process.run(download_dir=\"result\")"
   ]
  },
  {
   "cell_type": "code",
   "execution_count": 47,
   "id": "0fcb1cf2-d0f2-48f2-b10d-ae366ee42be5",
   "metadata": {},
   "outputs": [],
   "source": [
    "api = API()"
   ]
  },
  {
   "cell_type": "code",
   "execution_count": 48,
   "id": "f14876f2-2e83-46fc-a07f-79dae645ae0b",
   "metadata": {},
   "outputs": [],
   "source": [
    "processes = api.get_processes()"
   ]
  },
  {
   "cell_type": "code",
   "execution_count": 49,
   "id": "70005780-77ce-46c3-a670-abda393e4869",
   "metadata": {},
   "outputs": [
    {
     "data": {
      "text/plain": [
       "[Process(api=<eocanvas.api.API object at 0x7fce0e2f1ad0>, process_id='snap-function', version='10.0.0', title='snap-function', description='Function based on the ESA SNAP tool version 10.', inputs={'eo_config': {'title': 'Configuration for eo_input', 'description': 'Configuration for the eo_input in JSON format. They instruct the function on how to deal with the eo_input (e.g., uncompress).', 'minOccurs': 0, 'maxOccurs': 1, 'schema': {'$ref': 'https://string'}}, 'snap_graph': {'title': 'ESA SNAP GPT graph', 'description': 'A base64-encoded gpt graph. It should contain placeholders referring to the eo_input field.', 'minOccurs': 0, 'maxOccurs': 1, 'schema': {'$ref': 'https://string'}}, 'eo_input': {'title': 'eo_inputs Title', 'description': \"Named inputs provided to the ESA SNAP tool in JSON encoding. They should match the placeholders in the SNAP's GPT graph.\", 'minOccurs': 0, 'maxOccurs': 1, 'schema': {'$ref': 'http://named_inputs'}}}, output=None),\n",
       " Process(api=<eocanvas.api.API object at 0x7fce0e2f1ad0>, process_id='shearwater-demo', version='1.0.0', title='Shearwater Demo', description='First version of Shearwater Demo', inputs={'area': {'title': 'Area', 'description': 'Choose the region of your interest', 'minOccurs': 1, 'maxOccurs': 1, 'schema': {'$ref': 'https://string'}}, 'startDay': {'title': 'Start Day', 'description': 'Enter the start date, like 2021-01-01.', 'minOccurs': 1, 'maxOccurs': 1, 'schema': {'$ref': 'https://string'}}, 'endDay': {'title': 'End Day', 'description': 'Enter the end date, like 2023-10-12.', 'minOccurs': 1, 'maxOccurs': 1, 'schema': {'$ref': 'https://string'}}}, output=None),\n",
       " Process(api=<eocanvas.api.API object at 0x7fce0e2f1ad0>, process_id='dataTailor', version='3.4.0', title='EUMETSAT Data Tailor', description='The EUMETSAT Data Tailor provides format conversion and basic product customisation capabilities for a set of EUMETSAT products in native formats.', inputs={'epct_input': {'title': 'eo_inputs Title', 'description': 'Named inputs provided to the EUMETSAT Data Tailor tool in JSON encoding.', 'minOccurs': 0, 'maxOccurs': 1, 'schema': {'$ref': 'http://named_inputs'}}, 'epct_chain': {'title': 'EUMETSAT Data Tailor chain file', 'description': 'Customisation file describing the chain of customisation to apply to the epct_input files.', 'minOccurs': 0, 'maxOccurs': 1, 'schema': {'$ref': 'https://string'}}}, output=None)]"
      ]
     },
     "execution_count": 49,
     "metadata": {},
     "output_type": "execute_result"
    }
   ],
   "source": [
    "processes"
   ]
  },
  {
   "cell_type": "code",
   "execution_count": 50,
   "id": "b23950ad-80e4-452b-ad2b-f0fadb8797b8",
   "metadata": {},
   "outputs": [
    {
     "data": {
      "text/plain": [
       "[Job(api=<eocanvas.api.API object at 0x7fce0e2f1ad0>, job_id='6f8a0bd5-a7ea-56ec-9b3f-b21ce2e81168', status='failed', started='2025-01-22 14:41:09', created='2025-01-22 14:41:09', updated='2025-01-22 14:42:30', finished='2025-01-22 14:42:29'),\n",
       " Job(api=<eocanvas.api.API object at 0x7fce0e2f1ad0>, job_id='9be1af7d-75b3-52f7-a186-b0d2997b2542', status='failed', started='2025-01-15 14:25:52', created='2025-01-15 14:25:52', updated='2025-01-15 14:27:22', finished='2025-01-15 14:27:21')]"
      ]
     },
     "execution_count": 50,
     "metadata": {},
     "output_type": "execute_result"
    }
   ],
   "source": [
    "jobs = api.get_jobs()\n",
    "jobs"
   ]
  },
  {
   "cell_type": "code",
   "execution_count": 51,
   "id": "8ede6f62-1ffc-4c0a-a484-2c56316108eb",
   "metadata": {},
   "outputs": [],
   "source": [
    "job = '6f8a0bd5-a7ea-56ec-9b3f-b21ce2e81168'"
   ]
  },
  {
   "cell_type": "code",
   "execution_count": 52,
   "id": "16ae4e95-9925-4cff-9061-ded24733e19e",
   "metadata": {},
   "outputs": [
    {
     "data": {
      "text/plain": [
       "[LogEntry(timestamp=datetime.datetime(2025, 1, 22, 14, 41, 29, 621170, tzinfo=datetime.timezone.utc), message='time=\"2025-01-22T14:41:29.620Z\" level=info msg=\"Starting Workflow Executor\" version=v3.5.7'),\n",
       " LogEntry(timestamp=datetime.datetime(2025, 1, 22, 14, 41, 29, 626481, tzinfo=datetime.timezone.utc), message='time=\"2025-01-22T14:41:29.626Z\" level=info msg=\"Using executor retry strategy\" Duration=1s Factor=1.6 Jitter=0.5 Steps=5'),\n",
       " LogEntry(timestamp=datetime.datetime(2025, 1, 22, 14, 41, 29, 626498, tzinfo=datetime.timezone.utc), message='time=\"2025-01-22T14:41:29.626Z\" level=info msg=\"Executor initialized\" deadline=\"0001-01-01 00:00:00 +0000 UTC\" includeScriptOutput=false namespace=ws-serverless podName=workflow-b7cjx-stage-in-3980958089 templateName=stage-in version=\"&Version{Version:v3.5.7,BuildDate:2024-05-27T06:18:59Z,GitCommit:503eef1357ebc9facc3f463708031441072ef7c2,GitTag:v3.5.7,GitTreeState:clean,GoVersion:go1.21.10,Compiler:gc,Platform:linux/amd64,}\"'),\n",
       " LogEntry(timestamp=datetime.datetime(2025, 1, 22, 14, 41, 29, 775018, tzinfo=datetime.timezone.utc), message='time=\"2025-01-22T14:41:29.774Z\" level=info msg=\"Start loading input artifacts...\"'),\n",
       " LogEntry(timestamp=datetime.datetime(2025, 1, 22, 14, 41, 29, 775060, tzinfo=datetime.timezone.utc), message='time=\"2025-01-22T14:41:29.774Z\" level=info msg=\"Alloc=7713 TotalAlloc=13470 Sys=25445 NumGC=4 Goroutines=4\"'),\n",
       " LogEntry(timestamp=datetime.datetime(2025, 1, 22, 14, 41, 32, 943832, tzinfo=datetime.timezone.utc), message='SLF4J(W): Class path contains multiple SLF4J providers.'),\n",
       " LogEntry(timestamp=datetime.datetime(2025, 1, 22, 14, 41, 32, 943889, tzinfo=datetime.timezone.utc), message='SLF4J(W): Found provider [ch.qos.logback.classic.spi.LogbackServiceProvider@3567135c]'),\n",
       " LogEntry(timestamp=datetime.datetime(2025, 1, 22, 14, 41, 32, 943903, tzinfo=datetime.timezone.utc), message='SLF4J(W): Found provider [org.slf4j.reload4j.Reload4jServiceProvider@327471b5]'),\n",
       " LogEntry(timestamp=datetime.datetime(2025, 1, 22, 14, 41, 32, 943916, tzinfo=datetime.timezone.utc), message='SLF4J(W): See https://www.slf4j.org/codes.html#multiple_bindings for an explanation.'),\n",
       " LogEntry(timestamp=datetime.datetime(2025, 1, 22, 14, 41, 33, 36033, tzinfo=datetime.timezone.utc), message='SLF4J(I): Actual provider is of type [ch.qos.logback.classic.spi.LogbackServiceProvider@3567135c]'),\n",
       " LogEntry(timestamp=datetime.datetime(2025, 1, 22, 14, 41, 33, 89374, tzinfo=datetime.timezone.utc), message='Standard Commons Logging discovery in action with spring-jcl: please remove commons-logging.jar from classpath in order to avoid potential conflicts'),\n",
       " LogEntry(timestamp=datetime.datetime(2025, 1, 22, 14, 41, 33, 638430, tzinfo=datetime.timezone.utc), message=''),\n",
       " LogEntry(timestamp=datetime.datetime(2025, 1, 22, 14, 41, 33, 638457, tzinfo=datetime.timezone.utc), message='  .   ____          _            __ _ _'),\n",
       " LogEntry(timestamp=datetime.datetime(2025, 1, 22, 14, 41, 33, 638461, tzinfo=datetime.timezone.utc), message=\" /\\\\\\\\ / ___'_ __ _ _(_)_ __  __ _ \\\\ \\\\ \\\\ \\\\\"),\n",
       " LogEntry(timestamp=datetime.datetime(2025, 1, 22, 14, 41, 33, 638465, tzinfo=datetime.timezone.utc), message=\"( ( )\\\\___ | '_ | '_| | '_ \\\\/ _` | \\\\ \\\\ \\\\ \\\\\"),\n",
       " LogEntry(timestamp=datetime.datetime(2025, 1, 22, 14, 41, 33, 638468, tzinfo=datetime.timezone.utc), message=' \\\\\\\\/  ___)| |_)| | | | | || (_| |  ) ) ) )'),\n",
       " LogEntry(timestamp=datetime.datetime(2025, 1, 22, 14, 41, 33, 638472, tzinfo=datetime.timezone.utc), message=\"  '  |____| .__|_| |_|_| |_\\\\__, | / / / /\"),\n",
       " LogEntry(timestamp=datetime.datetime(2025, 1, 22, 14, 41, 33, 638475, tzinfo=datetime.timezone.utc), message=' =========|_|==============|___/=/_/_/_/'),\n",
       " LogEntry(timestamp=datetime.datetime(2025, 1, 22, 14, 41, 33, 638479, tzinfo=datetime.timezone.utc), message=''),\n",
       " LogEntry(timestamp=datetime.datetime(2025, 1, 22, 14, 41, 33, 641155, tzinfo=datetime.timezone.utc), message=' :: Spring Boot ::                (v3.3.1)'),\n",
       " LogEntry(timestamp=datetime.datetime(2025, 1, 22, 14, 41, 33, 641173, tzinfo=datetime.timezone.utc), message=''),\n",
       " LogEntry(timestamp=datetime.datetime(2025, 1, 22, 14, 41, 33, 854137, tzinfo=datetime.timezone.utc), message='2025-01-22T14:41:33.847Z  INFO 24 --- [stagein] [           main] o.e.w.s.stagein.StageInApplication       : Starting StageInApplication v1.3.7 using Java 17.0.13 with PID 24 (/app.jar started by root in /)'),\n",
       " LogEntry(timestamp=datetime.datetime(2025, 1, 22, 14, 41, 33, 855570, tzinfo=datetime.timezone.utc), message='2025-01-22T14:41:33.855Z  INFO 24 --- [stagein] [           main] o.e.w.s.stagein.StageInApplication       : No active profile set, falling back to 1 default profile: \"default\"'),\n",
       " LogEntry(timestamp=datetime.datetime(2025, 1, 22, 14, 41, 35, 553831, tzinfo=datetime.timezone.utc), message='2025-01-22T14:41:35.553Z  INFO 24 --- [stagein] [           main] o.s.b.w.embedded.tomcat.TomcatWebServer  : Tomcat initialized with port 8080 (http)'),\n",
       " LogEntry(timestamp=datetime.datetime(2025, 1, 22, 14, 41, 35, 568412, tzinfo=datetime.timezone.utc), message='2025-01-22T14:41:35.568Z  INFO 24 --- [stagein] [           main] o.apache.catalina.core.StandardService   : Starting service [Tomcat]'),\n",
       " LogEntry(timestamp=datetime.datetime(2025, 1, 22, 14, 41, 35, 568580, tzinfo=datetime.timezone.utc), message='2025-01-22T14:41:35.568Z  INFO 24 --- [stagein] [           main] o.apache.catalina.core.StandardEngine    : Starting Servlet engine: [Apache Tomcat/10.1.25]'),\n",
       " LogEntry(timestamp=datetime.datetime(2025, 1, 22, 14, 41, 35, 640736, tzinfo=datetime.timezone.utc), message='2025-01-22T14:41:35.640Z  INFO 24 --- [stagein] [           main] o.a.c.c.C.[Tomcat].[localhost].[/]       : Initializing Spring embedded WebApplicationContext'),\n",
       " LogEntry(timestamp=datetime.datetime(2025, 1, 22, 14, 41, 35, 642571, tzinfo=datetime.timezone.utc), message='2025-01-22T14:41:35.642Z  INFO 24 --- [stagein] [           main] w.s.c.ServletWebServerApplicationContext : Root WebApplicationContext: initialization completed in 1621 ms'),\n",
       " LogEntry(timestamp=datetime.datetime(2025, 1, 22, 14, 41, 35, 646424, tzinfo=datetime.timezone.utc), message='Standard Commons Logging discovery in action with spring-jcl: please remove commons-logging.jar from classpath in order to avoid potential conflicts'),\n",
       " LogEntry(timestamp=datetime.datetime(2025, 1, 22, 14, 41, 36, 757674, tzinfo=datetime.timezone.utc), message='2025-01-22T14:41:36.757Z  WARN 24 --- [stagein] [           main] .s.s.UserDetailsServiceAutoConfiguration : '),\n",
       " LogEntry(timestamp=datetime.datetime(2025, 1, 22, 14, 41, 36, 757702, tzinfo=datetime.timezone.utc), message=''),\n",
       " LogEntry(timestamp=datetime.datetime(2025, 1, 22, 14, 41, 36, 757706, tzinfo=datetime.timezone.utc), message='Using generated security password: 0fe84e01-2051-489a-a9a1-7e51112dd9ea'),\n",
       " LogEntry(timestamp=datetime.datetime(2025, 1, 22, 14, 41, 36, 757710, tzinfo=datetime.timezone.utc), message=''),\n",
       " LogEntry(timestamp=datetime.datetime(2025, 1, 22, 14, 41, 36, 757714, tzinfo=datetime.timezone.utc), message='This generated password is for development use only. Your security configuration must be updated before running your application in production.'),\n",
       " LogEntry(timestamp=datetime.datetime(2025, 1, 22, 14, 41, 36, 757717, tzinfo=datetime.timezone.utc), message=''),\n",
       " LogEntry(timestamp=datetime.datetime(2025, 1, 22, 14, 41, 36, 786087, tzinfo=datetime.timezone.utc), message='2025-01-22T14:41:36.782Z  INFO 24 --- [stagein] [           main] r$InitializeUserDetailsManagerConfigurer : Global AuthenticationManager configured with UserDetailsService bean with name inMemoryUserDetailsManager'),\n",
       " LogEntry(timestamp=datetime.datetime(2025, 1, 22, 14, 41, 36, 974585, tzinfo=datetime.timezone.utc), message=\"2025-01-22T14:41:36.974Z  INFO 24 --- [stagein] [           main] o.s.b.w.embedded.tomcat.TomcatWebServer  : Tomcat started on port 8080 (http) with context path '/'\"),\n",
       " LogEntry(timestamp=datetime.datetime(2025, 1, 22, 14, 41, 36, 999835, tzinfo=datetime.timezone.utc), message='2025-01-22T14:41:36.999Z  INFO 24 --- [stagein] [           main] o.e.w.s.stagein.StageInApplication       : Started StageInApplication in 3.735 seconds (process running for 4.387)'),\n",
       " LogEntry(timestamp=datetime.datetime(2025, 1, 22, 14, 41, 37, 28607, tzinfo=datetime.timezone.utc), message='2025-01-22T14:41:37.028Z  INFO 24 --- [stagein] [           main] o.e.w.s.logger.MetricsLogger             : [METRICS][6f8a0bd5-a7ea-56ec-9b3f-b21ce2e81168][START] {\"phase\":\"STAGE-IN\",\"user\":\"co429\",\"timestamp\":\"2025-01-22T14:41:37.006064109\"}'),\n",
       " LogEntry(timestamp=datetime.datetime(2025, 1, 22, 14, 41, 37, 116587, tzinfo=datetime.timezone.utc), message='2025-01-22T14:41:37.114Z  INFO 24 --- [stagein] [           main] o.e.w.s.s.downloader.EnvironmentService  : Created job configuration file for job 6f8a0bd5-a7ea-56ec-9b3f-b21ce2e81168 in location: /home/worker/workDir/function.properties'),\n",
       " LogEntry(timestamp=datetime.datetime(2025, 1, 22, 14, 41, 37, 117764, tzinfo=datetime.timezone.utc), message='2025-01-22T14:41:37.117Z  INFO 24 --- [stagein] [           main] o.e.w.s.s.d.DownloaderServiceImpl        : InputDir /home/worker/workDir/inDir and inputs to Download {eo_input=[{\"inputimg\": \"https://gateway.prod.wekeo2.eu/hda-broker/api/v1/dataaccess/download/67910060b0c1c76a4348de19\"}]} '),\n",
       " LogEntry(timestamp=datetime.datetime(2025, 1, 22, 14, 41, 37, 139764, tzinfo=datetime.timezone.utc), message='2025-01-22T14:41:37.139Z  INFO 24 --- [stagein] [           main] o.e.w.s.s.d.wekeo.WekEODownloader        : Requesting download of product at URI https://gateway.prod.wekeo2.eu/hda-broker/api/v1/dataaccess/download/67910060b0c1c76a4348de19 to /home/worker/workDir/tmp/dl15856541836332706011'),\n",
       " LogEntry(timestamp=datetime.datetime(2025, 1, 22, 14, 41, 37, 139872, tzinfo=datetime.timezone.utc), message='2025-01-22T14:41:37.139Z  INFO 24 --- [stagein] [           main] o.e.w.s.s.d.wekeo.WekEODownloader        : Requested download of product at URI https://gateway.prod.wekeo2.eu/hda-broker/api/v1/dataaccess/download/67910060b0c1c76a4348de19 download ID is 67910060b0c1c76a4348de19'),\n",
       " LogEntry(timestamp=datetime.datetime(2025, 1, 22, 14, 41, 38, 358228, tzinfo=datetime.timezone.utc), message='2025-01-22T14:41:38.357Z  INFO 24 --- [stagein] [           main] o.e.w.s.s.d.wekeo.WekEODownloader        : Downloading https://gateway.prod.wekeo2.eu/hda-broker/api/v1/dataaccess/download/67910060b0c1c76a4348de19 in /home/worker/workDir/tmp/dl15856541836332706011'),\n",
       " LogEntry(timestamp=datetime.datetime(2025, 1, 22, 14, 41, 42, 612080, tzinfo=datetime.timezone.utc), message='time=\"2025-01-22T14:41:42.611Z\" level=debug msg=\"ignore signal urgent I/O condition\" argo=true'),\n",
       " LogEntry(timestamp=datetime.datetime(2025, 1, 22, 14, 41, 50, 487906, tzinfo=datetime.timezone.utc), message='2025-01-22T14:41:50.487Z  INFO 24 --- [stagein] [           main] o.e.w.s.s.d.wekeo.WekEODownloader        : Successfully downloaded product from URL https://gateway.prod.wekeo2.eu/hda-broker/api/v1/dataaccess/download/67910060b0c1c76a4348de19 to /home/worker/workDir/tmp/dl15856541836332706011/S2B_MSIL1C_20200623T112119_N0500_R037_T30UUA_20230427T164710.SAFE.zip (667249914 bytes)'),\n",
       " LogEntry(timestamp=datetime.datetime(2025, 1, 22, 14, 41, 50, 489735, tzinfo=datetime.timezone.utc), message='2025-01-22T14:41:50.489Z  INFO 24 --- [stagein] [           main] o.e.w.s.logger.MetricsLogger             : [METRICS][6f8a0bd5-a7ea-56ec-9b3f-b21ce2e81168][FILE] {\"phase\":\"STAGE-IN\",\"file\":\"/home/worker/workDir/inDir/eo_input/inputimg/S2B_MSIL1C_20200623T112119_N0500_R037_T30UUA_20230427T164710.SAFE.zip\",\"size\":667249914 }'),\n",
       " LogEntry(timestamp=datetime.datetime(2025, 1, 22, 14, 41, 50, 490320, tzinfo=datetime.timezone.utc), message='2025-01-22T14:41:50.490Z  INFO 24 --- [stagein] [           main] o.e.w.s.logger.MetricsLogger             : [METRICS][6f8a0bd5-a7ea-56ec-9b3f-b21ce2e81168][END] {\"phase\":\"STAGE-IN\",\"user\":\"co429\",\"timestamp\":\"2025-01-22T14:41:37.006064109\",\"duration\":\"13\"}'),\n",
       " LogEntry(timestamp=datetime.datetime(2025, 1, 22, 14, 41, 50, 490343, tzinfo=datetime.timezone.utc), message='2025-01-22T14:41:50.490Z  INFO 24 --- [stagein] [           main] o.e.w.s.stagein.StageInApplication       : shutdown...'),\n",
       " LogEntry(timestamp=datetime.datetime(2025, 1, 22, 14, 41, 50, 862569, tzinfo=datetime.timezone.utc), message='time=\"2025-01-22T14:41:50.862Z\" level=debug msg=\"ignore signal child exited\" argo=true'),\n",
       " LogEntry(timestamp=datetime.datetime(2025, 1, 22, 14, 41, 51, 613625, tzinfo=datetime.timezone.utc), message='time=\"2025-01-22T14:41:51.613Z\" level=info msg=\"sub-process exited\" argo=true error=\"<nil>\"'),\n",
       " LogEntry(timestamp=datetime.datetime(2025, 1, 22, 14, 42, 4, 913966, tzinfo=datetime.timezone.utc), message='time=\"2025-01-22T14:42:04.913Z\" level=info msg=\"Starting Workflow Executor\" version=v3.5.7'),\n",
       " LogEntry(timestamp=datetime.datetime(2025, 1, 22, 14, 42, 4, 917994, tzinfo=datetime.timezone.utc), message='time=\"2025-01-22T14:42:04.917Z\" level=info msg=\"Using executor retry strategy\" Duration=1s Factor=1.6 Jitter=0.5 Steps=5'),\n",
       " LogEntry(timestamp=datetime.datetime(2025, 1, 22, 14, 42, 4, 918020, tzinfo=datetime.timezone.utc), message='time=\"2025-01-22T14:42:04.917Z\" level=info msg=\"Executor initialized\" deadline=\"0001-01-01 00:00:00 +0000 UTC\" includeScriptOutput=false namespace=ws-serverless podName=workflow-b7cjx-function-816975692 templateName=function version=\"&Version{Version:v3.5.7,BuildDate:2024-05-27T06:18:59Z,GitCommit:503eef1357ebc9facc3f463708031441072ef7c2,GitTag:v3.5.7,GitTreeState:clean,GoVersion:go1.21.10,Compiler:gc,Platform:linux/amd64,}\"'),\n",
       " LogEntry(timestamp=datetime.datetime(2025, 1, 22, 14, 42, 5, 65015, tzinfo=datetime.timezone.utc), message='time=\"2025-01-22T14:42:05.064Z\" level=info msg=\"Start loading input artifacts...\"'),\n",
       " LogEntry(timestamp=datetime.datetime(2025, 1, 22, 14, 42, 5, 65035, tzinfo=datetime.timezone.utc), message='time=\"2025-01-22T14:42:05.064Z\" level=info msg=\"Alloc=7491 TotalAlloc=13346 Sys=24677 NumGC=4 Goroutines=4\"'),\n",
       " LogEntry(timestamp=datetime.datetime(2025, 1, 22, 14, 42, 7, 253849, tzinfo=datetime.timezone.utc), message='[METRICS][6f8a0bd5-a7ea-56ec-9b3f-b21ce2e81168][START] {\"phase\":\"prepare_environments\", \"user\":\"co429\", \"timestamp\":\"2025/01/22 14:42:07\"}'),\n",
       " LogEntry(timestamp=datetime.datetime(2025, 1, 22, 14, 42, 7, 288728, tzinfo=datetime.timezone.utc), message='[2025-01-22T14:42:07+0000] [INFO] - Preparing input: inputimg'),\n",
       " LogEntry(timestamp=datetime.datetime(2025, 1, 22, 14, 42, 18, 843709, tzinfo=datetime.timezone.utc), message='[2025-01-22T14:42:18+0000] [ERROR] - Zero or more than one item found for /home/worker/workDir/inDir/eo_input/inputimg/S2B_MSIL1C_20200623T112119_N0500_R037_T30UUA_20230427T164710.SAFE.zip, that is'),\n",
       " LogEntry(timestamp=datetime.datetime(2025, 1, 22, 14, 42, 18, 844682, tzinfo=datetime.timezone.utc), message='time=\"2025-01-22T14:42:18.844Z\" level=debug msg=\"ignore signal child exited\" argo=true'),\n",
       " LogEntry(timestamp=datetime.datetime(2025, 1, 22, 14, 42, 19, 244640, tzinfo=datetime.timezone.utc), message='time=\"2025-01-22T14:42:19.244Z\" level=info msg=\"sub-process exited\" argo=true error=\"<nil>\"'),\n",
       " LogEntry(timestamp=datetime.datetime(2025, 1, 22, 14, 42, 19, 246726, tzinfo=datetime.timezone.utc), message='Error: exit status 10')]"
      ]
     },
     "execution_count": 52,
     "metadata": {},
     "output_type": "execute_result"
    }
   ],
   "source": [
    "api.get_job_logs(job=job)"
   ]
  },
  {
   "cell_type": "code",
   "execution_count": null,
   "id": "e86728f3-4a76-4bd5-880e-462c1d5211b5",
   "metadata": {},
   "outputs": [],
   "source": []
  }
 ],
 "metadata": {
  "kernelspec": {
   "display_name": "wekeolab",
   "language": "python",
   "name": "wekeolab"
  },
  "language_info": {
   "codemirror_mode": {
    "name": "ipython",
    "version": 3
   },
   "file_extension": ".py",
   "mimetype": "text/x-python",
   "name": "python",
   "nbconvert_exporter": "python",
   "pygments_lexer": "ipython3",
   "version": "3.11.6"
  }
 },
 "nbformat": 4,
 "nbformat_minor": 5
}
