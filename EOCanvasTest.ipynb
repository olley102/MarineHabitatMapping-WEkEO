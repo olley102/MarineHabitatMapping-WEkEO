{
 "cells": [
  {
   "cell_type": "markdown",
   "id": "4278161c-4561-44fe-8e2f-99534c59d3df",
   "metadata": {},
   "source": [
    "## Setup"
   ]
  },
  {
   "cell_type": "code",
   "execution_count": 1,
   "id": "de0d56a1-bb48-485e-b038-32ebf2c2e6ef",
   "metadata": {},
   "outputs": [],
   "source": [
    "from eocanvas import API, Credentials\n",
    "from eocanvas.api import Input, Config, ConfigOption\n",
    "from eocanvas.processes import SnapProcess\n",
    "from eocanvas.snap.graph import Graph"
   ]
  },
  {
   "cell_type": "code",
   "execution_count": 2,
   "id": "2915af82-355b-49f1-8a33-6d4ff401d613",
   "metadata": {},
   "outputs": [],
   "source": [
    "c = Credentials.load()"
   ]
  },
  {
   "cell_type": "code",
   "execution_count": 3,
   "id": "dc53dbf4-f291-4608-aafa-6f979b9ebc94",
   "metadata": {},
   "outputs": [],
   "source": [
    "from hda import Client"
   ]
  },
  {
   "cell_type": "code",
   "execution_count": 4,
   "id": "833674d6-0044-4914-a534-7c0874f8e5fb",
   "metadata": {},
   "outputs": [],
   "source": [
    "c = Client()"
   ]
  },
  {
   "cell_type": "markdown",
   "id": "bf927d5b-195f-49e3-a3b3-89a7da606d7c",
   "metadata": {},
   "source": [
    "## Data"
   ]
  },
  {
   "cell_type": "code",
   "execution_count": 5,
   "id": "303581cb-fc4a-4ce6-80b7-bdeab3e02408",
   "metadata": {
    "scrolled": true
   },
   "outputs": [
    {
     "data": {
      "text/plain": [
       "{'type': 'object',\n",
       " 'title': 'Querable',\n",
       " 'properties': {'dataset_id': {'title': 'dataset_id',\n",
       "   'type': 'string',\n",
       "   'oneOf': [{'const': 'EO:ESA:DAT:SENTINEL-2',\n",
       "     'title': 'EO:ESA:DAT:SENTINEL-2',\n",
       "     'group': None}]},\n",
       "  'bbox': {'title': 'Bbox',\n",
       "   'type': 'array',\n",
       "   'minItems': 4,\n",
       "   'maxItems': 4,\n",
       "   'items': [{'type': 'number', 'maximum': 180, 'minimum': -180},\n",
       "    {'type': 'number', 'maximum': 90, 'minimum': -90},\n",
       "    {'type': 'number', 'maximum': 180, 'minimum': -180},\n",
       "    {'type': 'number', 'maximum': 90, 'minimum': -90}]},\n",
       "  'productIdentifier': {'title': 'Product Identifier',\n",
       "   'type': 'string',\n",
       "   'pattern': '^[a-zA-Z0-9]+$'},\n",
       "  'productType': {'title': 'Product Type',\n",
       "   'type': 'string',\n",
       "   'oneOf': [{'const': 'S2MSI1C', 'title': 'S2MSI1C', 'group': None},\n",
       "    {'const': 'S2MSI2A', 'title': 'S2MSI2A', 'group': None},\n",
       "    {'const': 'AUX_GNSSRD', 'title': 'AUX_GNSSRD', 'group': None},\n",
       "    {'const': 'AUX_PROQUA', 'title': 'AUX_PROQUA', 'group': None},\n",
       "    {'const': 'AUX_POEORB', 'title': 'AUX_POEORB', 'group': None},\n",
       "    {'const': 'AUX_UT1UTC', 'title': 'AUX_UT1UTC', 'group': None},\n",
       "    {'const': 'GIP_ATMIMA', 'title': 'GIP_ATMIMA', 'group': None},\n",
       "    {'const': 'GIP_ATMSAD', 'title': 'GIP_ATMSAD', 'group': None},\n",
       "    {'const': 'GIP_DATATI', 'title': 'GIP_DATATI', 'group': None},\n",
       "    {'const': 'GIP_LREXTR', 'title': 'GIP_LREXTR', 'group': None},\n",
       "    {'const': 'GIP_INVLOC', 'title': 'GIP_INVLOC', 'group': None},\n",
       "    {'const': 'GIP_SPAMOD', 'title': 'GIP_SPAMOD', 'group': None},\n",
       "    {'const': 'GIP_BLINDP', 'title': 'GIP_BLINDP', 'group': None},\n",
       "    {'const': 'GIP_CLOINV', 'title': 'GIP_CLOINV', 'group': None},\n",
       "    {'const': 'GIP_CLOPAR', 'title': 'GIP_CLOPAR', 'group': None},\n",
       "    {'const': 'GIP_PRDLOC', 'title': 'GIP_PRDLOC', 'group': None},\n",
       "    {'const': 'GIP_R2PARA', 'title': 'GIP_R2PARA', 'group': None},\n",
       "    {'const': 'GIP_R2SWIR', 'title': 'GIP_R2SWIR', 'group': None},\n",
       "    {'const': 'GIP_R2DEPI', 'title': 'GIP_R2DEPI', 'group': None},\n",
       "    {'const': 'GIP_R2NOMO', 'title': 'GIP_R2NOMO', 'group': None},\n",
       "    {'const': 'GIP_R2ABCA', 'title': 'GIP_R2ABCA', 'group': None},\n",
       "    {'const': 'GIP_R2BINN', 'title': 'GIP_R2BINN', 'group': None},\n",
       "    {'const': 'GIP_R2CRCO', 'title': 'GIP_R2CRCO', 'group': None},\n",
       "    {'const': 'GIP_G2PARA', 'title': 'GIP_G2PARA', 'group': None},\n",
       "    {'const': 'GIP_G2PARE', 'title': 'GIP_G2PARE', 'group': None},\n",
       "    {'const': 'GIP_EARMOD', 'title': 'GIP_EARMOD', 'group': None},\n",
       "    {'const': 'GIP_GEOPAR', 'title': 'GIP_GEOPAR', 'group': None},\n",
       "    {'const': 'GIP_INTDET', 'title': 'GIP_INTDET', 'group': None},\n",
       "    {'const': 'GIP_TILPAR', 'title': 'GIP_TILPAR', 'group': None},\n",
       "    {'const': 'GIP_RESPAR', 'title': 'GIP_RESPAR', 'group': None},\n",
       "    {'const': 'GIP_MASPAR', 'title': 'GIP_MASPAR', 'group': None},\n",
       "    {'const': 'GIP_JP2KPA', 'title': 'GIP_JP2KPA', 'group': None},\n",
       "    {'const': 'GIP_ECMWFP', 'title': 'GIP_ECMWFP', 'group': None},\n",
       "    {'const': 'GIP_DECOMP', 'title': 'GIP_DECOMP', 'group': None},\n",
       "    {'const': 'GIP_OLQCPA', 'title': 'GIP_OLQCPA', 'group': None},\n",
       "    {'const': 'GIP_CONVER', 'title': 'GIP_CONVER', 'group': None},\n",
       "    {'const': 'GIP_L2ACAC', 'title': 'GIP_L2ACAC', 'group': None},\n",
       "    {'const': 'GIP_L2ACSC', 'title': 'GIP_L2ACSC', 'group': None},\n",
       "    {'const': 'GIP_PROBA2', 'title': 'GIP_PROBA2', 'group': None},\n",
       "    {'const': 'GIP_HRTPAR', 'title': 'GIP_HRTPAR', 'group': None},\n",
       "    {'const': 'GIP_VIEDIR_B01', 'title': 'GIP_VIEDIR_B01', 'group': None},\n",
       "    {'const': 'GIP_VIEDIR_B02', 'title': 'GIP_VIEDIR_B02', 'group': None},\n",
       "    {'const': 'GIP_VIEDIR_B03', 'title': 'GIP_VIEDIR_B03', 'group': None},\n",
       "    {'const': 'GIP_VIEDIR_B04', 'title': 'GIP_VIEDIR_B04', 'group': None},\n",
       "    {'const': 'GIP_VIEDIR_B05', 'title': 'GIP_VIEDIR_B05', 'group': None},\n",
       "    {'const': 'GIP_VIEDIR_B06', 'title': 'GIP_VIEDIR_B06', 'group': None},\n",
       "    {'const': 'GIP_VIEDIR_B07', 'title': 'GIP_VIEDIR_B07', 'group': None},\n",
       "    {'const': 'GIP_VIEDIR_B08', 'title': 'GIP_VIEDIR_B08', 'group': None},\n",
       "    {'const': 'GIP_VIEDIR_B09', 'title': 'GIP_VIEDIR_B09', 'group': None},\n",
       "    {'const': 'GIP_VIEDIR_B10', 'title': 'GIP_VIEDIR_B10', 'group': None},\n",
       "    {'const': 'GIP_VIEDIR_B11', 'title': 'GIP_VIEDIR_B11', 'group': None},\n",
       "    {'const': 'GIP_VIEDIR_B12', 'title': 'GIP_VIEDIR_B12', 'group': None},\n",
       "    {'const': 'GIP_VIEDIR_B8A', 'title': 'GIP_VIEDIR_B8A', 'group': None},\n",
       "    {'const': 'GIP_R2EQOG_B01', 'title': 'GIP_R2EQOG_B01', 'group': None},\n",
       "    {'const': 'GIP_R2EQOG_B02', 'title': 'GIP_R2EQOG_B02', 'group': None},\n",
       "    {'const': 'GIP_R2EQOG_B03', 'title': 'GIP_R2EQOG_B03', 'group': None},\n",
       "    {'const': 'GIP_R2EQOG_B04', 'title': 'GIP_R2EQOG_B04', 'group': None},\n",
       "    {'const': 'GIP_R2EQOG_B05', 'title': 'GIP_R2EQOG_B05', 'group': None},\n",
       "    {'const': 'GIP_R2EQOG_B06', 'title': 'GIP_R2EQOG_B06', 'group': None},\n",
       "    {'const': 'GIP_R2EQOG_B07', 'title': 'GIP_R2EQOG_B07', 'group': None},\n",
       "    {'const': 'GIP_R2EQOG_B08', 'title': 'GIP_R2EQOG_B08', 'group': None},\n",
       "    {'const': 'GIP_R2EQOG_B09', 'title': 'GIP_R2EQOG_B09', 'group': None},\n",
       "    {'const': 'GIP_R2EQOG_B10', 'title': 'GIP_R2EQOG_B10', 'group': None},\n",
       "    {'const': 'GIP_R2EQOG_B11', 'title': 'GIP_R2EQOG_B11', 'group': None},\n",
       "    {'const': 'GIP_R2EQOG_B12', 'title': 'GIP_R2EQOG_B12', 'group': None},\n",
       "    {'const': 'GIP_R2EQOG_B8A', 'title': 'GIP_R2EQOG_B8A', 'group': None},\n",
       "    {'const': 'GIP_R2DEFI_B01', 'title': 'GIP_R2DEFI_B01', 'group': None},\n",
       "    {'const': 'GIP_R2DEFI_B02', 'title': 'GIP_R2DEFI_B02', 'group': None},\n",
       "    {'const': 'GIP_R2DEFI_B03', 'title': 'GIP_R2DEFI_B03', 'group': None},\n",
       "    {'const': 'GIP_R2DEFI_B04', 'title': 'GIP_R2DEFI_B04', 'group': None},\n",
       "    {'const': 'GIP_R2DEFI_B05', 'title': 'GIP_R2DEFI_B05', 'group': None},\n",
       "    {'const': 'GIP_R2DEFI_B06', 'title': 'GIP_R2DEFI_B06', 'group': None},\n",
       "    {'const': 'GIP_R2DEFI_B07', 'title': 'GIP_R2DEFI_B07', 'group': None},\n",
       "    {'const': 'GIP_R2DEFI_B08', 'title': 'GIP_R2DEFI_B08', 'group': None},\n",
       "    {'const': 'GIP_R2DEFI_B09', 'title': 'GIP_R2DEFI_B09', 'group': None},\n",
       "    {'const': 'GIP_R2DEFI_B10', 'title': 'GIP_R2DEFI_B10', 'group': None},\n",
       "    {'const': 'GIP_R2DEFI_B11', 'title': 'GIP_R2DEFI_B11', 'group': None},\n",
       "    {'const': 'GIP_R2DEFI_B12', 'title': 'GIP_R2DEFI_B12', 'group': None},\n",
       "    {'const': 'GIP_R2DEFI_B8A', 'title': 'GIP_R2DEFI_B8A', 'group': None},\n",
       "    {'const': 'GIP_R2WAFI_B01', 'title': 'GIP_R2WAFI_B01', 'group': None},\n",
       "    {'const': 'GIP_R2WAFI_B02', 'title': 'GIP_R2WAFI_B02', 'group': None},\n",
       "    {'const': 'GIP_R2WAFI_B03', 'title': 'GIP_R2WAFI_B03', 'group': None},\n",
       "    {'const': 'GIP_R2WAFI_B04', 'title': 'GIP_R2WAFI_B04', 'group': None},\n",
       "    {'const': 'GIP_R2WAFI_B05', 'title': 'GIP_R2WAFI_B05', 'group': None},\n",
       "    {'const': 'GIP_R2WAFI_B06', 'title': 'GIP_R2WAFI_B06', 'group': None},\n",
       "    {'const': 'GIP_R2WAFI_B07', 'title': 'GIP_R2WAFI_B07', 'group': None},\n",
       "    {'const': 'GIP_R2WAFI_B08', 'title': 'GIP_R2WAFI_B08', 'group': None},\n",
       "    {'const': 'GIP_R2WAFI_B09', 'title': 'GIP_R2WAFI_B09', 'group': None},\n",
       "    {'const': 'GIP_R2WAFI_B10', 'title': 'GIP_R2WAFI_B10', 'group': None},\n",
       "    {'const': 'GIP_R2WAFI_B11', 'title': 'GIP_R2WAFI_B11', 'group': None},\n",
       "    {'const': 'GIP_R2WAFI_B12', 'title': 'GIP_R2WAFI_B12', 'group': None},\n",
       "    {'const': 'GIP_R2WAFI_B8A', 'title': 'GIP_R2WAFI_B8A', 'group': None},\n",
       "    {'const': 'GIP_R2L2NC_B01', 'title': 'GIP_R2L2NC_B01', 'group': None},\n",
       "    {'const': 'GIP_R2L2NC_B02', 'title': 'GIP_R2L2NC_B02', 'group': None},\n",
       "    {'const': 'GIP_R2L2NC_B03', 'title': 'GIP_R2L2NC_B03', 'group': None},\n",
       "    {'const': 'GIP_R2L2NC_B04', 'title': 'GIP_R2L2NC_B04', 'group': None},\n",
       "    {'const': 'GIP_R2L2NC_B05', 'title': 'GIP_R2L2NC_B05', 'group': None},\n",
       "    {'const': 'GIP_R2L2NC_B06', 'title': 'GIP_R2L2NC_B06', 'group': None},\n",
       "    {'const': 'GIP_R2L2NC_B07', 'title': 'GIP_R2L2NC_B07', 'group': None},\n",
       "    {'const': 'GIP_R2L2NC_B08', 'title': 'GIP_R2L2NC_B08', 'group': None},\n",
       "    {'const': 'GIP_R2L2NC_B09', 'title': 'GIP_R2L2NC_B09', 'group': None},\n",
       "    {'const': 'GIP_R2L2NC_B10', 'title': 'GIP_R2L2NC_B10', 'group': None},\n",
       "    {'const': 'GIP_R2L2NC_B11', 'title': 'GIP_R2L2NC_B11', 'group': None},\n",
       "    {'const': 'GIP_R2L2NC_B12', 'title': 'GIP_R2L2NC_B12', 'group': None},\n",
       "    {'const': 'GIP_R2L2NC_B8A', 'title': 'GIP_R2L2NC_B8A', 'group': None},\n",
       "    {'const': 'GIP_R2DENT_B01', 'title': 'GIP_R2DENT_B01', 'group': None},\n",
       "    {'const': 'GIP_R2DENT_B02', 'title': 'GIP_R2DENT_B02', 'group': None},\n",
       "    {'const': 'GIP_R2DENT_B03', 'title': 'GIP_R2DENT_B03', 'group': None},\n",
       "    {'const': 'GIP_R2DENT_B04', 'title': 'GIP_R2DENT_B04', 'group': None},\n",
       "    {'const': 'GIP_R2DENT_B05', 'title': 'GIP_R2DENT_B05', 'group': None},\n",
       "    {'const': 'GIP_R2DENT_B06', 'title': 'GIP_R2DENT_B06', 'group': None},\n",
       "    {'const': 'GIP_R2DENT_B07', 'title': 'GIP_R2DENT_B07', 'group': None},\n",
       "    {'const': 'GIP_R2DENT_B08', 'title': 'GIP_R2DENT_B08', 'group': None},\n",
       "    {'const': 'GIP_R2DENT_B09', 'title': 'GIP_R2DENT_B09', 'group': None},\n",
       "    {'const': 'GIP_R2DENT_B10', 'title': 'GIP_R2DENT_B10', 'group': None},\n",
       "    {'const': 'GIP_R2DENT_B11', 'title': 'GIP_R2DENT_B11', 'group': None},\n",
       "    {'const': 'GIP_R2DENT_B12', 'title': 'GIP_R2DENT_B12', 'group': None},\n",
       "    {'const': 'GIP_R2DENT_B8A', 'title': 'GIP_R2DENT_B8A', 'group': None},\n",
       "    {'const': 'GIP_R2DECT_B01', 'title': 'GIP_R2DECT_B01', 'group': None},\n",
       "    {'const': 'GIP_R2DECT_B02', 'title': 'GIP_R2DECT_B02', 'group': None},\n",
       "    {'const': 'GIP_R2DECT_B03', 'title': 'GIP_R2DECT_B03', 'group': None},\n",
       "    {'const': 'GIP_R2DECT_B04', 'title': 'GIP_R2DECT_B04', 'group': None},\n",
       "    {'const': 'GIP_R2DECT_B05', 'title': 'GIP_R2DECT_B05', 'group': None},\n",
       "    {'const': 'GIP_R2DECT_B06', 'title': 'GIP_R2DECT_B06', 'group': None},\n",
       "    {'const': 'GIP_R2DECT_B07', 'title': 'GIP_R2DECT_B07', 'group': None},\n",
       "    {'const': 'GIP_R2DECT_B08', 'title': 'GIP_R2DECT_B08', 'group': None},\n",
       "    {'const': 'GIP_R2DECT_B09', 'title': 'GIP_R2DECT_B09', 'group': None},\n",
       "    {'const': 'GIP_R2DECT_B10', 'title': 'GIP_R2DECT_B10', 'group': None},\n",
       "    {'const': 'GIP_R2DECT_B11', 'title': 'GIP_R2DECT_B11', 'group': None},\n",
       "    {'const': 'GIP_R2DECT_B12', 'title': 'GIP_R2DECT_B12', 'group': None},\n",
       "    {'const': 'GIP_R2DECT_B8A', 'title': 'GIP_R2DECT_B8A', 'group': None},\n",
       "    {'const': 'GIP_R2EOB2_B01', 'title': 'GIP_R2EOB2_B01', 'group': None},\n",
       "    {'const': 'GIP_R2EOB2_B02', 'title': 'GIP_R2EOB2_B02', 'group': None},\n",
       "    {'const': 'GIP_R2EOB2_B03', 'title': 'GIP_R2EOB2_B03', 'group': None},\n",
       "    {'const': 'GIP_R2EOB2_B04', 'title': 'GIP_R2EOB2_B04', 'group': None},\n",
       "    {'const': 'GIP_R2EOB2_B05', 'title': 'GIP_R2EOB2_B05', 'group': None},\n",
       "    {'const': 'GIP_R2EOB2_B06', 'title': 'GIP_R2EOB2_B06', 'group': None},\n",
       "    {'const': 'GIP_R2EOB2_B07', 'title': 'GIP_R2EOB2_B07', 'group': None},\n",
       "    {'const': 'GIP_R2EOB2_B08', 'title': 'GIP_R2EOB2_B08', 'group': None},\n",
       "    {'const': 'GIP_R2EOB2_B09', 'title': 'GIP_R2EOB2_B09', 'group': None},\n",
       "    {'const': 'GIP_R2EOB2_B10', 'title': 'GIP_R2EOB2_B10', 'group': None},\n",
       "    {'const': 'GIP_R2EOB2_B11', 'title': 'GIP_R2EOB2_B11', 'group': None},\n",
       "    {'const': 'GIP_R2EOB2_B12', 'title': 'GIP_R2EOB2_B12', 'group': None},\n",
       "    {'const': 'GIP_R2EOB2_B8A', 'title': 'GIP_R2EOB2_B8A', 'group': None}]},\n",
       "  'tileId': {'title': 'Tile Id',\n",
       "   'type': 'string',\n",
       "   'pattern': '^(0[1-9]|[1-5][0-9]|60)[A-Z]{3}$'},\n",
       "  'processingLevel': {'title': 'Processing Level',\n",
       "   'type': 'string',\n",
       "   'oneOf': [{'const': 'S2MSI1C', 'title': 'S2MSI1C', 'group': None},\n",
       "    {'const': 'S2MSI2A', 'title': 'S2MSI2A', 'group': None}]},\n",
       "  'platform': {'title': 'Platform',\n",
       "   'type': 'string',\n",
       "   'oneOf': [{'const': 'S2A', 'title': 'S2A', 'group': None},\n",
       "    {'const': 'S2B', 'title': 'S2B', 'group': None},\n",
       "    {'const': 'S2C', 'title': 'S2C', 'group': None}]},\n",
       "  'instrument': {'title': 'Instrument',\n",
       "   'type': 'string',\n",
       "   'oneOf': [{'const': 'MSI', 'title': 'MSI', 'group': None},\n",
       "    {'const': 'AUX', 'title': 'AUX', 'group': None}]},\n",
       "  'sensorMode': {'title': 'Sensor Mode',\n",
       "   'type': 'string',\n",
       "   'oneOf': [{'const': 'INS-NOBS', 'title': 'INS-NOBS', 'group': None},\n",
       "    {'const': 'INS-RAW', 'title': 'INS-RAW', 'group': None},\n",
       "    {'const': 'INS-VIC', 'title': 'INS-VIC', 'group': None}]},\n",
       "  'status': {'title': 'Status',\n",
       "   'type': 'string',\n",
       "   'oneOf': [{'const': 'ONLINE', 'title': 'ONLINE', 'group': None},\n",
       "    {'const': 'OFFLINE', 'title': 'OFFLINE', 'group': None},\n",
       "    {'const': 'ALL', 'title': 'ALL', 'group': None}]},\n",
       "  'missionTakeId': {'title': 'Mission TakeId',\n",
       "   'type': 'string',\n",
       "   'pattern': '^[a-zA-Z0-9]+$'},\n",
       "  'startIndex': {'title': 'Start Index',\n",
       "   'type': 'string',\n",
       "   'pattern': '^[0-9]*$'},\n",
       "  'itemsPerPage': {'title': 'Items PerPage',\n",
       "   'type': 'string',\n",
       "   'pattern': '^[0-9]*$'},\n",
       "  'startdate': {'title': 'Start Date',\n",
       "   'type': 'string',\n",
       "   'format': 'date-time',\n",
       "   'minimum': '',\n",
       "   'maximum': '',\n",
       "   'default': ''},\n",
       "  'enddate': {'title': 'End Date',\n",
       "   'type': 'string',\n",
       "   'format': 'date-time',\n",
       "   'minimum': '',\n",
       "   'maximum': '',\n",
       "   'default': ''}},\n",
       " 'required': ['dataset_id']}"
      ]
     },
     "execution_count": 5,
     "metadata": {},
     "output_type": "execute_result"
    }
   ],
   "source": [
    "c.metadata(\"EO:ESA:DAT:SENTINEL-2\")"
   ]
  },
  {
   "cell_type": "code",
   "execution_count": 6,
   "id": "9608cf51-5b44-4b20-b977-8fa6eada18f6",
   "metadata": {},
   "outputs": [],
   "source": [
    "q = {\n",
    "    \"dataset_id\": \"EO:ESA:DAT:SENTINEL-2\",\n",
    "    \"startdate\": \"2020-06-23T00:00:00.000Z\",\n",
    "    \"enddate\": \"2020-06-24T00:00:00.000Z\",\n",
    "    \"processingLevel\": \"S2MSI1C\",\n",
    "    \"tileId\": \"30UUA\"\n",
    "}"
   ]
  },
  {
   "cell_type": "code",
   "execution_count": 7,
   "id": "9a740e54-44d2-42e8-8cf4-b91af036a887",
   "metadata": {},
   "outputs": [],
   "source": [
    "r = c.search(q)"
   ]
  },
  {
   "cell_type": "code",
   "execution_count": 8,
   "id": "cc40b1cf-c661-47f8-b993-79c67c7087ce",
   "metadata": {},
   "outputs": [],
   "source": [
    "url = r.get_download_urls()[0]\n",
    "inputs = Input(key=\"img1\", url=url)"
   ]
  },
  {
   "cell_type": "code",
   "execution_count": 9,
   "id": "5c494b96-378e-43de-8c58-bdfa6e8dba5a",
   "metadata": {},
   "outputs": [],
   "source": [
    "import json"
   ]
  },
  {
   "cell_type": "code",
   "execution_count": 10,
   "id": "647a8079-0b4a-439d-8a50-bec6cce78682",
   "metadata": {},
   "outputs": [],
   "source": [
    "with open('AOIs.txt', 'r') as fp:\n",
    "    poly_dict = json.load(fp)"
   ]
  },
  {
   "cell_type": "code",
   "execution_count": 11,
   "id": "6fa418e5-5be9-4154-93b1-b0200db0c6d3",
   "metadata": {
    "scrolled": true
   },
   "outputs": [
    {
     "data": {
      "text/plain": [
       "{'2': {'geoRegion': 'POLYGON ((-5.22444257 49.9901843, -4.88225479 49.9901843, -4.88225479 50.29003327, -5.22444257 50.29003327, -5.22444257 49.9901843))',\n",
       "  'tile_Id': '30UUA'},\n",
       " '3': {'geoRegion': 'POLYGON ((-4.81917128 50.19269224, -4.59558622 50.19269224, -4.59558622 50.40467681, -4.81917128 50.40467681, -4.81917128 50.19269224))',\n",
       "  'tile_Id': '30UUA'},\n",
       " '4': {'geoRegion': 'POLYGON ((-4.32949749 50.26538565, -4.02885352 50.26538565, -4.02885352 50.5075424, -4.32949749 50.5075424, -4.32949749 50.26538565))',\n",
       "  'tile_Id': '30UVA'},\n",
       " '6': {'geoRegion': 'POLYGON ((-4.02836874 50.14143345, -3.59050258 50.14143345, -3.59050258 50.34954708, -4.02836874 50.34954708, -4.02836874 50.14143345))',\n",
       "  'tile_Id': '30UVA'},\n",
       " '9': {'geoRegion': 'POLYGON ((-3.70217003 50.32171356, -3.4070158 50.32171356, -3.4070158 50.54736093, -3.70217003 50.54736093, -3.70217003 50.32171356))',\n",
       "  'tile_Id': '30UVA'},\n",
       " '11': {'geoRegion': 'POLYGON ((-4.42178593 50.96017888, -3.80799343 50.96017888, -3.80799343 51.4427289, -4.42178593 51.4427289, -4.42178593 50.96017888))',\n",
       "  'tile_Id': '30UVB'},\n",
       " '12': {'geoRegion': 'POLYGON ((-3.50331426 50.55463065, -3.27987264 50.55463065, -3.27987264 50.71209921, -3.50331426 50.71209921, -3.50331426 50.55463065))',\n",
       "  'tile_Id': '30UVB'},\n",
       " '13': {'geoRegion': 'POLYGON ((-2.09595764 50.55849793, -1.71524861 50.55849793, -1.71524861 50.75094301, -2.09595764 50.75094301, -2.09595764 50.55849793))',\n",
       "  'tile_Id': '30UWB'},\n",
       " '14': {'geoRegion': 'POLYGON ((-1.58556407 50.54458557, -0.64846788 50.54458557, -0.64846788 50.95668855, -1.58556407 50.95668855, -1.58556407 50.54458557))',\n",
       "  'tile_Id': '30UXB'},\n",
       " '15': {'geoRegion': 'POLYGON ((-2.99680783 51.4583999, -2.60709778 51.4583999, -2.60709778 51.69910317, -2.99680783 51.69910317, -2.99680783 51.4583999))',\n",
       "  'tile_Id': '30UWC'},\n",
       " '16': {'geoRegion': 'POLYGON ((-2.60528065 50.55348792, -2.12042715 50.55348792, -2.12042715 50.6553193, -2.60528065 50.6553193, -2.60528065 50.55348792))',\n",
       "  'tile_Id': '30UWB'},\n",
       " '17': {'geoRegion': 'POLYGON ((-6.48086707 49.81301712, -6.21948222 49.81301712, -6.21948222 50.02839047, -6.48086707 50.02839047, -6.48086707 49.81301712))',\n",
       "  'tile_Id': '29UPR'},\n",
       " '18': {'geoRegion': 'POLYGON ((-5.80439836 51.49305133, -4.45149348 51.49305133, -4.45149348 52.32141647, -5.80439836 52.32141647, -5.80439836 51.49305133))',\n",
       "  'tile_Id': '30UUC'},\n",
       " '19': {'geoRegion': 'POLYGON ((-4.44365223 51.49681989, -3.86086484 51.49681989, -3.86086484 51.82236179, -4.44365223 51.82236179, -4.44365223 51.49681989))',\n",
       "  'tile_Id': '30UVC'},\n",
       " '20': {'geoRegion': 'POLYGON ((-5.7897289 49.9734232, -5.3357743 49.9734232, -5.3357743 50.27582106, -5.7897289 50.27582106, -5.7897289 49.9734232))',\n",
       "  'tile_Id': '30UUA'},\n",
       " '21': {'geoRegion': 'POLYGON ((1.10125436 50.94732407, 1.55028195 50.94732407, 1.55028195 51.43096547, 1.10125436 51.43096547, 1.10125436 50.94732407))',\n",
       "  'tile_Id': '31UCS'},\n",
       " '22': {'geoRegion': 'POLYGON ((0.43671218 51.28184468, 1.02698637 51.28184468, 1.02698637 51.43623009, 0.43671218 51.43623009, 0.43671218 51.28184468))',\n",
       "  'tile_Id': '31UCS'},\n",
       " '23': {'geoRegion': 'POLYGON ((0.52676637 51.46052368, 0.99557138 51.46052368, 0.99557138 51.79250276, 0.52676637 51.79250276, 0.52676637 51.46052368))',\n",
       "  'tile_Id': '31UCT'},\n",
       " '24': {'geoRegion': 'POLYGON ((0.84043954 51.69085094, 1.54449944 51.69085094, 1.54449944 52.18611236, 0.84043954 52.18611236, 0.84043954 51.69085094))',\n",
       "  'tile_Id': '31UCT'},\n",
       " '25': {'geoRegion': 'POLYGON ((0.02418999 52.76712205, 0.61684464 52.76712205, 0.61684464 53.22302955, 0.02418999 53.22302955, 0.02418999 52.76712205))',\n",
       "  'tile_Id': '31UCU'},\n",
       " '26': {'geoRegion': 'POLYGON ((-0.89918315 53.47242848, -0.00824939 53.47242848, -0.00824939 53.83742637, -0.89918315 53.83742637, -0.89918315 53.47242848))',\n",
       "  'tile_Id': '30UXE'},\n",
       " '27': {'geoRegion': 'POLYGON ((-4.47852073 52.34372453, -3.87976363 52.34372453, -3.87976363 53.04664288, -4.47852073 53.04664288, -4.47852073 52.34372453))',\n",
       "  'tile_Id': '30UVD'},\n",
       " '28': {'geoRegion': 'POLYGON ((-4.85333229 52.67694745, -4.48515088 52.67694745, -4.48515088 53.09334198, -4.85333229 53.09334198, -4.85333229 52.67694745))',\n",
       "  'tile_Id': '30UUD'}}"
      ]
     },
     "execution_count": 11,
     "metadata": {},
     "output_type": "execute_result"
    }
   ],
   "source": [
    "poly_dict"
   ]
  },
  {
   "cell_type": "code",
   "execution_count": 12,
   "id": "08c77e99-efef-4db2-a26d-4d43257f33cd",
   "metadata": {},
   "outputs": [],
   "source": [
    "polys_tile0 = {k: v for k, v in poly_dict.items() if v['tile_Id'] == '30UUA'}"
   ]
  },
  {
   "cell_type": "code",
   "execution_count": 13,
   "id": "a43d5079-eea2-4414-a19d-2115878baa04",
   "metadata": {},
   "outputs": [],
   "source": [
    "poly0 = polys_tile0['2']"
   ]
  },
  {
   "cell_type": "code",
   "execution_count": 14,
   "id": "40fac8de-aa51-4827-a01d-1b1e3b1d8a5c",
   "metadata": {},
   "outputs": [
    {
     "data": {
      "text/plain": [
       "'POLYGON ((-5.22444257 49.9901843, -4.88225479 49.9901843, -4.88225479 50.29003327, -5.22444257 50.29003327, -5.22444257 49.9901843))'"
      ]
     },
     "execution_count": 14,
     "metadata": {},
     "output_type": "execute_result"
    }
   ],
   "source": [
    "poly0['geoRegion']"
   ]
  },
  {
   "cell_type": "markdown",
   "id": "aaa6b429-4f70-4f4f-8c6d-8f8e70bc5b74",
   "metadata": {},
   "source": [
    "## Process workflow"
   ]
  },
  {
   "cell_type": "code",
   "execution_count": 15,
   "id": "0f660d96-01c1-41d1-bfac-b4a0b13262a6",
   "metadata": {
    "scrolled": true
   },
   "outputs": [],
   "source": [
    "#help(SnapProcess)"
   ]
  },
  {
   "cell_type": "code",
   "execution_count": 16,
   "id": "0ae4781c-9809-4d10-8a91-870ff1af78e8",
   "metadata": {},
   "outputs": [],
   "source": [
    "with open(\"s2_c2rcc.xml\", \"r\") as fp:\n",
    "    graph_file = fp.read()"
   ]
  },
  {
   "cell_type": "code",
   "execution_count": 17,
   "id": "4efd415d-575d-4084-be6c-f383463bf24c",
   "metadata": {},
   "outputs": [
    {
     "data": {
      "text/plain": [
       "'<graph id=\"Graph\">\\n  <version>1.0</version>\\n  <node id=\"Read\">\\n    <operator>Read</operator>\\n    <sources/>\\n    <parameters class=\"com.bc.ceres.binding.dom.XppDomElement\">\\n      <useAdvancedOptions>false</useAdvancedOptions>\\n      <file>$img1</file>\\n      <copyMetadata>true</copyMetadata>\\n      <bandNames/>\\n      <pixelRegion>0,0,10980,10980</pixelRegion>\\n      <maskNames/>\\n    </parameters>\\n  </node>\\n  <node id=\"Subset\">\\n    <operator>Subset</operator>\\n    <sources>\\n      <sourceProduct refid=\"Read\"/>\\n    </sources>\\n    <parameters class=\"com.bc.ceres.binding.dom.XppDomElement\">\\n      <sourceBands>B1,B2,B3,B4,B5,B6,B7,B8,B8A,B9,B10,B11,B12</sourceBands>\\n      <tiePointGrids/>\\n      <region>0,0,0,0</region>\\n      <referenceBand/>\\n      <geoRegion>$polygon</geoRegion>\\n      <subSamplingX>1</subSamplingX>\\n      <subSamplingY>1</subSamplingY>\\n      <fullSwath>false</fullSwath>\\n      <copyMetadata>true</copyMetadata>\\n    </parameters>\\n  </node>\\n  <node id=\"Resample\">\\n    <operator>Resample</operator>\\n    <sources>\\n      <sourceProduct refid=\"Subset\"/>\\n    </sources>\\n    <parameters class=\"com.bc.ceres.binding.dom.XppDomElement\">\\n      <referenceBand>B2</referenceBand>\\n      <targetWidth/>\\n      <targetHeight/>\\n      <targetResolution/>\\n      <upsampling>Nearest</upsampling>\\n      <downsampling>Mean</downsampling>\\n      <flagDownsampling>First</flagDownsampling>\\n      <resamplingPreset/>\\n      <bandResamplings/>\\n      <resampleOnPyramidLevels>true</resampleOnPyramidLevels>\\n    </parameters>\\n  </node>\\n  <node id=\"C2RCC\">\\n    <operator>c2rcc.msi</operator>\\n    <sources>\\n      <sourceProduct refid=\"Subset\"/>\\n    </sources>\\n    <parameters>\\n      <validPixelExpression>B8 &gt; 0 &amp;&amp; B8 &lt; 0.1</validPixelExpression>\\n      <salinity>35.0</salinity>\\n      <temperature>15.0</temperature>\\n      <ozone>330.0</ozone>\\n      <press>1000.0</press>\\n      <elevation>0.0</elevation>\\n      <TSMfac>1.06</TSMfac>\\n      <TSMexp>0.942</TSMexp>\\n      <CHLexp>1.04</CHLexp>\\n      <CHLfac>21.0</CHLfac>\\n      <thresholdRtosaOOS>0.05</thresholdRtosaOOS>\\n      <thresholdAcReflecOos>0.1</thresholdAcReflecOos>\\n      <thresholdCloudTDown865>0.955</thresholdCloudTDown865>\\n      <netSet>C2X-COMPLEX-Nets</netSet>\\n      <outputAsRrs>true</outputAsRrs>\\n      <deriveRwFromPathAndTransmittance>false</deriveRwFromPathAndTransmittance>\\n      <useEcmwfAuxData>false</useEcmwfAuxData>\\n      <outputRtoa>false</outputRtoa>\\n      <outputRtosaGc>false</outputRtosaGc>\\n      <outputRtosaGcAann>false</outputRtosaGcAann>\\n      <outputRpath>false</outputRpath>\\n      <outputTdown>false</outputTdown>\\n      <outputTup>false</outputTup>\\n      <outputAcReflectance>true</outputAcReflectance>\\n      <outputRhown>true</outputRhown>\\n      <outputOos>false</outputOos>\\n      <outputKd>true</outputKd>\\n      <outputUncertainties>true</outputUncertainties>\\n    </parameters>\\n  </node>\\n  <node id=\"Write\">\\n    <operator>Write</operator>\\n    <sources>\\n      <sourceProduct refid=\"C2RCC\"/>\\n    </sources>\\n    <parameters class=\"com.bc.ceres.binding.dom.XppDomElement\">\\n      <file>$output</file>\\n      <formatName>BEAM-DIMAP</formatName>\\n    </parameters>\\n  </node>\\n</graph>'"
      ]
     },
     "execution_count": 17,
     "metadata": {},
     "output_type": "execute_result"
    }
   ],
   "source": [
    "graph_file"
   ]
  },
  {
   "cell_type": "code",
   "execution_count": 18,
   "id": "a7d47be7-4f32-482d-8847-a392e2378737",
   "metadata": {},
   "outputs": [],
   "source": [
    "modified_xml = graph_file.replace(\"$polygon\", poly0['geoRegion'])"
   ]
  },
  {
   "cell_type": "code",
   "execution_count": 19,
   "id": "9f70eabf-64d7-4c10-aa16-b22c7998ff5e",
   "metadata": {},
   "outputs": [
    {
     "data": {
      "text/plain": [
       "'<graph id=\"Graph\">\\n  <version>1.0</version>\\n  <node id=\"Read\">\\n    <operator>Read</operator>\\n    <sources/>\\n    <parameters class=\"com.bc.ceres.binding.dom.XppDomElement\">\\n      <useAdvancedOptions>false</useAdvancedOptions>\\n      <file>$img1</file>\\n      <copyMetadata>true</copyMetadata>\\n      <bandNames/>\\n      <pixelRegion>0,0,10980,10980</pixelRegion>\\n      <maskNames/>\\n    </parameters>\\n  </node>\\n  <node id=\"Subset\">\\n    <operator>Subset</operator>\\n    <sources>\\n      <sourceProduct refid=\"Read\"/>\\n    </sources>\\n    <parameters class=\"com.bc.ceres.binding.dom.XppDomElement\">\\n      <sourceBands>B1,B2,B3,B4,B5,B6,B7,B8,B8A,B9,B10,B11,B12</sourceBands>\\n      <tiePointGrids/>\\n      <region>0,0,0,0</region>\\n      <referenceBand/>\\n      <geoRegion>POLYGON ((-5.22444257 49.9901843, -4.88225479 49.9901843, -4.88225479 50.29003327, -5.22444257 50.29003327, -5.22444257 49.9901843))</geoRegion>\\n      <subSamplingX>1</subSamplingX>\\n      <subSamplingY>1</subSamplingY>\\n      <fullSwath>false</fullSwath>\\n      <copyMetadata>true</copyMetadata>\\n    </parameters>\\n  </node>\\n  <node id=\"Resample\">\\n    <operator>Resample</operator>\\n    <sources>\\n      <sourceProduct refid=\"Subset\"/>\\n    </sources>\\n    <parameters class=\"com.bc.ceres.binding.dom.XppDomElement\">\\n      <referenceBand>B2</referenceBand>\\n      <targetWidth/>\\n      <targetHeight/>\\n      <targetResolution/>\\n      <upsampling>Nearest</upsampling>\\n      <downsampling>Mean</downsampling>\\n      <flagDownsampling>First</flagDownsampling>\\n      <resamplingPreset/>\\n      <bandResamplings/>\\n      <resampleOnPyramidLevels>true</resampleOnPyramidLevels>\\n    </parameters>\\n  </node>\\n  <node id=\"C2RCC\">\\n    <operator>c2rcc.msi</operator>\\n    <sources>\\n      <sourceProduct refid=\"Subset\"/>\\n    </sources>\\n    <parameters>\\n      <validPixelExpression>B8 &gt; 0 &amp;&amp; B8 &lt; 0.1</validPixelExpression>\\n      <salinity>35.0</salinity>\\n      <temperature>15.0</temperature>\\n      <ozone>330.0</ozone>\\n      <press>1000.0</press>\\n      <elevation>0.0</elevation>\\n      <TSMfac>1.06</TSMfac>\\n      <TSMexp>0.942</TSMexp>\\n      <CHLexp>1.04</CHLexp>\\n      <CHLfac>21.0</CHLfac>\\n      <thresholdRtosaOOS>0.05</thresholdRtosaOOS>\\n      <thresholdAcReflecOos>0.1</thresholdAcReflecOos>\\n      <thresholdCloudTDown865>0.955</thresholdCloudTDown865>\\n      <netSet>C2X-COMPLEX-Nets</netSet>\\n      <outputAsRrs>true</outputAsRrs>\\n      <deriveRwFromPathAndTransmittance>false</deriveRwFromPathAndTransmittance>\\n      <useEcmwfAuxData>false</useEcmwfAuxData>\\n      <outputRtoa>false</outputRtoa>\\n      <outputRtosaGc>false</outputRtosaGc>\\n      <outputRtosaGcAann>false</outputRtosaGcAann>\\n      <outputRpath>false</outputRpath>\\n      <outputTdown>false</outputTdown>\\n      <outputTup>false</outputTup>\\n      <outputAcReflectance>true</outputAcReflectance>\\n      <outputRhown>true</outputRhown>\\n      <outputOos>false</outputOos>\\n      <outputKd>true</outputKd>\\n      <outputUncertainties>true</outputUncertainties>\\n    </parameters>\\n  </node>\\n  <node id=\"Write\">\\n    <operator>Write</operator>\\n    <sources>\\n      <sourceProduct refid=\"C2RCC\"/>\\n    </sources>\\n    <parameters class=\"com.bc.ceres.binding.dom.XppDomElement\">\\n      <file>$output</file>\\n      <formatName>BEAM-DIMAP</formatName>\\n    </parameters>\\n  </node>\\n</graph>'"
      ]
     },
     "execution_count": 19,
     "metadata": {},
     "output_type": "execute_result"
    }
   ],
   "source": [
    "modified_xml"
   ]
  },
  {
   "cell_type": "code",
   "execution_count": 20,
   "id": "046859f2-c494-4978-8fe9-35ad1b167123",
   "metadata": {},
   "outputs": [],
   "source": [
    "graph = Graph.from_text(modified_xml)"
   ]
  },
  {
   "cell_type": "code",
   "execution_count": 31,
   "id": "3a21f8eb-6daf-43f6-81fb-cf958b948077",
   "metadata": {},
   "outputs": [
    {
     "name": "stdout",
     "output_type": "stream",
     "text": [
      "Help on class Config in module eocanvas.api:\n",
      "\n",
      "class Config(builtins.object)\n",
      " |  Config(key: 'str', options: 'ConfigOption') -> None\n",
      " |  \n",
      " |  Config(key: 'str', options: 'ConfigOption')\n",
      " |  \n",
      " |  Methods defined here:\n",
      " |  \n",
      " |  __eq__(self, other)\n",
      " |      Return self==value.\n",
      " |  \n",
      " |  __init__(self, key: 'str', options: 'ConfigOption') -> None\n",
      " |      Initialize self.  See help(type(self)) for accurate signature.\n",
      " |  \n",
      " |  __repr__(self)\n",
      " |      Return repr(self).\n",
      " |  \n",
      " |  asdict(self)\n",
      " |  \n",
      " |  ----------------------------------------------------------------------\n",
      " |  Data descriptors defined here:\n",
      " |  \n",
      " |  __dict__\n",
      " |      dictionary for instance variables (if defined)\n",
      " |  \n",
      " |  __weakref__\n",
      " |      list of weak references to the object (if defined)\n",
      " |  \n",
      " |  ----------------------------------------------------------------------\n",
      " |  Data and other attributes defined here:\n",
      " |  \n",
      " |  __annotations__ = {'key': 'str', 'options': 'ConfigOption'}\n",
      " |  \n",
      " |  __dataclass_fields__ = {'key': Field(name='key',type='str',default=<da...\n",
      " |  \n",
      " |  __dataclass_params__ = _DataclassParams(init=True,repr=True,eq=True,or...\n",
      " |  \n",
      " |  __hash__ = None\n",
      " |  \n",
      " |  __match_args__ = ('key', 'options')\n",
      "\n"
     ]
    }
   ],
   "source": [
    "help(Config)"
   ]
  },
  {
   "cell_type": "code",
   "execution_count": 21,
   "id": "e518d0ad-82b0-44e2-be95-479d79639da9",
   "metadata": {},
   "outputs": [],
   "source": [
    "config = Config(key=\"img1\", options=ConfigOption(uncompress=True, sub_path=\"xfdumanifest.xml\"))"
   ]
  },
  {
   "cell_type": "code",
   "execution_count": 22,
   "id": "e513bd34-424a-4711-a709-a255c9fba4c4",
   "metadata": {},
   "outputs": [],
   "source": [
    "process = SnapProcess(snap_graph=graph, eo_config=config, eo_input=inputs)"
   ]
  },
  {
   "cell_type": "code",
   "execution_count": 23,
   "id": "d12563ae-f4de-4953-8d5a-73bce4d43645",
   "metadata": {},
   "outputs": [
    {
     "data": {
      "text/plain": [
       "{'snap_graph': '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',\n",
       " 'eo_input': '[{\"img1\": \"https://gateway.prod.wekeo2.eu/hda-broker/api/v1/dataaccess/download/67924e3de8ea7094facd75c2\"}]',\n",
       " 'eo_config': '[{\"img1\": {\"uncompress\": true, \"subPath\": \"xfdumanifest.xml\"}}]'}"
      ]
     },
     "execution_count": 23,
     "metadata": {},
     "output_type": "execute_result"
    }
   ],
   "source": [
    "process.prepare_inputs()['inputs']"
   ]
  },
  {
   "cell_type": "code",
   "execution_count": 24,
   "id": "444f751f-997d-4e89-a2d2-34fc383632f5",
   "metadata": {},
   "outputs": [
    {
     "name": "stdout",
     "output_type": "stream",
     "text": [
      "Job: 7837c673-f8a5-54ec-a77c-c6cec4f3e101 - Status: accepted at 2025-01-23T14:12:20.576829\n",
      "Job: 7837c673-f8a5-54ec-a77c-c6cec4f3e101 - Status: running at 2025-01-23T14:12:30.656180\n",
      "Job: 7837c673-f8a5-54ec-a77c-c6cec4f3e101 - Status: running at 2025-01-23T14:12:41.760440\n",
      "Job: 7837c673-f8a5-54ec-a77c-c6cec4f3e101 - Status: running at 2025-01-23T14:12:54.021314\n",
      "Job: 7837c673-f8a5-54ec-a77c-c6cec4f3e101 - Status: running at 2025-01-23T14:13:07.383469\n",
      "Job: 7837c673-f8a5-54ec-a77c-c6cec4f3e101 - Status: running at 2025-01-23T14:13:22.109789\n",
      "Job: 7837c673-f8a5-54ec-a77c-c6cec4f3e101 - Status: running at 2025-01-23T14:13:38.315305\n",
      "Job: 7837c673-f8a5-54ec-a77c-c6cec4f3e101 - Status: running at 2025-01-23T14:13:56.112945\n",
      "Job: 7837c673-f8a5-54ec-a77c-c6cec4f3e101 - Status: failed at 2025-01-23T14:14:15.724748\n"
     ]
    },
    {
     "ename": "JobFailed",
     "evalue": "Job 7837c673-f8a5-54ec-a77c-c6cec4f3e101 failed. Try checking the logs for more info.",
     "output_type": "error",
     "traceback": [
      "\u001b[0;31m---------------------------------------------------------------------------\u001b[0m",
      "\u001b[0;31mJobFailed\u001b[0m                                 Traceback (most recent call last)",
      "Cell \u001b[0;32mIn[24], line 1\u001b[0m\n\u001b[0;32m----> 1\u001b[0m process\u001b[38;5;241m.\u001b[39mrun(download_dir\u001b[38;5;241m=\u001b[39m\u001b[38;5;124m\"\u001b[39m\u001b[38;5;124mresult\u001b[39m\u001b[38;5;124m\"\u001b[39m)\n",
      "File \u001b[0;32m/opt/conda/envs/wekeolab/lib/python3.11/site-packages/eocanvas/api.py:475\u001b[0m, in \u001b[0;36mProcess.run\u001b[0;34m(self, job, download_dir, download)\u001b[0m\n\u001b[1;32m    473\u001b[0m \u001b[38;5;28;01mif\u001b[39;00m job \u001b[38;5;129;01mis\u001b[39;00m \u001b[38;5;28;01mNone\u001b[39;00m:\n\u001b[1;32m    474\u001b[0m     job \u001b[38;5;241m=\u001b[39m \u001b[38;5;28mself\u001b[39m\u001b[38;5;241m.\u001b[39msubmit()\n\u001b[0;32m--> 475\u001b[0m \u001b[38;5;28;01mreturn\u001b[39;00m JobRunner(job, download)\u001b[38;5;241m.\u001b[39mrun(download_dir)\n",
      "File \u001b[0;32m/opt/conda/envs/wekeolab/lib/python3.11/site-packages/eocanvas/api.py:490\u001b[0m, in \u001b[0;36mJobRunner.run\u001b[0;34m(self, download_dir)\u001b[0m\n\u001b[1;32m    488\u001b[0m logger\u001b[38;5;241m.\u001b[39minfo(\u001b[38;5;124mf\u001b[39m\u001b[38;5;124m\"\u001b[39m\u001b[38;5;124mJob: \u001b[39m\u001b[38;5;132;01m{\u001b[39;00m\u001b[38;5;28mself\u001b[39m\u001b[38;5;241m.\u001b[39mjob\u001b[38;5;241m.\u001b[39mjob_id\u001b[38;5;132;01m}\u001b[39;00m\u001b[38;5;124m - Status: \u001b[39m\u001b[38;5;132;01m{\u001b[39;00mstatus\u001b[38;5;132;01m}\u001b[39;00m\u001b[38;5;124m at \u001b[39m\u001b[38;5;132;01m{\u001b[39;00mnow\u001b[38;5;132;01m}\u001b[39;00m\u001b[38;5;124m\"\u001b[39m)\n\u001b[1;32m    489\u001b[0m \u001b[38;5;28;01mif\u001b[39;00m status \u001b[38;5;241m==\u001b[39m \u001b[38;5;124m\"\u001b[39m\u001b[38;5;124mfailed\u001b[39m\u001b[38;5;124m\"\u001b[39m:\n\u001b[0;32m--> 490\u001b[0m     \u001b[38;5;28;01mraise\u001b[39;00m JobFailed(\n\u001b[1;32m    491\u001b[0m         \u001b[38;5;124mf\u001b[39m\u001b[38;5;124m\"\u001b[39m\u001b[38;5;124mJob \u001b[39m\u001b[38;5;132;01m{\u001b[39;00m\u001b[38;5;28mself\u001b[39m\u001b[38;5;241m.\u001b[39mjob\u001b[38;5;241m.\u001b[39mjob_id\u001b[38;5;132;01m}\u001b[39;00m\u001b[38;5;124m failed. Try checking the logs for more info.\u001b[39m\u001b[38;5;124m\"\u001b[39m\n\u001b[1;32m    492\u001b[0m     )\n\u001b[1;32m    493\u001b[0m \u001b[38;5;28;01massert\u001b[39;00m status \u001b[38;5;129;01min\u001b[39;00m [\u001b[38;5;124m\"\u001b[39m\u001b[38;5;124maccepted\u001b[39m\u001b[38;5;124m\"\u001b[39m, \u001b[38;5;124m\"\u001b[39m\u001b[38;5;124mrunning\u001b[39m\u001b[38;5;124m\"\u001b[39m]\n\u001b[1;32m    494\u001b[0m time\u001b[38;5;241m.\u001b[39msleep(sleep)\n",
      "\u001b[0;31mJobFailed\u001b[0m: Job 7837c673-f8a5-54ec-a77c-c6cec4f3e101 failed. Try checking the logs for more info."
     ]
    }
   ],
   "source": [
    "process.run(download_dir=\"result\")"
   ]
  },
  {
   "cell_type": "code",
   "execution_count": 25,
   "id": "0fcb1cf2-d0f2-48f2-b10d-ae366ee42be5",
   "metadata": {},
   "outputs": [],
   "source": [
    "api = API()"
   ]
  },
  {
   "cell_type": "code",
   "execution_count": 26,
   "id": "f14876f2-2e83-46fc-a07f-79dae645ae0b",
   "metadata": {},
   "outputs": [],
   "source": [
    "processes = api.get_processes()"
   ]
  },
  {
   "cell_type": "code",
   "execution_count": 27,
   "id": "70005780-77ce-46c3-a670-abda393e4869",
   "metadata": {},
   "outputs": [
    {
     "data": {
      "text/plain": [
       "[Process(api=<eocanvas.api.API object at 0x7f2a701bc690>, process_id='snap-function', version='10.0.0', title='snap-function', description='Function based on the ESA SNAP tool version 10.', inputs={'eo_config': {'title': 'Configuration for eo_input', 'description': 'Configuration for the eo_input in JSON format. They instruct the function on how to deal with the eo_input (e.g., uncompress).', 'minOccurs': 0, 'maxOccurs': 1, 'schema': {'$ref': 'https://string'}}, 'snap_graph': {'title': 'ESA SNAP GPT graph', 'description': 'A base64-encoded gpt graph. It should contain placeholders referring to the eo_input field.', 'minOccurs': 0, 'maxOccurs': 1, 'schema': {'$ref': 'https://string'}}, 'eo_input': {'title': 'eo_inputs Title', 'description': \"Named inputs provided to the ESA SNAP tool in JSON encoding. They should match the placeholders in the SNAP's GPT graph.\", 'minOccurs': 0, 'maxOccurs': 1, 'schema': {'$ref': 'http://named_inputs'}}}, output=None),\n",
       " Process(api=<eocanvas.api.API object at 0x7f2a701bc690>, process_id='shearwater-demo', version='1.0.0', title='Shearwater Demo', description='First version of Shearwater Demo', inputs={'area': {'title': 'Area', 'description': 'Choose the region of your interest', 'minOccurs': 1, 'maxOccurs': 1, 'schema': {'$ref': 'https://string'}}, 'startDay': {'title': 'Start Day', 'description': 'Enter the start date, like 2021-01-01.', 'minOccurs': 1, 'maxOccurs': 1, 'schema': {'$ref': 'https://string'}}, 'endDay': {'title': 'End Day', 'description': 'Enter the end date, like 2023-10-12.', 'minOccurs': 1, 'maxOccurs': 1, 'schema': {'$ref': 'https://string'}}}, output=None),\n",
       " Process(api=<eocanvas.api.API object at 0x7f2a701bc690>, process_id='dataTailor', version='3.4.0', title='EUMETSAT Data Tailor', description='The EUMETSAT Data Tailor provides format conversion and basic product customisation capabilities for a set of EUMETSAT products in native formats.', inputs={'epct_input': {'title': 'eo_inputs Title', 'description': 'Named inputs provided to the EUMETSAT Data Tailor tool in JSON encoding.', 'minOccurs': 0, 'maxOccurs': 1, 'schema': {'$ref': 'http://named_inputs'}}, 'epct_chain': {'title': 'EUMETSAT Data Tailor chain file', 'description': 'Customisation file describing the chain of customisation to apply to the epct_input files.', 'minOccurs': 0, 'maxOccurs': 1, 'schema': {'$ref': 'https://string'}}}, output=None)]"
      ]
     },
     "execution_count": 27,
     "metadata": {},
     "output_type": "execute_result"
    }
   ],
   "source": [
    "processes"
   ]
  },
  {
   "cell_type": "code",
   "execution_count": 28,
   "id": "b23950ad-80e4-452b-ad2b-f0fadb8797b8",
   "metadata": {},
   "outputs": [
    {
     "data": {
      "text/plain": [
       "[Job(api=<eocanvas.api.API object at 0x7f2a701bc690>, job_id='7837c673-f8a5-54ec-a77c-c6cec4f3e101', status='failed', started='2025-01-23 14:12:20', created='2025-01-23 14:12:20', updated='2025-01-23 14:14:07', finished='2025-01-23 14:14:06'),\n",
       " Job(api=<eocanvas.api.API object at 0x7f2a701bc690>, job_id='55a62b44-43c9-5375-84db-e2653da4fc8b', status='failed', started='2025-01-23 14:11:27', created='2025-01-23 14:11:27', updated='2025-01-23 14:13:00', finished='2025-01-23 14:12:59'),\n",
       " Job(api=<eocanvas.api.API object at 0x7f2a701bc690>, job_id='bf3d51d1-f271-542b-921c-8d86ac6bc167', status='failed', started='2025-01-23 14:02:27', created='2025-01-23 14:02:27', updated='2025-01-23 14:04:01', finished='2025-01-23 14:04:00'),\n",
       " Job(api=<eocanvas.api.API object at 0x7f2a701bc690>, job_id='6f8a0bd5-a7ea-56ec-9b3f-b21ce2e81168', status='failed', started='2025-01-22 14:41:09', created='2025-01-22 14:41:09', updated='2025-01-22 14:42:30', finished='2025-01-22 14:42:29'),\n",
       " Job(api=<eocanvas.api.API object at 0x7f2a701bc690>, job_id='9be1af7d-75b3-52f7-a186-b0d2997b2542', status='failed', started='2025-01-15 14:25:52', created='2025-01-15 14:25:52', updated='2025-01-15 14:27:22', finished='2025-01-15 14:27:21')]"
      ]
     },
     "execution_count": 28,
     "metadata": {},
     "output_type": "execute_result"
    }
   ],
   "source": [
    "jobs = api.get_jobs()\n",
    "jobs"
   ]
  },
  {
   "cell_type": "code",
   "execution_count": 29,
   "id": "8ede6f62-1ffc-4c0a-a484-2c56316108eb",
   "metadata": {},
   "outputs": [],
   "source": [
    "job = '7837c673-f8a5-54ec-a77c-c6cec4f3e101'"
   ]
  },
  {
   "cell_type": "code",
   "execution_count": 30,
   "id": "16ae4e95-9925-4cff-9061-ded24733e19e",
   "metadata": {},
   "outputs": [
    {
     "data": {
      "text/plain": [
       "[LogEntry(timestamp=datetime.datetime(2025, 1, 23, 14, 12, 40, 926777, tzinfo=datetime.timezone.utc), message='time=\"2025-01-23T14:12:40.926Z\" level=info msg=\"Starting Workflow Executor\" version=v3.5.7'),\n",
       " LogEntry(timestamp=datetime.datetime(2025, 1, 23, 14, 12, 40, 931104, tzinfo=datetime.timezone.utc), message='time=\"2025-01-23T14:12:40.931Z\" level=info msg=\"Using executor retry strategy\" Duration=1s Factor=1.6 Jitter=0.5 Steps=5'),\n",
       " LogEntry(timestamp=datetime.datetime(2025, 1, 23, 14, 12, 40, 931118, tzinfo=datetime.timezone.utc), message='time=\"2025-01-23T14:12:40.931Z\" level=info msg=\"Executor initialized\" deadline=\"0001-01-01 00:00:00 +0000 UTC\" includeScriptOutput=false namespace=ws-serverless podName=workflow-xpd82-stage-in-1769066417 templateName=stage-in version=\"&Version{Version:v3.5.7,BuildDate:2024-05-27T06:18:59Z,GitCommit:503eef1357ebc9facc3f463708031441072ef7c2,GitTag:v3.5.7,GitTreeState:clean,GoVersion:go1.21.10,Compiler:gc,Platform:linux/amd64,}\"'),\n",
       " LogEntry(timestamp=datetime.datetime(2025, 1, 23, 14, 12, 41, 91773, tzinfo=datetime.timezone.utc), message='time=\"2025-01-23T14:12:41.091Z\" level=info msg=\"Start loading input artifacts...\"'),\n",
       " LogEntry(timestamp=datetime.datetime(2025, 1, 23, 14, 12, 41, 91806, tzinfo=datetime.timezone.utc), message='time=\"2025-01-23T14:12:41.091Z\" level=info msg=\"Alloc=7482 TotalAlloc=13467 Sys=25189 NumGC=4 Goroutines=4\"'),\n",
       " LogEntry(timestamp=datetime.datetime(2025, 1, 23, 14, 12, 44, 833519, tzinfo=datetime.timezone.utc), message='time=\"2025-01-23T14:12:44.833Z\" level=debug msg=\"ignore signal urgent I/O condition\" argo=true'),\n",
       " LogEntry(timestamp=datetime.datetime(2025, 1, 23, 14, 12, 44, 833561, tzinfo=datetime.timezone.utc), message='time=\"2025-01-23T14:12:44.833Z\" level=debug msg=\"ignore signal urgent I/O condition\" argo=true'),\n",
       " LogEntry(timestamp=datetime.datetime(2025, 1, 23, 14, 12, 45, 160322, tzinfo=datetime.timezone.utc), message='SLF4J(W): Class path contains multiple SLF4J providers.'),\n",
       " LogEntry(timestamp=datetime.datetime(2025, 1, 23, 14, 12, 45, 160362, tzinfo=datetime.timezone.utc), message='SLF4J(W): Found provider [ch.qos.logback.classic.spi.LogbackServiceProvider@3567135c]'),\n",
       " LogEntry(timestamp=datetime.datetime(2025, 1, 23, 14, 12, 45, 160413, tzinfo=datetime.timezone.utc), message='SLF4J(W): Found provider [org.slf4j.reload4j.Reload4jServiceProvider@327471b5]'),\n",
       " LogEntry(timestamp=datetime.datetime(2025, 1, 23, 14, 12, 45, 160418, tzinfo=datetime.timezone.utc), message='SLF4J(W): See https://www.slf4j.org/codes.html#multiple_bindings for an explanation.'),\n",
       " LogEntry(timestamp=datetime.datetime(2025, 1, 23, 14, 12, 45, 254878, tzinfo=datetime.timezone.utc), message='SLF4J(I): Actual provider is of type [ch.qos.logback.classic.spi.LogbackServiceProvider@3567135c]'),\n",
       " LogEntry(timestamp=datetime.datetime(2025, 1, 23, 14, 12, 45, 308150, tzinfo=datetime.timezone.utc), message='Standard Commons Logging discovery in action with spring-jcl: please remove commons-logging.jar from classpath in order to avoid potential conflicts'),\n",
       " LogEntry(timestamp=datetime.datetime(2025, 1, 23, 14, 12, 45, 862660, tzinfo=datetime.timezone.utc), message=''),\n",
       " LogEntry(timestamp=datetime.datetime(2025, 1, 23, 14, 12, 45, 862691, tzinfo=datetime.timezone.utc), message='  .   ____          _            __ _ _'),\n",
       " LogEntry(timestamp=datetime.datetime(2025, 1, 23, 14, 12, 45, 862695, tzinfo=datetime.timezone.utc), message=\" /\\\\\\\\ / ___'_ __ _ _(_)_ __  __ _ \\\\ \\\\ \\\\ \\\\\"),\n",
       " LogEntry(timestamp=datetime.datetime(2025, 1, 23, 14, 12, 45, 862699, tzinfo=datetime.timezone.utc), message=\"( ( )\\\\___ | '_ | '_| | '_ \\\\/ _` | \\\\ \\\\ \\\\ \\\\\"),\n",
       " LogEntry(timestamp=datetime.datetime(2025, 1, 23, 14, 12, 45, 862703, tzinfo=datetime.timezone.utc), message=' \\\\\\\\/  ___)| |_)| | | | | || (_| |  ) ) ) )'),\n",
       " LogEntry(timestamp=datetime.datetime(2025, 1, 23, 14, 12, 45, 862706, tzinfo=datetime.timezone.utc), message=\"  '  |____| .__|_| |_|_| |_\\\\__, | / / / /\"),\n",
       " LogEntry(timestamp=datetime.datetime(2025, 1, 23, 14, 12, 45, 862710, tzinfo=datetime.timezone.utc), message=' =========|_|==============|___/=/_/_/_/'),\n",
       " LogEntry(timestamp=datetime.datetime(2025, 1, 23, 14, 12, 45, 862713, tzinfo=datetime.timezone.utc), message=''),\n",
       " LogEntry(timestamp=datetime.datetime(2025, 1, 23, 14, 12, 45, 863413, tzinfo=datetime.timezone.utc), message=' :: Spring Boot ::                (v3.3.1)'),\n",
       " LogEntry(timestamp=datetime.datetime(2025, 1, 23, 14, 12, 45, 863426, tzinfo=datetime.timezone.utc), message=''),\n",
       " LogEntry(timestamp=datetime.datetime(2025, 1, 23, 14, 12, 46, 105064, tzinfo=datetime.timezone.utc), message='2025-01-23T14:12:46.095Z  INFO 24 --- [stagein] [           main] o.e.w.s.stagein.StageInApplication       : Starting StageInApplication v1.3.7 using Java 17.0.13 with PID 24 (/app.jar started by root in /)'),\n",
       " LogEntry(timestamp=datetime.datetime(2025, 1, 23, 14, 12, 46, 106587, tzinfo=datetime.timezone.utc), message='2025-01-23T14:12:46.106Z  INFO 24 --- [stagein] [           main] o.e.w.s.stagein.StageInApplication       : No active profile set, falling back to 1 default profile: \"default\"'),\n",
       " LogEntry(timestamp=datetime.datetime(2025, 1, 23, 14, 12, 47, 581516, tzinfo=datetime.timezone.utc), message='2025-01-23T14:12:47.581Z  INFO 24 --- [stagein] [           main] o.s.b.w.embedded.tomcat.TomcatWebServer  : Tomcat initialized with port 8080 (http)'),\n",
       " LogEntry(timestamp=datetime.datetime(2025, 1, 23, 14, 12, 47, 596184, tzinfo=datetime.timezone.utc), message='2025-01-23T14:12:47.595Z  INFO 24 --- [stagein] [           main] o.apache.catalina.core.StandardService   : Starting service [Tomcat]'),\n",
       " LogEntry(timestamp=datetime.datetime(2025, 1, 23, 14, 12, 47, 596600, tzinfo=datetime.timezone.utc), message='2025-01-23T14:12:47.596Z  INFO 24 --- [stagein] [           main] o.apache.catalina.core.StandardEngine    : Starting Servlet engine: [Apache Tomcat/10.1.25]'),\n",
       " LogEntry(timestamp=datetime.datetime(2025, 1, 23, 14, 12, 47, 650989, tzinfo=datetime.timezone.utc), message='2025-01-23T14:12:47.650Z  INFO 24 --- [stagein] [           main] o.a.c.c.C.[Tomcat].[localhost].[/]       : Initializing Spring embedded WebApplicationContext'),\n",
       " LogEntry(timestamp=datetime.datetime(2025, 1, 23, 14, 12, 47, 652277, tzinfo=datetime.timezone.utc), message='2025-01-23T14:12:47.652Z  INFO 24 --- [stagein] [           main] w.s.c.ServletWebServerApplicationContext : Root WebApplicationContext: initialization completed in 1355 ms'),\n",
       " LogEntry(timestamp=datetime.datetime(2025, 1, 23, 14, 12, 47, 654943, tzinfo=datetime.timezone.utc), message='Standard Commons Logging discovery in action with spring-jcl: please remove commons-logging.jar from classpath in order to avoid potential conflicts'),\n",
       " LogEntry(timestamp=datetime.datetime(2025, 1, 23, 14, 12, 48, 620110, tzinfo=datetime.timezone.utc), message='2025-01-23T14:12:48.619Z  WARN 24 --- [stagein] [           main] .s.s.UserDetailsServiceAutoConfiguration : '),\n",
       " LogEntry(timestamp=datetime.datetime(2025, 1, 23, 14, 12, 48, 620122, tzinfo=datetime.timezone.utc), message=''),\n",
       " LogEntry(timestamp=datetime.datetime(2025, 1, 23, 14, 12, 48, 620126, tzinfo=datetime.timezone.utc), message='Using generated security password: adb84292-ef85-4f5c-a2db-91ce15c7dfb7'),\n",
       " LogEntry(timestamp=datetime.datetime(2025, 1, 23, 14, 12, 48, 620129, tzinfo=datetime.timezone.utc), message=''),\n",
       " LogEntry(timestamp=datetime.datetime(2025, 1, 23, 14, 12, 48, 620133, tzinfo=datetime.timezone.utc), message='This generated password is for development use only. Your security configuration must be updated before running your application in production.'),\n",
       " LogEntry(timestamp=datetime.datetime(2025, 1, 23, 14, 12, 48, 620137, tzinfo=datetime.timezone.utc), message=''),\n",
       " LogEntry(timestamp=datetime.datetime(2025, 1, 23, 14, 12, 48, 641166, tzinfo=datetime.timezone.utc), message='2025-01-23T14:12:48.640Z  INFO 24 --- [stagein] [           main] r$InitializeUserDetailsManagerConfigurer : Global AuthenticationManager configured with UserDetailsService bean with name inMemoryUserDetailsManager'),\n",
       " LogEntry(timestamp=datetime.datetime(2025, 1, 23, 14, 12, 48, 814661, tzinfo=datetime.timezone.utc), message=\"2025-01-23T14:12:48.814Z  INFO 24 --- [stagein] [           main] o.s.b.w.embedded.tomcat.TomcatWebServer  : Tomcat started on port 8080 (http) with context path '/'\"),\n",
       " LogEntry(timestamp=datetime.datetime(2025, 1, 23, 14, 12, 48, 836239, tzinfo=datetime.timezone.utc), message='2025-01-23T14:12:48.835Z  INFO 24 --- [stagein] [           main] o.e.w.s.stagein.StageInApplication       : Started StageInApplication in 3.371 seconds (process running for 4.0)'),\n",
       " LogEntry(timestamp=datetime.datetime(2025, 1, 23, 14, 12, 48, 858957, tzinfo=datetime.timezone.utc), message='2025-01-23T14:12:48.858Z  INFO 24 --- [stagein] [           main] o.e.w.s.logger.MetricsLogger             : [METRICS][7837c673-f8a5-54ec-a77c-c6cec4f3e101][START] {\"phase\":\"STAGE-IN\",\"user\":\"co429\",\"timestamp\":\"2025-01-23T14:12:48.840276635\"}'),\n",
       " LogEntry(timestamp=datetime.datetime(2025, 1, 23, 14, 12, 48, 947713, tzinfo=datetime.timezone.utc), message='2025-01-23T14:12:48.946Z  INFO 24 --- [stagein] [           main] o.e.w.s.s.downloader.EnvironmentService  : Created job configuration file for job 7837c673-f8a5-54ec-a77c-c6cec4f3e101 in location: /home/worker/workDir/function.properties'),\n",
       " LogEntry(timestamp=datetime.datetime(2025, 1, 23, 14, 12, 48, 948654, tzinfo=datetime.timezone.utc), message='2025-01-23T14:12:48.948Z  INFO 24 --- [stagein] [           main] o.e.w.s.s.d.DownloaderServiceImpl        : InputDir /home/worker/workDir/inDir and inputs to Download {eo_input=[{\"img1\": \"https://gateway.prod.wekeo2.eu/hda-broker/api/v1/dataaccess/download/67924e3de8ea7094facd75c2\"}]} '),\n",
       " LogEntry(timestamp=datetime.datetime(2025, 1, 23, 14, 12, 48, 962537, tzinfo=datetime.timezone.utc), message='2025-01-23T14:12:48.962Z  INFO 24 --- [stagein] [           main] o.e.w.s.s.d.wekeo.WekEODownloader        : Requesting download of product at URI https://gateway.prod.wekeo2.eu/hda-broker/api/v1/dataaccess/download/67924e3de8ea7094facd75c2 to /home/worker/workDir/tmp/dl8086670915794648222'),\n",
       " LogEntry(timestamp=datetime.datetime(2025, 1, 23, 14, 12, 48, 962641, tzinfo=datetime.timezone.utc), message='2025-01-23T14:12:48.962Z  INFO 24 --- [stagein] [           main] o.e.w.s.s.d.wekeo.WekEODownloader        : Requested download of product at URI https://gateway.prod.wekeo2.eu/hda-broker/api/v1/dataaccess/download/67924e3de8ea7094facd75c2 download ID is 67924e3de8ea7094facd75c2'),\n",
       " LogEntry(timestamp=datetime.datetime(2025, 1, 23, 14, 12, 49, 916469, tzinfo=datetime.timezone.utc), message='2025-01-23T14:12:49.916Z  INFO 24 --- [stagein] [           main] o.e.w.s.s.d.wekeo.WekEODownloader        : Downloading https://gateway.prod.wekeo2.eu/hda-broker/api/v1/dataaccess/download/67924e3de8ea7094facd75c2 in /home/worker/workDir/tmp/dl8086670915794648222'),\n",
       " LogEntry(timestamp=datetime.datetime(2025, 1, 23, 14, 12, 54, 836140, tzinfo=datetime.timezone.utc), message='time=\"2025-01-23T14:12:54.835Z\" level=debug msg=\"ignore signal urgent I/O condition\" argo=true'),\n",
       " LogEntry(timestamp=datetime.datetime(2025, 1, 23, 14, 12, 54, 836174, tzinfo=datetime.timezone.utc), message='time=\"2025-01-23T14:12:54.836Z\" level=debug msg=\"ignore signal urgent I/O condition\" argo=true'),\n",
       " LogEntry(timestamp=datetime.datetime(2025, 1, 23, 14, 12, 56, 835392, tzinfo=datetime.timezone.utc), message='time=\"2025-01-23T14:12:56.835Z\" level=debug msg=\"ignore signal urgent I/O condition\" argo=true'),\n",
       " LogEntry(timestamp=datetime.datetime(2025, 1, 23, 14, 13, 2, 263307, tzinfo=datetime.timezone.utc), message='2025-01-23T14:13:02.262Z  INFO 24 --- [stagein] [           main] o.e.w.s.s.d.wekeo.WekEODownloader        : Successfully downloaded product from URL https://gateway.prod.wekeo2.eu/hda-broker/api/v1/dataaccess/download/67924e3de8ea7094facd75c2 to /home/worker/workDir/tmp/dl8086670915794648222/S2B_MSIL1C_20200623T112119_N0500_R037_T30UUA_20230427T164710.SAFE.zip (667249914 bytes)'),\n",
       " LogEntry(timestamp=datetime.datetime(2025, 1, 23, 14, 13, 2, 265234, tzinfo=datetime.timezone.utc), message='2025-01-23T14:13:02.264Z  INFO 24 --- [stagein] [           main] o.e.w.s.logger.MetricsLogger             : [METRICS][7837c673-f8a5-54ec-a77c-c6cec4f3e101][FILE] {\"phase\":\"STAGE-IN\",\"file\":\"/home/worker/workDir/inDir/eo_input/img1/S2B_MSIL1C_20200623T112119_N0500_R037_T30UUA_20230427T164710.SAFE.zip\",\"size\":667249914 }'),\n",
       " LogEntry(timestamp=datetime.datetime(2025, 1, 23, 14, 13, 2, 266566, tzinfo=datetime.timezone.utc), message='2025-01-23T14:13:02.266Z  INFO 24 --- [stagein] [           main] o.e.w.s.logger.MetricsLogger             : [METRICS][7837c673-f8a5-54ec-a77c-c6cec4f3e101][END] {\"phase\":\"STAGE-IN\",\"user\":\"co429\",\"timestamp\":\"2025-01-23T14:12:48.840276635\",\"duration\":\"13\"}'),\n",
       " LogEntry(timestamp=datetime.datetime(2025, 1, 23, 14, 13, 2, 266631, tzinfo=datetime.timezone.utc), message='2025-01-23T14:13:02.266Z  INFO 24 --- [stagein] [           main] o.e.w.s.stagein.StageInApplication       : shutdown...'),\n",
       " LogEntry(timestamp=datetime.datetime(2025, 1, 23, 14, 13, 2, 646399, tzinfo=datetime.timezone.utc), message='time=\"2025-01-23T14:13:02.646Z\" level=debug msg=\"ignore signal child exited\" argo=true'),\n",
       " LogEntry(timestamp=datetime.datetime(2025, 1, 23, 14, 13, 2, 838603, tzinfo=datetime.timezone.utc), message='time=\"2025-01-23T14:13:02.838Z\" level=info msg=\"sub-process exited\" argo=true error=\"<nil>\"'),\n",
       " LogEntry(timestamp=datetime.datetime(2025, 1, 23, 14, 13, 33, 627723, tzinfo=datetime.timezone.utc), message='time=\"2025-01-23T14:13:33.627Z\" level=info msg=\"Starting Workflow Executor\" version=v3.5.7'),\n",
       " LogEntry(timestamp=datetime.datetime(2025, 1, 23, 14, 13, 33, 631482, tzinfo=datetime.timezone.utc), message='time=\"2025-01-23T14:13:33.631Z\" level=info msg=\"Using executor retry strategy\" Duration=1s Factor=1.6 Jitter=0.5 Steps=5'),\n",
       " LogEntry(timestamp=datetime.datetime(2025, 1, 23, 14, 13, 33, 631512, tzinfo=datetime.timezone.utc), message='time=\"2025-01-23T14:13:33.631Z\" level=info msg=\"Executor initialized\" deadline=\"0001-01-01 00:00:00 +0000 UTC\" includeScriptOutput=false namespace=ws-serverless podName=workflow-xpd82-function-1104217572 templateName=function version=\"&Version{Version:v3.5.7,BuildDate:2024-05-27T06:18:59Z,GitCommit:503eef1357ebc9facc3f463708031441072ef7c2,GitTag:v3.5.7,GitTreeState:clean,GoVersion:go1.21.10,Compiler:gc,Platform:linux/amd64,}\"'),\n",
       " LogEntry(timestamp=datetime.datetime(2025, 1, 23, 14, 13, 33, 786512, tzinfo=datetime.timezone.utc), message='time=\"2025-01-23T14:13:33.786Z\" level=info msg=\"Start loading input artifacts...\"'),\n",
       " LogEntry(timestamp=datetime.datetime(2025, 1, 23, 14, 13, 33, 786614, tzinfo=datetime.timezone.utc), message='time=\"2025-01-23T14:13:33.786Z\" level=info msg=\"Alloc=9655 TotalAlloc=13332 Sys=25445 NumGC=3 Goroutines=4\"'),\n",
       " LogEntry(timestamp=datetime.datetime(2025, 1, 23, 14, 13, 35, 60884, tzinfo=datetime.timezone.utc), message='[METRICS][7837c673-f8a5-54ec-a77c-c6cec4f3e101][START] {\"phase\":\"prepare_environments\", \"user\":\"co429\", \"timestamp\":\"2025/01/23 14:13:35\"}'),\n",
       " LogEntry(timestamp=datetime.datetime(2025, 1, 23, 14, 13, 35, 92502, tzinfo=datetime.timezone.utc), message='[2025-01-23T14:13:35+0000] [INFO] - Preparing input: img1'),\n",
       " LogEntry(timestamp=datetime.datetime(2025, 1, 23, 14, 13, 55, 549110, tzinfo=datetime.timezone.utc), message='[2025-01-23T14:13:55+0000] [ERROR] - Zero or more than one item found for /home/worker/workDir/inDir/eo_input/img1/S2B_MSIL1C_20200623T112119_N0500_R037_T30UUA_20230427T164710.SAFE.zip, that is'),\n",
       " LogEntry(timestamp=datetime.datetime(2025, 1, 23, 14, 13, 55, 550314, tzinfo=datetime.timezone.utc), message='time=\"2025-01-23T14:13:55.550Z\" level=debug msg=\"ignore signal child exited\" argo=true'),\n",
       " LogEntry(timestamp=datetime.datetime(2025, 1, 23, 14, 13, 56, 56701, tzinfo=datetime.timezone.utc), message='time=\"2025-01-23T14:13:56.056Z\" level=info msg=\"sub-process exited\" argo=true error=\"<nil>\"'),\n",
       " LogEntry(timestamp=datetime.datetime(2025, 1, 23, 14, 13, 56, 57942, tzinfo=datetime.timezone.utc), message='Error: exit status 10')]"
      ]
     },
     "execution_count": 30,
     "metadata": {},
     "output_type": "execute_result"
    }
   ],
   "source": [
    "api.get_job_logs(job=job)"
   ]
  },
  {
   "cell_type": "code",
   "execution_count": 32,
   "id": "e86728f3-4a76-4bd5-880e-462c1d5211b5",
   "metadata": {},
   "outputs": [
    {
     "name": "stdout",
     "output_type": "stream",
     "text": [
      "Help on API in module eocanvas.api object:\n",
      "\n",
      "class API(builtins.object)\n",
      " |  API(*args, **kwargs)\n",
      " |  \n",
      " |  Models the Serverless Functions API endpoints.\n",
      " |  \n",
      " |  Attributes:\n",
      " |      urls: The :class:`eocanvas.config.URLs` object that maps all the API endpoints\n",
      " |      credentials: A :class:`eocanvas.auth.Credentials` object with username and password\n",
      " |  \n",
      " |  Methods defined here:\n",
      " |  \n",
      " |  __init__(self, urls: 'Optional[URLs]' = None, credentials: 'Optional[Credentials]' = None, log_level: 'int' = 20)\n",
      " |  \n",
      " |  create_key(self, key: 'Key') -> 'Key'\n",
      " |  \n",
      " |  delete_key(self, key_id: 'str') -> 'None'\n",
      " |  \n",
      " |  download_result(self, result: 'Result', download_dir: 'Optional[str]' = None)\n",
      " |  \n",
      " |  exec_process(self, process: 'Process') -> 'Job'\n",
      " |      Submits a process to the API.\n",
      " |      \n",
      " |      Returns:\n",
      " |          A :class:`eocanvas.api.Job` instance.\n",
      " |  \n",
      " |  get_job(self, job_id) -> 'Job'\n",
      " |      Gets the details of a job.\n",
      " |      \n",
      " |      Returns:\n",
      " |          A :class:`eocanvas.api.Job` instance.\n",
      " |  \n",
      " |  get_job_logs(self, job: 'Union[Job, str]') -> 'List[LogEntry]'\n",
      " |      Gets the log entries for a job.\n",
      " |      \n",
      " |      Args:\n",
      " |          job: Either a :class:`eocanvas.api.Job` instance or the `job_id`\n",
      " |      \n",
      " |      Returns:\n",
      " |          A list of :class:`eocanvas.api.LogEntry` instances.\n",
      " |  \n",
      " |  get_job_results(self, job: 'Union[Job, str]') -> 'List[Result]'\n",
      " |      Gets the results for a job.\n",
      " |      \n",
      " |      Args:\n",
      " |          job: Either a :class:`eocanvas.api.Job` instance or the `job_id`\n",
      " |      \n",
      " |      Returns:\n",
      " |          A list of :class:`eocanvas.api.Result` instances.\n",
      " |  \n",
      " |  get_jobs(self) -> 'List[Job]'\n",
      " |      Gets the list of user submitted jobs.\n",
      " |      \n",
      " |      Returns:\n",
      " |          A list of :class:`eocanvas.api.Job` instances.\n",
      " |  \n",
      " |  get_key(self, key_id: 'str') -> 'Key'\n",
      " |  \n",
      " |  get_keys(self) -> 'List[Key]'\n",
      " |  \n",
      " |  get_process(self, process_id: 'str') -> 'Process'\n",
      " |      Gets the details of a process.\n",
      " |      \n",
      " |      Returns:\n",
      " |          A :class:`eocanvas.api.Process` instance.\n",
      " |  \n",
      " |  get_processes(self) -> 'List[Process]'\n",
      " |      Gets the list of available processes.\n",
      " |      There should be only SNAP and Datatailor functions.\n",
      " |      \n",
      " |      Returns:\n",
      " |          A list of :class:`eocanvas.api.Process` instances.\n",
      " |  \n",
      " |  get_public_key(self) -> 'str'\n",
      " |  \n",
      " |  ----------------------------------------------------------------------\n",
      " |  Data descriptors defined here:\n",
      " |  \n",
      " |  __dict__\n",
      " |      dictionary for instance variables (if defined)\n",
      " |  \n",
      " |  __weakref__\n",
      " |      list of weak references to the object (if defined)\n",
      "\n"
     ]
    }
   ],
   "source": [
    "help(api)"
   ]
  },
  {
   "cell_type": "code",
   "execution_count": 35,
   "id": "cdfe11e5-6eee-4dee-9e77-b342b71fa5d2",
   "metadata": {},
   "outputs": [],
   "source": [
    "import eocanvas"
   ]
  },
  {
   "cell_type": "code",
   "execution_count": 37,
   "id": "2471ec40-92f7-4ae7-b9d7-e63e8954977b",
   "metadata": {},
   "outputs": [
    {
     "name": "stdout",
     "output_type": "stream",
     "text": [
      "Help on module eocanvas.processes in eocanvas:\n",
      "\n",
      "NAME\n",
      "    eocanvas.processes\n",
      "\n",
      "CLASSES\n",
      "    builtins.object\n",
      "        ShearWaterParams\n",
      "            ShearWaterProcess(eocanvas.api.Process, ShearWaterParams)\n",
      "    eocanvas.api.Process(builtins.object)\n",
      "        DataTailorProcess(eocanvas.api.Process, _DataTailorParams)\n",
      "        ShearWaterProcess(eocanvas.api.Process, ShearWaterParams)\n",
      "        SnapProcess(eocanvas.api.Process, _SnapParams)\n",
      "    _DataTailorParams(builtins.object)\n",
      "        DataTailorProcess(eocanvas.api.Process, _DataTailorParams)\n",
      "    _SnapParams(builtins.object)\n",
      "        SnapProcess(eocanvas.api.Process, _SnapParams)\n",
      "    \n",
      "    class DataTailorProcess(eocanvas.api.Process, _DataTailorParams)\n",
      "     |  DataTailorProcess(epct_chain: eocanvas.datatailor.chain.Chain, epct_input: List[eocanvas.api.Input] = <factory>, epct_config: List[eocanvas.api.Config] = <factory>, api: 'Optional[API]' = None, process_id: 'Optional[str]' = None, version: 'Optional[str]' = None, title: 'Optional[str]' = None, description: 'Optional[str]' = None, inputs: 'Optional[Any]' = None, output: 'Optional[Union[str, Key]]' = None) -> None\n",
      "     |  \n",
      "     |  DataTailorProcess(epct_chain: eocanvas.datatailor.chain.Chain, epct_input: List[eocanvas.api.Input] = <factory>, epct_config: List[eocanvas.api.Config] = <factory>, api: 'Optional[API]' = None, process_id: 'Optional[str]' = None, version: 'Optional[str]' = None, title: 'Optional[str]' = None, description: 'Optional[str]' = None, inputs: 'Optional[Any]' = None, output: 'Optional[Union[str, Key]]' = None)\n",
      "     |  \n",
      "     |  Method resolution order:\n",
      "     |      DataTailorProcess\n",
      "     |      eocanvas.api.Process\n",
      "     |      _DataTailorParams\n",
      "     |      builtins.object\n",
      "     |  \n",
      "     |  Methods defined here:\n",
      "     |  \n",
      "     |  __eq__(self, other)\n",
      "     |      Return self==value.\n",
      "     |  \n",
      "     |  __init__(self, epct_chain: eocanvas.datatailor.chain.Chain, epct_input: List[eocanvas.api.Input] = <factory>, epct_config: List[eocanvas.api.Config] = <factory>, api: 'Optional[API]' = None, process_id: 'Optional[str]' = None, version: 'Optional[str]' = None, title: 'Optional[str]' = None, description: 'Optional[str]' = None, inputs: 'Optional[Any]' = None, output: 'Optional[Union[str, Key]]' = None) -> None\n",
      "     |      Initialize self.  See help(type(self)) for accurate signature.\n",
      "     |  \n",
      "     |  __post_init__(self)\n",
      "     |  \n",
      "     |  __repr__(self)\n",
      "     |      Return repr(self).\n",
      "     |  \n",
      "     |  prepare_inputs(self) -> Dict\n",
      "     |  \n",
      "     |  ----------------------------------------------------------------------\n",
      "     |  Data and other attributes defined here:\n",
      "     |  \n",
      "     |  __annotations__ = {}\n",
      "     |  \n",
      "     |  __dataclass_fields__ = {'api': Field(name='api',type='Optional[API]',d...\n",
      "     |  \n",
      "     |  __dataclass_params__ = _DataclassParams(init=True,repr=True,eq=True,or...\n",
      "     |  \n",
      "     |  __hash__ = None\n",
      "     |  \n",
      "     |  __match_args__ = ('epct_chain', 'epct_input', 'epct_config', 'api', 'p...\n",
      "     |  \n",
      "     |  ----------------------------------------------------------------------\n",
      "     |  Methods inherited from eocanvas.api.Process:\n",
      "     |  \n",
      "     |  run(self, job: 'Optional[Job]' = None, download_dir: 'Optional[str]' = None, download: 'bool' = True)\n",
      "     |  \n",
      "     |  submit(self) -> 'Job'\n",
      "     |  \n",
      "     |  ----------------------------------------------------------------------\n",
      "     |  Data descriptors inherited from eocanvas.api.Process:\n",
      "     |  \n",
      "     |  __dict__\n",
      "     |      dictionary for instance variables (if defined)\n",
      "     |  \n",
      "     |  __weakref__\n",
      "     |      list of weak references to the object (if defined)\n",
      "     |  \n",
      "     |  ----------------------------------------------------------------------\n",
      "     |  Data and other attributes inherited from eocanvas.api.Process:\n",
      "     |  \n",
      "     |  api = None\n",
      "     |  \n",
      "     |  description = None\n",
      "     |  \n",
      "     |  inputs = None\n",
      "     |  \n",
      "     |  output = None\n",
      "     |  \n",
      "     |  process_id = None\n",
      "     |  \n",
      "     |  title = None\n",
      "     |  \n",
      "     |  version = None\n",
      "    \n",
      "    class ShearWaterParams(builtins.object)\n",
      "     |  ShearWaterParams(area: str, start_day: str, end_day: str) -> None\n",
      "     |  \n",
      "     |  ShearWaterParams(area: str, start_day: str, end_day: str)\n",
      "     |  \n",
      "     |  Methods defined here:\n",
      "     |  \n",
      "     |  __eq__(self, other)\n",
      "     |      Return self==value.\n",
      "     |  \n",
      "     |  __init__(self, area: str, start_day: str, end_day: str) -> None\n",
      "     |      Initialize self.  See help(type(self)) for accurate signature.\n",
      "     |  \n",
      "     |  __repr__(self)\n",
      "     |      Return repr(self).\n",
      "     |  \n",
      "     |  ----------------------------------------------------------------------\n",
      "     |  Data descriptors defined here:\n",
      "     |  \n",
      "     |  __dict__\n",
      "     |      dictionary for instance variables (if defined)\n",
      "     |  \n",
      "     |  __weakref__\n",
      "     |      list of weak references to the object (if defined)\n",
      "     |  \n",
      "     |  ----------------------------------------------------------------------\n",
      "     |  Data and other attributes defined here:\n",
      "     |  \n",
      "     |  __annotations__ = {'area': <class 'str'>, 'end_day': <class 'str'>, 's...\n",
      "     |  \n",
      "     |  __dataclass_fields__ = {'area': Field(name='area',type=<class 'str'>,d...\n",
      "     |  \n",
      "     |  __dataclass_params__ = _DataclassParams(init=True,repr=True,eq=True,or...\n",
      "     |  \n",
      "     |  __hash__ = None\n",
      "     |  \n",
      "     |  __match_args__ = ('area', 'start_day', 'end_day')\n",
      "    \n",
      "    class ShearWaterProcess(eocanvas.api.Process, ShearWaterParams)\n",
      "     |  ShearWaterProcess(area: str, start_day: str, end_day: str, api: 'Optional[API]' = None, process_id: 'Optional[str]' = None, version: 'Optional[str]' = None, title: 'Optional[str]' = None, description: 'Optional[str]' = None, inputs: 'Optional[Any]' = None, output: 'Optional[Union[str, Key]]' = None) -> None\n",
      "     |  \n",
      "     |  ShearWaterProcess(area: str, start_day: str, end_day: str, api: 'Optional[API]' = None, process_id: 'Optional[str]' = None, version: 'Optional[str]' = None, title: 'Optional[str]' = None, description: 'Optional[str]' = None, inputs: 'Optional[Any]' = None, output: 'Optional[Union[str, Key]]' = None)\n",
      "     |  \n",
      "     |  Method resolution order:\n",
      "     |      ShearWaterProcess\n",
      "     |      eocanvas.api.Process\n",
      "     |      ShearWaterParams\n",
      "     |      builtins.object\n",
      "     |  \n",
      "     |  Methods defined here:\n",
      "     |  \n",
      "     |  __eq__(self, other)\n",
      "     |      Return self==value.\n",
      "     |  \n",
      "     |  __init__(self, area: str, start_day: str, end_day: str, api: 'Optional[API]' = None, process_id: 'Optional[str]' = None, version: 'Optional[str]' = None, title: 'Optional[str]' = None, description: 'Optional[str]' = None, inputs: 'Optional[Any]' = None, output: 'Optional[Union[str, Key]]' = None) -> None\n",
      "     |      Initialize self.  See help(type(self)) for accurate signature.\n",
      "     |  \n",
      "     |  __post_init__(self)\n",
      "     |  \n",
      "     |  __repr__(self)\n",
      "     |      Return repr(self).\n",
      "     |  \n",
      "     |  prepare_inputs(self) -> Dict\n",
      "     |  \n",
      "     |  ----------------------------------------------------------------------\n",
      "     |  Data and other attributes defined here:\n",
      "     |  \n",
      "     |  __annotations__ = {}\n",
      "     |  \n",
      "     |  __dataclass_fields__ = {'api': Field(name='api',type='Optional[API]',d...\n",
      "     |  \n",
      "     |  __dataclass_params__ = _DataclassParams(init=True,repr=True,eq=True,or...\n",
      "     |  \n",
      "     |  __hash__ = None\n",
      "     |  \n",
      "     |  __match_args__ = ('area', 'start_day', 'end_day', 'api', 'process_id',...\n",
      "     |  \n",
      "     |  ----------------------------------------------------------------------\n",
      "     |  Methods inherited from eocanvas.api.Process:\n",
      "     |  \n",
      "     |  run(self, job: 'Optional[Job]' = None, download_dir: 'Optional[str]' = None, download: 'bool' = True)\n",
      "     |  \n",
      "     |  submit(self) -> 'Job'\n",
      "     |  \n",
      "     |  ----------------------------------------------------------------------\n",
      "     |  Data descriptors inherited from eocanvas.api.Process:\n",
      "     |  \n",
      "     |  __dict__\n",
      "     |      dictionary for instance variables (if defined)\n",
      "     |  \n",
      "     |  __weakref__\n",
      "     |      list of weak references to the object (if defined)\n",
      "     |  \n",
      "     |  ----------------------------------------------------------------------\n",
      "     |  Data and other attributes inherited from eocanvas.api.Process:\n",
      "     |  \n",
      "     |  api = None\n",
      "     |  \n",
      "     |  description = None\n",
      "     |  \n",
      "     |  inputs = None\n",
      "     |  \n",
      "     |  output = None\n",
      "     |  \n",
      "     |  process_id = None\n",
      "     |  \n",
      "     |  title = None\n",
      "     |  \n",
      "     |  version = None\n",
      "    \n",
      "    class SnapProcess(eocanvas.api.Process, _SnapParams)\n",
      "     |  SnapProcess(snap_graph: eocanvas.snap.graph.Graph, eo_input: List[eocanvas.api.Input] = <factory>, eo_config: List[eocanvas.api.Config] = <factory>, api: 'Optional[API]' = None, process_id: 'Optional[str]' = None, version: 'Optional[str]' = None, title: 'Optional[str]' = None, description: 'Optional[str]' = None, inputs: 'Optional[Any]' = None, output: 'Optional[Union[str, Key]]' = None) -> None\n",
      "     |  \n",
      "     |  SnapProcess(snap_graph: eocanvas.snap.graph.Graph, eo_input: List[eocanvas.api.Input] = <factory>, eo_config: List[eocanvas.api.Config] = <factory>, api: 'Optional[API]' = None, process_id: 'Optional[str]' = None, version: 'Optional[str]' = None, title: 'Optional[str]' = None, description: 'Optional[str]' = None, inputs: 'Optional[Any]' = None, output: 'Optional[Union[str, Key]]' = None)\n",
      "     |  \n",
      "     |  Method resolution order:\n",
      "     |      SnapProcess\n",
      "     |      eocanvas.api.Process\n",
      "     |      _SnapParams\n",
      "     |      builtins.object\n",
      "     |  \n",
      "     |  Methods defined here:\n",
      "     |  \n",
      "     |  __eq__(self, other)\n",
      "     |      Return self==value.\n",
      "     |  \n",
      "     |  __init__(self, snap_graph: eocanvas.snap.graph.Graph, eo_input: List[eocanvas.api.Input] = <factory>, eo_config: List[eocanvas.api.Config] = <factory>, api: 'Optional[API]' = None, process_id: 'Optional[str]' = None, version: 'Optional[str]' = None, title: 'Optional[str]' = None, description: 'Optional[str]' = None, inputs: 'Optional[Any]' = None, output: 'Optional[Union[str, Key]]' = None) -> None\n",
      "     |      Initialize self.  See help(type(self)) for accurate signature.\n",
      "     |  \n",
      "     |  __post_init__(self)\n",
      "     |  \n",
      "     |  __repr__(self)\n",
      "     |      Return repr(self).\n",
      "     |  \n",
      "     |  prepare_inputs(self) -> Dict\n",
      "     |  \n",
      "     |  ----------------------------------------------------------------------\n",
      "     |  Data and other attributes defined here:\n",
      "     |  \n",
      "     |  __annotations__ = {}\n",
      "     |  \n",
      "     |  __dataclass_fields__ = {'api': Field(name='api',type='Optional[API]',d...\n",
      "     |  \n",
      "     |  __dataclass_params__ = _DataclassParams(init=True,repr=True,eq=True,or...\n",
      "     |  \n",
      "     |  __hash__ = None\n",
      "     |  \n",
      "     |  __match_args__ = ('snap_graph', 'eo_input', 'eo_config', 'api', 'proce...\n",
      "     |  \n",
      "     |  ----------------------------------------------------------------------\n",
      "     |  Methods inherited from eocanvas.api.Process:\n",
      "     |  \n",
      "     |  run(self, job: 'Optional[Job]' = None, download_dir: 'Optional[str]' = None, download: 'bool' = True)\n",
      "     |  \n",
      "     |  submit(self) -> 'Job'\n",
      "     |  \n",
      "     |  ----------------------------------------------------------------------\n",
      "     |  Data descriptors inherited from eocanvas.api.Process:\n",
      "     |  \n",
      "     |  __dict__\n",
      "     |      dictionary for instance variables (if defined)\n",
      "     |  \n",
      "     |  __weakref__\n",
      "     |      list of weak references to the object (if defined)\n",
      "     |  \n",
      "     |  ----------------------------------------------------------------------\n",
      "     |  Data and other attributes inherited from eocanvas.api.Process:\n",
      "     |  \n",
      "     |  api = None\n",
      "     |  \n",
      "     |  description = None\n",
      "     |  \n",
      "     |  inputs = None\n",
      "     |  \n",
      "     |  output = None\n",
      "     |  \n",
      "     |  process_id = None\n",
      "     |  \n",
      "     |  title = None\n",
      "     |  \n",
      "     |  version = None\n",
      "\n",
      "DATA\n",
      "    Dict = typing.Dict\n",
      "        A generic version of dict.\n",
      "    \n",
      "    List = typing.List\n",
      "        A generic version of list.\n",
      "\n",
      "FILE\n",
      "    /opt/conda/envs/wekeolab/lib/python3.11/site-packages/eocanvas/processes.py\n",
      "\n",
      "\n"
     ]
    }
   ],
   "source": [
    "help(eocanvas.processes)"
   ]
  },
  {
   "cell_type": "code",
   "execution_count": null,
   "id": "83cd559e-7f3f-4723-b6da-9c5c7b2469b3",
   "metadata": {},
   "outputs": [],
   "source": []
  }
 ],
 "metadata": {
  "kernelspec": {
   "display_name": "wekeolab",
   "language": "python",
   "name": "wekeolab"
  },
  "language_info": {
   "codemirror_mode": {
    "name": "ipython",
    "version": 3
   },
   "file_extension": ".py",
   "mimetype": "text/x-python",
   "name": "python",
   "nbconvert_exporter": "python",
   "pygments_lexer": "ipython3",
   "version": "3.11.6"
  }
 },
 "nbformat": 4,
 "nbformat_minor": 5
}
