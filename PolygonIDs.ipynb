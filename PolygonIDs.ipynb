{
 "cells": [
  {
   "cell_type": "markdown",
   "id": "9a7ab78d-fcb9-4ffa-b1f9-72da3e4e5e4f",
   "metadata": {},
   "source": [
    "# Polygon IDs for C2RCC outputs\n",
    "\n",
    "The workflow used for C2RCC did not retain polygon IDs. This is needed for subsetting other data and matching to the corresponding C2RCC output. This notebook restores polygon IDs and saves the result as a JSON."
   ]
  },
  {
   "cell_type": "code",
   "execution_count": 11,
   "id": "47cb331f-6277-43a2-a2cd-b9a608f2e8cb",
   "metadata": {},
   "outputs": [],
   "source": [
    "import os"
   ]
  },
  {
   "cell_type": "code",
   "execution_count": 1,
   "id": "8ce1508e-2266-4946-bddb-184603f74b22",
   "metadata": {},
   "outputs": [],
   "source": [
    "import json"
   ]
  },
  {
   "cell_type": "code",
   "execution_count": 2,
   "id": "9e1416e1-75f1-4698-8284-d2bd32b58667",
   "metadata": {},
   "outputs": [],
   "source": [
    "import numpy as np"
   ]
  },
  {
   "cell_type": "code",
   "execution_count": 3,
   "id": "32c79a3b-2874-47b1-b013-58e4f15b3dbf",
   "metadata": {},
   "outputs": [],
   "source": [
    "import xarray as xr"
   ]
  },
  {
   "cell_type": "code",
   "execution_count": 5,
   "id": "cbe51d78-bd7f-4e85-ab44-6c3b27f053bc",
   "metadata": {},
   "outputs": [],
   "source": [
    "result_dir = \"result-{tileId}\""
   ]
  },
  {
   "cell_type": "code",
   "execution_count": 4,
   "id": "f9401c72-84a8-4e7f-a444-4dc0e6a905f8",
   "metadata": {},
   "outputs": [],
   "source": [
    "with open('AOIs.txt', 'r') as fp:\n",
    "    poly_dict = json.load(fp)"
   ]
  },
  {
   "cell_type": "markdown",
   "id": "f7292b78-6b4d-4a6b-b2fa-2fb22f435459",
   "metadata": {},
   "source": [
    "Group by tile."
   ]
  },
  {
   "cell_type": "code",
   "execution_count": 20,
   "id": "d9787961-0019-4dbf-a14a-0b81b5f3e448",
   "metadata": {},
   "outputs": [],
   "source": [
    "tile_polys = {}\n",
    "for k, v in poly_dict.items():\n",
    "    tileId = v['tileId']\n",
    "    geo_region = v['geoRegion']\n",
    "    geo_coords_str = geo_region[10:-2].replace(',', '').split()\n",
    "    geo_coords_np = np.array([float(geo_coords_str[0]), float(geo_coords_str[1]), float(geo_coords_str[2]), float(geo_coords_str[5])])\n",
    "\n",
    "    if tileId not in tile_polys:\n",
    "        tile_polys[tileId] = {}\n",
    "    tile_polys[tileId][k] = geo_coords_np"
   ]
  },
  {
   "cell_type": "code",
   "execution_count": 21,
   "id": "7c6307ab-c0f8-4195-b739-a78f4b185baa",
   "metadata": {
    "scrolled": true
   },
   "outputs": [
    {
     "data": {
      "text/plain": [
       "{'30UUA': {'2': array([-5.22444257, 49.9901843 , -4.88225479, 50.29003327]),\n",
       "  '3': array([-4.81917128, 50.19269224, -4.59558622, 50.40467681]),\n",
       "  '20': array([-5.7897289 , 49.9734232 , -5.3357743 , 50.27582106])},\n",
       " '30UVA': {'4': array([-4.32949749, 50.26538565, -4.02885352, 50.5075424 ]),\n",
       "  '6': array([-4.02836874, 50.14143345, -3.59050258, 50.34954708]),\n",
       "  '9': array([-3.70217003, 50.32171356, -3.4070158 , 50.54736093])},\n",
       " '30UVB': {'11': array([-4.42178593, 50.96017888, -3.80799343, 51.4427289 ]),\n",
       "  '12': array([-3.50331426, 50.55463065, -3.27987264, 50.71209921])},\n",
       " '30UWB': {'13': array([-2.09595764, 50.55849793, -1.71524861, 50.75094301]),\n",
       "  '16': array([-2.60528065, 50.55348792, -2.12042715, 50.6553193 ])},\n",
       " '30UXB': {'14': array([-1.58556407, 50.54458557, -0.64846788, 50.95668855])},\n",
       " '30UWC': {'15': array([-2.99680783, 51.4583999 , -2.60709778, 51.69910317])},\n",
       " '29UPR': {'17': array([-6.48086707, 49.81301712, -6.21948222, 50.02839047])},\n",
       " '30UUC': {'18': array([-5.80439836, 51.49305133, -4.45149348, 52.32141647])},\n",
       " '30UVC': {'19': array([-4.44365223, 51.49681989, -3.86086484, 51.82236179])},\n",
       " '31UCS': {'21': array([ 1.10125436, 50.94732407,  1.55028195, 51.43096547]),\n",
       "  '22': array([ 0.43671218, 51.28184468,  1.02698637, 51.43623009])},\n",
       " '31UCT': {'23': array([ 0.52676637, 51.46052368,  0.99557138, 51.79250276]),\n",
       "  '24': array([ 0.84043954, 51.69085094,  1.54449944, 52.18611236])},\n",
       " '31UCU': {'25': array([2.41899900e-02, 5.27671220e+01, 6.16844640e-01, 5.32230295e+01])},\n",
       " '30UXE': {'26': array([-8.99183150e-01,  5.34724285e+01, -8.24939000e-03,  5.38374264e+01])},\n",
       " '30UVD': {'27': array([-4.47852073, 52.34372453, -3.87976363, 53.04664288])},\n",
       " '30UUD': {'28': array([-4.85333229, 52.67694745, -4.48515088, 53.09334198])}}"
      ]
     },
     "execution_count": 21,
     "metadata": {},
     "output_type": "execute_result"
    }
   ],
   "source": [
    "tile_polys"
   ]
  },
  {
   "cell_type": "code",
   "execution_count": 10,
   "id": "50c98c3d-ba94-44b0-acb9-229f66f327e0",
   "metadata": {},
   "outputs": [],
   "source": [
    "def lse_match(coords, candidates):\n",
    "    lse = float('inf')\n",
    "    arg_lse = None\n",
    "    for k, v in candidates.items():\n",
    "        squared_error = np.sum(np.square(coords - v))\n",
    "        if squared_error < lse:\n",
    "            lse = squared_error\n",
    "            arg_lse = k\n",
    "    return arg_lse"
   ]
  },
  {
   "cell_type": "code",
   "execution_count": 26,
   "id": "6532ff8d-676a-4bb6-a2c9-59513b67617b",
   "metadata": {},
   "outputs": [],
   "source": [
    "match_dict = {}"
   ]
  },
  {
   "cell_type": "code",
   "execution_count": 28,
   "id": "c7faf61d-8da3-49c4-bf3c-e40b2731f71e",
   "metadata": {},
   "outputs": [],
   "source": [
    "for tileId in tile_polys:\n",
    "    tile_dir = result_dir.format(tileId=tileId)\n",
    "    if not os.path.isdir(tile_dir):\n",
    "        continue\n",
    "    match_dict[tileId] = {}\n",
    "    for fn in os.listdir(tile_dir):\n",
    "        fp = os.path.join(tile_dir, fn)\n",
    "        ds = xr.open_dataset(fp)\n",
    "        lon_min, lon_max = ds['lon'].min().values, ds['lon'].max().values\n",
    "        lat_min, lat_max = ds['lat'].min().values, ds['lat'].max().values\n",
    "        coords = np.array([lon_min, lat_min, lon_max, lat_max], dtype='float')\n",
    "        match_dict[tileId][fn] = lse_match(coords, tile_polys[tileId])"
   ]
  },
  {
   "cell_type": "code",
   "execution_count": 29,
   "id": "a828a54d-e3f6-4f41-801a-475a20071626",
   "metadata": {},
   "outputs": [
    {
     "data": {
      "text/plain": [
       "{'30UUA': {'e3fce0fc-ea1a-11ef-9325-6fcf289158b1.nc': '20',\n",
       "  '6ac9d8d0-ea19-11ef-a9e1-7657fa5eb4fd.nc': '2',\n",
       "  '34359ea2-ea1a-11ef-a9af-23bbe33726e1.nc': '3'},\n",
       " '30UVA': {'75c5bed4-ea1e-11ef-9cf8-4600521331d5.nc': '6',\n",
       "  'de5e89a4-ea1d-11ef-b169-26abf31e115f.nc': '4',\n",
       "  '57278f42-ea1f-11ef-93ee-f3b7cac66662.nc': '9'},\n",
       " '30UVB': {'17b7b57a-ea20-11ef-813e-0e5230ef6e9b.nc': '11'},\n",
       " '30UWB': {'4015b672-ea28-11ef-ac32-4f563a2ee88c.nc': '16',\n",
       "  '7da824c6-ea27-11ef-b74e-0bd1cabdfe55.nc': '13'},\n",
       " '30UXB': {'2161d2e6-ea29-11ef-baf8-7ed9f5863bda.nc': '14'},\n",
       " '30UWC': {'899d8506-ea2b-11ef-8ca5-f393179a2529.nc': '15'},\n",
       " '29UPR': {'778f88c2-ea2c-11ef-9f9b-e70fbe10fa11.nc': '17'},\n",
       " '30UUC': {},\n",
       " '30UVC': {'b4d35078-ea32-11ef-b40a-3e3203733142.nc': '19'},\n",
       " '31UCS': {'870cdad0-ea35-11ef-9e41-53315f7bea3a.nc': '22',\n",
       "  'e8d13a06-ea33-11ef-9eb5-e35bc30585dd.nc': '21'},\n",
       " '31UCT': {'447b05e2-ea36-11ef-8194-46dc650b0088.nc': '23',\n",
       "  '3b6c2098-ea37-11ef-b85b-c78422e5fb4a.nc': '24'},\n",
       " '31UCU': {'4a81170e-eaec-11ef-9ded-8ff76dfb2fd7.nc': '25'},\n",
       " '30UXE': {'d8d953da-eaed-11ef-86f9-3e82a77a3757.nc': '26'},\n",
       " '30UVD': {'ec664ccc-eaee-11ef-b567-ab8dba9b9ba2.nc': '27'},\n",
       " '30UUD': {'514f3bf6-eaf1-11ef-9903-fb39152a454a.nc': '28'}}"
      ]
     },
     "execution_count": 29,
     "metadata": {},
     "output_type": "execute_result"
    }
   ],
   "source": [
    "match_dict"
   ]
  },
  {
   "cell_type": "code",
   "execution_count": 30,
   "id": "8fb29d91-11a7-4436-b73c-4185439af5b8",
   "metadata": {},
   "outputs": [],
   "source": [
    "with open('AOI_Lookup.txt', 'w') as fp:\n",
    "    json.dump(match_dict, fp)"
   ]
  },
  {
   "cell_type": "code",
   "execution_count": null,
   "id": "5ef828d0-a3cd-4662-959d-dc2cbab0ed5c",
   "metadata": {},
   "outputs": [],
   "source": []
  }
 ],
 "metadata": {
  "kernelspec": {
   "display_name": "wekeolab",
   "language": "python",
   "name": "wekeolab"
  },
  "language_info": {
   "codemirror_mode": {
    "name": "ipython",
    "version": 3
   },
   "file_extension": ".py",
   "mimetype": "text/x-python",
   "name": "python",
   "nbconvert_exporter": "python",
   "pygments_lexer": "ipython3",
   "version": "3.11.6"
  }
 },
 "nbformat": 4,
 "nbformat_minor": 5
}
